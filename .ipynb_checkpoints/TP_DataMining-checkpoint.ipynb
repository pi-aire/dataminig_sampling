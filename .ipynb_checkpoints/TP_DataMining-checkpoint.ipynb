{
 "cells": [
  {
   "cell_type": "markdown",
   "metadata": {
    "id": "rT5_WhBiUnw6"
   },
   "source": [
    "# Échantillonnage direct de l'espace des motifs\n",
    "\n",
    "### BRUNEAU Richard - VASLIN Pierre\n",
    "\n",
    "\n",
    "\n"
   ]
  },
  {
   "cell_type": "code",
   "execution_count": 8,
   "metadata": {
    "id": "hfUuyvYBX6aH"
   },
   "outputs": [],
   "source": [
    "import numpy as np\n",
    "import scipy.special as sps\n",
    "import math\n",
    "import matplotlib\n",
    "import pandas as pd\n",
    "import random\n",
    "\n",
    "class DataSet():\n",
    "    def __init__(self,df:pd.DataFrame):\n",
    "        self.df = df\n",
    "        self.sizes = np.zeros(self.df.shape[0],dtype=int)\n",
    "        for i in range(self.df.shape[0]):\n",
    "            self.sizes[i] = self.df.iloc[i].count()\n",
    "        # Sizes est pour connaitre la taille d'une ligne en o(1)\n",
    "        # Pandas gère mal la variation du nombre de colonne dans une ligne dans un dataFrame, par concéquent \n",
    "        # il recalcul à chaque fois le nombre d'élément non null o(n)\n"
   ]
  },
  {
   "cell_type": "code",
   "execution_count": 9,
   "metadata": {
    "colab": {
     "base_uri": "https://localhost:8080/",
     "height": 204
    },
    "id": "gOavPKYmYF_A",
    "outputId": "2261f7eb-c140-40e7-a387-f68a1d6d7ef9"
   },
   "outputs": [
    {
     "data": {
      "text/html": [
       "<div>\n",
       "<style scoped>\n",
       "    .dataframe tbody tr th:only-of-type {\n",
       "        vertical-align: middle;\n",
       "    }\n",
       "\n",
       "    .dataframe tbody tr th {\n",
       "        vertical-align: top;\n",
       "    }\n",
       "\n",
       "    .dataframe thead th {\n",
       "        text-align: right;\n",
       "    }\n",
       "</style>\n",
       "<table border=\"1\" class=\"dataframe\">\n",
       "  <thead>\n",
       "    <tr style=\"text-align: right;\">\n",
       "      <th></th>\n",
       "      <th>0</th>\n",
       "      <th>1</th>\n",
       "      <th>2</th>\n",
       "      <th>3</th>\n",
       "      <th>4</th>\n",
       "      <th>5</th>\n",
       "      <th>6</th>\n",
       "      <th>7</th>\n",
       "      <th>8</th>\n",
       "      <th>9</th>\n",
       "      <th>...</th>\n",
       "      <th>27</th>\n",
       "      <th>28</th>\n",
       "      <th>29</th>\n",
       "      <th>30</th>\n",
       "      <th>31</th>\n",
       "      <th>32</th>\n",
       "      <th>33</th>\n",
       "      <th>34</th>\n",
       "      <th>35</th>\n",
       "      <th>36</th>\n",
       "    </tr>\n",
       "  </thead>\n",
       "  <tbody>\n",
       "    <tr>\n",
       "      <th>0</th>\n",
       "      <td>1</td>\n",
       "      <td>3</td>\n",
       "      <td>5</td>\n",
       "      <td>7</td>\n",
       "      <td>9</td>\n",
       "      <td>11</td>\n",
       "      <td>13</td>\n",
       "      <td>15</td>\n",
       "      <td>17</td>\n",
       "      <td>19</td>\n",
       "      <td>...</td>\n",
       "      <td>56</td>\n",
       "      <td>58</td>\n",
       "      <td>60</td>\n",
       "      <td>62</td>\n",
       "      <td>64</td>\n",
       "      <td>66</td>\n",
       "      <td>68</td>\n",
       "      <td>70</td>\n",
       "      <td>72</td>\n",
       "      <td>74</td>\n",
       "    </tr>\n",
       "    <tr>\n",
       "      <th>1</th>\n",
       "      <td>1</td>\n",
       "      <td>3</td>\n",
       "      <td>5</td>\n",
       "      <td>7</td>\n",
       "      <td>9</td>\n",
       "      <td>12</td>\n",
       "      <td>13</td>\n",
       "      <td>15</td>\n",
       "      <td>17</td>\n",
       "      <td>19</td>\n",
       "      <td>...</td>\n",
       "      <td>56</td>\n",
       "      <td>58</td>\n",
       "      <td>60</td>\n",
       "      <td>62</td>\n",
       "      <td>64</td>\n",
       "      <td>66</td>\n",
       "      <td>68</td>\n",
       "      <td>70</td>\n",
       "      <td>72</td>\n",
       "      <td>74</td>\n",
       "    </tr>\n",
       "    <tr>\n",
       "      <th>2</th>\n",
       "      <td>1</td>\n",
       "      <td>3</td>\n",
       "      <td>5</td>\n",
       "      <td>7</td>\n",
       "      <td>9</td>\n",
       "      <td>12</td>\n",
       "      <td>13</td>\n",
       "      <td>16</td>\n",
       "      <td>17</td>\n",
       "      <td>19</td>\n",
       "      <td>...</td>\n",
       "      <td>56</td>\n",
       "      <td>58</td>\n",
       "      <td>60</td>\n",
       "      <td>62</td>\n",
       "      <td>64</td>\n",
       "      <td>66</td>\n",
       "      <td>68</td>\n",
       "      <td>70</td>\n",
       "      <td>72</td>\n",
       "      <td>74</td>\n",
       "    </tr>\n",
       "    <tr>\n",
       "      <th>3</th>\n",
       "      <td>1</td>\n",
       "      <td>3</td>\n",
       "      <td>5</td>\n",
       "      <td>7</td>\n",
       "      <td>9</td>\n",
       "      <td>11</td>\n",
       "      <td>13</td>\n",
       "      <td>15</td>\n",
       "      <td>17</td>\n",
       "      <td>20</td>\n",
       "      <td>...</td>\n",
       "      <td>56</td>\n",
       "      <td>58</td>\n",
       "      <td>60</td>\n",
       "      <td>62</td>\n",
       "      <td>64</td>\n",
       "      <td>66</td>\n",
       "      <td>68</td>\n",
       "      <td>70</td>\n",
       "      <td>72</td>\n",
       "      <td>74</td>\n",
       "    </tr>\n",
       "    <tr>\n",
       "      <th>4</th>\n",
       "      <td>1</td>\n",
       "      <td>3</td>\n",
       "      <td>5</td>\n",
       "      <td>7</td>\n",
       "      <td>9</td>\n",
       "      <td>11</td>\n",
       "      <td>13</td>\n",
       "      <td>15</td>\n",
       "      <td>17</td>\n",
       "      <td>19</td>\n",
       "      <td>...</td>\n",
       "      <td>56</td>\n",
       "      <td>58</td>\n",
       "      <td>60</td>\n",
       "      <td>62</td>\n",
       "      <td>64</td>\n",
       "      <td>66</td>\n",
       "      <td>68</td>\n",
       "      <td>70</td>\n",
       "      <td>72</td>\n",
       "      <td>74</td>\n",
       "    </tr>\n",
       "  </tbody>\n",
       "</table>\n",
       "<p>5 rows × 37 columns</p>\n",
       "</div>"
      ],
      "text/plain": [
       "   0   1   2   3   4   5   6   7   8   9   ...  27  28  29  30  31  32  33  \\\n",
       "0   1   3   5   7   9  11  13  15  17  19  ...  56  58  60  62  64  66  68   \n",
       "1   1   3   5   7   9  12  13  15  17  19  ...  56  58  60  62  64  66  68   \n",
       "2   1   3   5   7   9  12  13  16  17  19  ...  56  58  60  62  64  66  68   \n",
       "3   1   3   5   7   9  11  13  15  17  20  ...  56  58  60  62  64  66  68   \n",
       "4   1   3   5   7   9  11  13  15  17  19  ...  56  58  60  62  64  66  68   \n",
       "\n",
       "   34  35  36  \n",
       "0  70  72  74  \n",
       "1  70  72  74  \n",
       "2  70  72  74  \n",
       "3  70  72  74  \n",
       "4  70  72  74  \n",
       "\n",
       "[5 rows x 37 columns]"
      ]
     },
     "execution_count": 9,
     "metadata": {},
     "output_type": "execute_result"
    }
   ],
   "source": [
    "# Le dataframe pour les tests\n",
    "df = pd.read_table(\"https://bitbucket.org/anesbendimerad/sigibbssamplingcode/raw/6699a50508fe177ee0c00dcc7d8e5390ee53688a/ItemsetDatasets/chess.txt\", sep=\" \",header=None)\n",
    "del df[37]\n",
    "ds = DataSet(df)\n",
    "ds.df.head()"
   ]
  },
  {
   "cell_type": "markdown",
   "metadata": {
    "id": "_BKmRcvRXodb"
   },
   "source": [
    "## Question 1"
   ]
  },
  {
   "cell_type": "code",
   "execution_count": 10,
   "metadata": {
    "id": "YjH1fyI4VEAd"
   },
   "outputs": [],
   "source": [
    "def algoFrequences(ds:DataSet,nb_pattern)-> tuple:\n",
    "  df = ds.df\n",
    "  sizes = ds.sizes\n",
    "  R = []\n",
    "  IsInR = set()\n",
    "  P: dict = dict()\n",
    "  w = np.zeros(df.shape[0])\n",
    "  totalW = 0\n",
    "    \n",
    "  # set les probas\n",
    "  for i in range(len(w)):\n",
    "    w[i] = math.pow(2,sizes[i])\n",
    "    totalW += w[i]\n",
    "  \n",
    "  # on selectionne \n",
    "  while len(R) < nb_pattern:\n",
    "    random_row = random.uniform(0,totalW)\n",
    "    # On cherche la ligne\n",
    "    row = 0\n",
    "    v = 0\n",
    "    for i in range(len(w)):\n",
    "      if  v > random_row:\n",
    "        row = i - 1\n",
    "        break\n",
    "      v += w[i]\n",
    "    # On selctionne un motif \n",
    "    pattern = np.array(df.iloc[row][:sizes[row]])\n",
    "    random_v = random.randint(1, len(pattern) - 1 )\n",
    "    for i in range(len(pattern)- random_v):\n",
    "      pattern = np.delete(pattern, random.randint(0, len(pattern) - 1 ))\n",
    "    # On ajoute seulement les motifs non présent dans l'ensemble R\n",
    "    IsInR.add(np.array2string(pattern))\n",
    "    if len(IsInR) != len(R):\n",
    "      R.append(pattern)\n",
    "  return R"
   ]
  },
  {
   "cell_type": "code",
   "execution_count": 11,
   "metadata": {
    "colab": {
     "base_uri": "https://localhost:8080/"
    },
    "id": "X_dlL3MrwwbC",
    "outputId": "0dde1ad1-8915-444f-ff22-2a79cba3d745"
   },
   "outputs": [
    {
     "data": {
      "text/plain": [
       "[array([ 1,  9, 12, 14, 17, 19, 21, 23, 25, 27, 31, 38, 40, 42, 44, 48, 56,\n",
       "        58, 64, 66, 68, 71, 72, 75], dtype=int64),\n",
       " array([ 5, 12, 18, 24, 25, 27, 31, 40, 42, 54, 60, 62, 66, 68, 70, 72],\n",
       "       dtype=int64),\n",
       " array([ 1,  3,  5,  7,  9, 12, 14, 15, 17, 19, 21, 23, 25, 27, 31, 34, 36,\n",
       "        38, 40, 42, 44, 46, 48, 50, 52, 54, 56, 58, 60, 62, 64, 66, 68, 71,\n",
       "        72, 74], dtype=int64),\n",
       " array([1, 7], dtype=int64),\n",
       " array([ 1,  3,  5, 11, 13, 15, 17, 19, 22, 23, 25, 29, 31, 34, 42, 46, 50,\n",
       "        52, 55, 56, 58, 60, 62, 64, 68], dtype=int64),\n",
       " array([ 1,  3,  5,  7, 11, 14, 15, 19, 21, 23, 25, 29, 31, 34, 36, 40, 42,\n",
       "        45, 48, 50, 52, 54, 56, 58, 62, 64, 66, 68, 70, 72, 75],\n",
       "       dtype=int64),\n",
       " array([ 1,  5,  7,  9, 12, 16, 17, 25, 28, 31, 34, 38, 40, 44, 51, 54, 56,\n",
       "        58, 60, 64, 68, 75], dtype=int64),\n",
       " array([ 2,  3,  5,  7,  9, 11, 17, 19, 22, 23, 25, 27, 29, 31, 34, 36, 38,\n",
       "        40, 42, 44, 46, 48, 51, 52, 55, 56, 58, 60, 62, 64, 66, 68, 70, 72,\n",
       "        74], dtype=int64),\n",
       " array([ 2,  5,  7,  9, 11, 13, 16, 18, 20, 24, 26, 31, 34, 36, 38, 40, 42,\n",
       "        44, 46, 49, 50, 52, 54, 56, 58, 60, 62, 64, 66, 69, 70, 73],\n",
       "       dtype=int64),\n",
       " array([ 3, 15, 21], dtype=int64)]"
      ]
     },
     "execution_count": 11,
     "metadata": {},
     "output_type": "execute_result"
    }
   ],
   "source": [
    "algoFrequences(ds,10)"
   ]
  },
  {
   "cell_type": "markdown",
   "metadata": {
    "id": "PM8vykS4XZmw"
   },
   "source": [
    "## Question 2"
   ]
  },
  {
   "cell_type": "code",
   "execution_count": 12,
   "metadata": {
    "id": "NJGeGtYlXfLJ"
   },
   "outputs": [],
   "source": [
    "def algoArea(ds:DataSet,nb_pattern)-> tuple:\n",
    "  df = ds.df\n",
    "  sizes = ds.sizes\n",
    "  R = []\n",
    "  IsInR = set()\n",
    "  \n",
    "  # set les probas\n",
    "  w = np.zeros(df[0].count())\n",
    "  totalW = 0\n",
    "  for i in range(1, len(w)):\n",
    "    w[i] = sizes[i] * (2 ** (sizes[i] - 1))\n",
    "    totalW += w[i]\n",
    "  \n",
    "  # on selectionne \n",
    "  while len(R) < nb_pattern:\n",
    "    # On cherche la ligne\n",
    "    random_row = random.uniform(0,totalW)\n",
    "    v, row = 0,0\n",
    "    for i in range(len(w)):\n",
    "      if v > random_row:\n",
    "        row = i - 1\n",
    "        break\n",
    "      v += w[i]\n",
    "      \n",
    "    # On set les probabilités de k (taille du motif)\n",
    "    # On souhaite que le sous-ensemble est une taille calculée \n",
    "    # proportionnellement avec les tailles des datarecords (ligne) \n",
    "    ks = np.zeros(int(sizes[row]))\n",
    "    totalK = 0\n",
    "    for i in range(len(ks)):\n",
    "        ks[i] = sps.binom(len(ks), i + 1)\n",
    "        totalK += ks[i]\n",
    "    #totalK = (len(ks) * (len(ks)+1))/2\n",
    "    random_kp = random.uniform(0, totalK)\n",
    "    # On cherche la ligne\n",
    "    k, v = 0,0\n",
    "    for i in range(len(ks)):\n",
    "      if v > random_kp:\n",
    "        k = i - 1\n",
    "        break\n",
    "      v += ks[i]\n",
    "    \n",
    "    pattern = np.array(df.iloc[row][:sizes[row]])\n",
    "    for i in range(len(pattern)- k):\n",
    "      pattern = np.delete(pattern, random.randint(0, len(pattern) - 1 ))\n",
    "    \n",
    "    # On ajoute seulement les motifs non présent dans l'ensemble R\n",
    "    IsInR.add(np.array2string(pattern))\n",
    "    if len(IsInR) != len(R):\n",
    "      R.append(pattern)\n",
    "  return R"
   ]
  },
  {
   "cell_type": "code",
   "execution_count": 13,
   "metadata": {
    "colab": {
     "base_uri": "https://localhost:8080/"
    },
    "id": "cBN3lSJzlpqx",
    "outputId": "25f47460-6203-4869-b317-e9627f042c14"
   },
   "outputs": [
    {
     "data": {
      "text/plain": [
       "[array([ 1,  3,  5,  7,  9, 11, 15, 21, 23, 25, 27, 29, 31, 34, 40, 50, 54,\n",
       "        58, 60, 62, 64, 68, 70], dtype=int64),\n",
       " array([ 1,  5,  7,  9, 13, 17, 19, 21, 27, 29, 34, 40, 42, 44, 50, 52, 56,\n",
       "        58, 60, 64, 70, 72, 74], dtype=int64),\n",
       " array([ 9, 11, 13, 15, 17, 21, 23, 27, 29, 34, 36, 38, 40, 44, 54, 56, 60,\n",
       "        62], dtype=int64),\n",
       " array([ 1,  5,  7,  9, 15, 19, 21, 27, 29, 36, 40, 42, 46, 54, 62, 66, 68],\n",
       "       dtype=int64),\n",
       " array([ 1,  7, 11, 19, 21, 23, 25, 29, 31, 34, 40, 44, 46, 48, 52, 54, 58,\n",
       "        66, 68, 70], dtype=int64),\n",
       " array([ 3,  5,  7, 11, 15, 17, 21, 23, 25, 29, 48, 54, 56, 58, 62, 64, 66,\n",
       "        72, 74], dtype=int64),\n",
       " array([ 5, 11, 13, 15, 17, 19, 23, 25, 29, 31, 34, 38, 40, 42, 46, 48, 56,\n",
       "        58, 64, 66, 68, 70, 72], dtype=int64),\n",
       " array([ 7, 11, 13, 15, 17, 21, 23, 25, 40, 42, 46, 52, 54, 60, 72],\n",
       "       dtype=int64),\n",
       " array([ 1,  5,  9, 17, 19, 21, 23, 27, 31, 36, 38, 40, 42, 46, 48, 52, 58,\n",
       "        62, 66, 68, 74], dtype=int64),\n",
       " array([ 1, 19, 23, 29, 31, 38, 50, 52, 54, 58, 64, 70], dtype=int64)]"
      ]
     },
     "execution_count": 13,
     "metadata": {},
     "output_type": "execute_result"
    }
   ],
   "source": [
    "algoArea(ds,10)"
   ]
  },
  {
   "cell_type": "markdown",
   "metadata": {
    "id": "DCp4sUmdXi7L"
   },
   "source": [
    "## Question 3"
   ]
  },
  {
   "cell_type": "code",
   "execution_count": 14,
   "metadata": {
    "id": "RtVA7H1OXhXs"
   },
   "outputs": [],
   "source": [
    "def frequences(ds, patterns):\n",
    "  df = ds.df\n",
    "  sizes = ds.sizes\n",
    "  frequencesP = np.zeros(len(patterns),dtype=float)\n",
    "  indexs = np.zeros(len(patterns),dtype=int)\n",
    "  lenPat = len(patterns)\n",
    "  for i in range(df.shape[0]):\n",
    "    indexs[True] = 0\n",
    "    for j in range(ds.sizes[i]):\n",
    "      for ip in range(lenPat):\n",
    "        if (len(patterns[ip])!= indexs[ip] and \n",
    "            df.iloc[i][j] == patterns[ip][indexs[ip]]):\n",
    "          indexs[ip] += 1\n",
    "          if len(patterns[ip]) == indexs[ip]:\n",
    "            frequencesP[ip] += 1.\n",
    "  for i in range(len(frequencesP)):\n",
    "    frequencesP[i] = (frequencesP[i])/float(df.shape[0])\n",
    "  return frequencesP"
   ]
  },
  {
   "cell_type": "code",
   "execution_count": 15,
   "metadata": {
    "id": "grB3Wa0XNvwo"
   },
   "outputs": [],
   "source": [
    "patterns = algoFrequences(ds,10)"
   ]
  },
  {
   "cell_type": "code",
   "execution_count": 16,
   "metadata": {
    "colab": {
     "base_uri": "https://localhost:8080/"
    },
    "id": "OyQcmwHAZdu-",
    "outputId": "fca91a17-37d9-44fb-c072-17608eb0caff",
    "scrolled": false
   },
   "outputs": [
    {
     "data": {
      "text/plain": [
       "array([0.00187735, 0.28911139, 0.00156446, 0.00031289, 0.00187735,\n",
       "       0.00375469, 0.00031289, 0.00062578, 0.0068836 , 0.00031289])"
      ]
     },
     "execution_count": 16,
     "metadata": {},
     "output_type": "execute_result"
    }
   ],
   "source": [
    "frequences(ds,patterns)"
   ]
  },
  {
   "cell_type": "code",
   "execution_count": 17,
   "metadata": {
    "id": "9V9aqi0Jtvcb"
   },
   "outputs": [],
   "source": [
    "def aire(ds, patterns):\n",
    "  df = ds.df\n",
    "  aireP = np.zeros(len(patterns),dtype=int)\n",
    "  indexs = np.zeros(len(patterns),dtype=int)\n",
    "  lenPat = len(patterns)\n",
    "  for i in range(df.shape[0]):\n",
    "    indexs[True] = 0\n",
    "    for j in range(ds.sizes[i]):\n",
    "      for ip in range(lenPat):\n",
    "        if (len(patterns[ip])!= indexs[ip] and \n",
    "            df.iloc[i][j] == patterns[ip][indexs[ip]]):\n",
    "          indexs[ip] += 1\n",
    "          if len(patterns[ip]) == indexs[ip]:\n",
    "            aireP[ip] += 1\n",
    "  for i in range(len(aireP)):\n",
    "    aireP[i] = aireP[i]*len(patterns[i])\n",
    "  return aireP"
   ]
  },
  {
   "cell_type": "code",
   "execution_count": 18,
   "metadata": {
    "id": "dY6ppMfqv-Fz"
   },
   "outputs": [],
   "source": [
    "patterns = algoArea(ds,10)"
   ]
  },
  {
   "cell_type": "code",
   "execution_count": 19,
   "metadata": {
    "colab": {
     "base_uri": "https://localhost:8080/"
    },
    "id": "3T9a2ONWuCJS",
    "outputId": "db2e563c-3fdf-4c15-aaf3-dce4a126f490"
   },
   "outputs": [
    {
     "data": {
      "text/plain": [
       "array([ 896, 1920, 1638,  680, 2482, 1344,  147, 1860,  416, 5488])"
      ]
     },
     "execution_count": 19,
     "metadata": {},
     "output_type": "execute_result"
    }
   ],
   "source": [
    "aire(ds,patterns)"
   ]
  },
  {
   "cell_type": "markdown",
   "metadata": {
    "id": "y_BCCw1aNJ8o"
   },
   "source": [
    "## Question 4"
   ]
  },
  {
   "cell_type": "markdown",
   "metadata": {
    "id": "pMYc_zX_oWIB"
   },
   "source": [
    "Nous allons maintenant tester nos algorithmes avec des jeux de données suggérés dans le sujet."
   ]
  },
  {
   "cell_type": "code",
   "execution_count": 20,
   "metadata": {
    "colab": {
     "base_uri": "https://localhost:8080/",
     "height": 204
    },
    "id": "lPYElfndNODK",
    "outputId": "09af6bad-133a-4bfe-8903-3cf3ef6c4b35"
   },
   "outputs": [
    {
     "data": {
      "text/html": [
       "<div>\n",
       "<style scoped>\n",
       "    .dataframe tbody tr th:only-of-type {\n",
       "        vertical-align: middle;\n",
       "    }\n",
       "\n",
       "    .dataframe tbody tr th {\n",
       "        vertical-align: top;\n",
       "    }\n",
       "\n",
       "    .dataframe thead th {\n",
       "        text-align: right;\n",
       "    }\n",
       "</style>\n",
       "<table border=\"1\" class=\"dataframe\">\n",
       "  <thead>\n",
       "    <tr style=\"text-align: right;\">\n",
       "      <th></th>\n",
       "      <th>0</th>\n",
       "      <th>1</th>\n",
       "      <th>2</th>\n",
       "      <th>3</th>\n",
       "      <th>4</th>\n",
       "      <th>5</th>\n",
       "      <th>6</th>\n",
       "      <th>7</th>\n",
       "      <th>8</th>\n",
       "      <th>9</th>\n",
       "      <th>...</th>\n",
       "      <th>27</th>\n",
       "      <th>28</th>\n",
       "      <th>29</th>\n",
       "      <th>30</th>\n",
       "      <th>31</th>\n",
       "      <th>32</th>\n",
       "      <th>33</th>\n",
       "      <th>34</th>\n",
       "      <th>35</th>\n",
       "      <th>36</th>\n",
       "    </tr>\n",
       "  </thead>\n",
       "  <tbody>\n",
       "    <tr>\n",
       "      <th>0</th>\n",
       "      <td>1</td>\n",
       "      <td>3</td>\n",
       "      <td>5</td>\n",
       "      <td>7</td>\n",
       "      <td>9</td>\n",
       "      <td>11</td>\n",
       "      <td>13</td>\n",
       "      <td>15</td>\n",
       "      <td>17</td>\n",
       "      <td>19</td>\n",
       "      <td>...</td>\n",
       "      <td>56</td>\n",
       "      <td>58</td>\n",
       "      <td>60</td>\n",
       "      <td>62</td>\n",
       "      <td>64</td>\n",
       "      <td>66</td>\n",
       "      <td>68</td>\n",
       "      <td>70</td>\n",
       "      <td>72</td>\n",
       "      <td>74</td>\n",
       "    </tr>\n",
       "    <tr>\n",
       "      <th>1</th>\n",
       "      <td>1</td>\n",
       "      <td>3</td>\n",
       "      <td>5</td>\n",
       "      <td>7</td>\n",
       "      <td>9</td>\n",
       "      <td>12</td>\n",
       "      <td>13</td>\n",
       "      <td>15</td>\n",
       "      <td>17</td>\n",
       "      <td>19</td>\n",
       "      <td>...</td>\n",
       "      <td>56</td>\n",
       "      <td>58</td>\n",
       "      <td>60</td>\n",
       "      <td>62</td>\n",
       "      <td>64</td>\n",
       "      <td>66</td>\n",
       "      <td>68</td>\n",
       "      <td>70</td>\n",
       "      <td>72</td>\n",
       "      <td>74</td>\n",
       "    </tr>\n",
       "    <tr>\n",
       "      <th>2</th>\n",
       "      <td>1</td>\n",
       "      <td>3</td>\n",
       "      <td>5</td>\n",
       "      <td>7</td>\n",
       "      <td>9</td>\n",
       "      <td>12</td>\n",
       "      <td>13</td>\n",
       "      <td>16</td>\n",
       "      <td>17</td>\n",
       "      <td>19</td>\n",
       "      <td>...</td>\n",
       "      <td>56</td>\n",
       "      <td>58</td>\n",
       "      <td>60</td>\n",
       "      <td>62</td>\n",
       "      <td>64</td>\n",
       "      <td>66</td>\n",
       "      <td>68</td>\n",
       "      <td>70</td>\n",
       "      <td>72</td>\n",
       "      <td>74</td>\n",
       "    </tr>\n",
       "    <tr>\n",
       "      <th>3</th>\n",
       "      <td>1</td>\n",
       "      <td>3</td>\n",
       "      <td>5</td>\n",
       "      <td>7</td>\n",
       "      <td>9</td>\n",
       "      <td>11</td>\n",
       "      <td>13</td>\n",
       "      <td>15</td>\n",
       "      <td>17</td>\n",
       "      <td>20</td>\n",
       "      <td>...</td>\n",
       "      <td>56</td>\n",
       "      <td>58</td>\n",
       "      <td>60</td>\n",
       "      <td>62</td>\n",
       "      <td>64</td>\n",
       "      <td>66</td>\n",
       "      <td>68</td>\n",
       "      <td>70</td>\n",
       "      <td>72</td>\n",
       "      <td>74</td>\n",
       "    </tr>\n",
       "    <tr>\n",
       "      <th>4</th>\n",
       "      <td>1</td>\n",
       "      <td>3</td>\n",
       "      <td>5</td>\n",
       "      <td>7</td>\n",
       "      <td>9</td>\n",
       "      <td>11</td>\n",
       "      <td>13</td>\n",
       "      <td>15</td>\n",
       "      <td>17</td>\n",
       "      <td>19</td>\n",
       "      <td>...</td>\n",
       "      <td>56</td>\n",
       "      <td>58</td>\n",
       "      <td>60</td>\n",
       "      <td>62</td>\n",
       "      <td>64</td>\n",
       "      <td>66</td>\n",
       "      <td>68</td>\n",
       "      <td>70</td>\n",
       "      <td>72</td>\n",
       "      <td>74</td>\n",
       "    </tr>\n",
       "  </tbody>\n",
       "</table>\n",
       "<p>5 rows × 37 columns</p>\n",
       "</div>"
      ],
      "text/plain": [
       "   0   1   2   3   4   5   6   7   8   9   ...  27  28  29  30  31  32  33  \\\n",
       "0   1   3   5   7   9  11  13  15  17  19  ...  56  58  60  62  64  66  68   \n",
       "1   1   3   5   7   9  12  13  15  17  19  ...  56  58  60  62  64  66  68   \n",
       "2   1   3   5   7   9  12  13  16  17  19  ...  56  58  60  62  64  66  68   \n",
       "3   1   3   5   7   9  11  13  15  17  20  ...  56  58  60  62  64  66  68   \n",
       "4   1   3   5   7   9  11  13  15  17  19  ...  56  58  60  62  64  66  68   \n",
       "\n",
       "   34  35  36  \n",
       "0  70  72  74  \n",
       "1  70  72  74  \n",
       "2  70  72  74  \n",
       "3  70  72  74  \n",
       "4  70  72  74  \n",
       "\n",
       "[5 rows x 37 columns]"
      ]
     },
     "execution_count": 20,
     "metadata": {},
     "output_type": "execute_result"
    }
   ],
   "source": [
    "dataset_1 = pd.read_table(\"https://bitbucket.org/anesbendimerad/sigibbssamplingcode/raw/6699a50508fe177ee0c00dcc7d8e5390ee53688a/ItemsetDatasets/chess.txt\", sep=\" \",header=None)\n",
    "del dataset_1[37]\n",
    "ds1 = DataSet(dataset_1)\n",
    "ds1.df.head()"
   ]
  },
  {
   "cell_type": "code",
   "execution_count": 21,
   "metadata": {
    "colab": {
     "base_uri": "https://localhost:8080/"
    },
    "id": "zSyBsDphWH37",
    "outputId": "d7501da0-beb6-4e17-b654-fd2a7f26a2e1"
   },
   "outputs": [
    {
     "data": {
      "text/plain": [
       "array([0.01971214, 0.01157697, 0.00031289, 0.077597  , 0.00531915,\n",
       "       0.18992491, 0.08479349, 0.00031289, 0.00031289, 0.00031289])"
      ]
     },
     "execution_count": 21,
     "metadata": {},
     "output_type": "execute_result"
    }
   ],
   "source": [
    "frequences(ds1,algoFrequences(ds1,10))"
   ]
  },
  {
   "cell_type": "code",
   "execution_count": 22,
   "metadata": {
    "colab": {
     "base_uri": "https://localhost:8080/"
    },
    "id": "dgGbMyEhdwrc",
    "outputId": "b22c12d5-1f77-4c1f-b0f0-826e1481a61a"
   },
   "outputs": [
    {
     "data": {
      "text/plain": [
       "array([ 885, 2436,  882, 7032,  260, 2844, 3670, 1296, 1520, 2178])"
      ]
     },
     "execution_count": 22,
     "metadata": {},
     "output_type": "execute_result"
    }
   ],
   "source": [
    "aire(ds1,algoArea(ds1,10))"
   ]
  },
  {
   "cell_type": "code",
   "execution_count": 23,
   "metadata": {
    "colab": {
     "base_uri": "https://localhost:8080/",
     "height": 256
    },
    "id": "wS8aFb5CnCcT",
    "outputId": "38e6d175-11d5-41f3-d3fd-b4dab6dac04b"
   },
   "outputs": [
    {
     "data": {
      "text/html": [
       "<div>\n",
       "<style scoped>\n",
       "    .dataframe tbody tr th:only-of-type {\n",
       "        vertical-align: middle;\n",
       "    }\n",
       "\n",
       "    .dataframe tbody tr th {\n",
       "        vertical-align: top;\n",
       "    }\n",
       "\n",
       "    .dataframe thead th {\n",
       "        text-align: right;\n",
       "    }\n",
       "</style>\n",
       "<table border=\"1\" class=\"dataframe\">\n",
       "  <thead>\n",
       "    <tr style=\"text-align: right;\">\n",
       "      <th></th>\n",
       "      <th>0</th>\n",
       "      <th>1</th>\n",
       "      <th>2</th>\n",
       "      <th>3</th>\n",
       "      <th>4</th>\n",
       "      <th>5</th>\n",
       "      <th>6</th>\n",
       "      <th>7</th>\n",
       "      <th>8</th>\n",
       "      <th>9</th>\n",
       "      <th>...</th>\n",
       "      <th>93</th>\n",
       "      <th>94</th>\n",
       "      <th>95</th>\n",
       "      <th>96</th>\n",
       "      <th>97</th>\n",
       "      <th>98</th>\n",
       "      <th>99</th>\n",
       "      <th>100</th>\n",
       "      <th>101</th>\n",
       "      <th>102</th>\n",
       "    </tr>\n",
       "  </thead>\n",
       "  <tbody>\n",
       "    <tr>\n",
       "      <th>0</th>\n",
       "      <td>1</td>\n",
       "      <td>-1</td>\n",
       "      <td>2</td>\n",
       "      <td>-1</td>\n",
       "      <td>3</td>\n",
       "      <td>-1</td>\n",
       "      <td>-2</td>\n",
       "      <td>None</td>\n",
       "      <td>None</td>\n",
       "      <td>None</td>\n",
       "      <td>...</td>\n",
       "      <td>None</td>\n",
       "      <td>None</td>\n",
       "      <td>None</td>\n",
       "      <td>None</td>\n",
       "      <td>None</td>\n",
       "      <td>None</td>\n",
       "      <td>None</td>\n",
       "      <td>None</td>\n",
       "      <td>None</td>\n",
       "      <td>None</td>\n",
       "    </tr>\n",
       "    <tr>\n",
       "      <th>1</th>\n",
       "      <td>1</td>\n",
       "      <td>-1</td>\n",
       "      <td>-2</td>\n",
       "      <td>None</td>\n",
       "      <td>None</td>\n",
       "      <td>None</td>\n",
       "      <td>None</td>\n",
       "      <td>None</td>\n",
       "      <td>None</td>\n",
       "      <td>None</td>\n",
       "      <td>...</td>\n",
       "      <td>None</td>\n",
       "      <td>None</td>\n",
       "      <td>None</td>\n",
       "      <td>None</td>\n",
       "      <td>None</td>\n",
       "      <td>None</td>\n",
       "      <td>None</td>\n",
       "      <td>None</td>\n",
       "      <td>None</td>\n",
       "      <td>None</td>\n",
       "    </tr>\n",
       "    <tr>\n",
       "      <th>2</th>\n",
       "      <td>4</td>\n",
       "      <td>-1</td>\n",
       "      <td>5</td>\n",
       "      <td>-1</td>\n",
       "      <td>6</td>\n",
       "      <td>-1</td>\n",
       "      <td>7</td>\n",
       "      <td>-1</td>\n",
       "      <td>-2</td>\n",
       "      <td>None</td>\n",
       "      <td>...</td>\n",
       "      <td>None</td>\n",
       "      <td>None</td>\n",
       "      <td>None</td>\n",
       "      <td>None</td>\n",
       "      <td>None</td>\n",
       "      <td>None</td>\n",
       "      <td>None</td>\n",
       "      <td>None</td>\n",
       "      <td>None</td>\n",
       "      <td>None</td>\n",
       "    </tr>\n",
       "    <tr>\n",
       "      <th>3</th>\n",
       "      <td>1</td>\n",
       "      <td>-1</td>\n",
       "      <td>8</td>\n",
       "      <td>-1</td>\n",
       "      <td>-2</td>\n",
       "      <td>None</td>\n",
       "      <td>None</td>\n",
       "      <td>None</td>\n",
       "      <td>None</td>\n",
       "      <td>None</td>\n",
       "      <td>...</td>\n",
       "      <td>None</td>\n",
       "      <td>None</td>\n",
       "      <td>None</td>\n",
       "      <td>None</td>\n",
       "      <td>None</td>\n",
       "      <td>None</td>\n",
       "      <td>None</td>\n",
       "      <td>None</td>\n",
       "      <td>None</td>\n",
       "      <td>None</td>\n",
       "    </tr>\n",
       "    <tr>\n",
       "      <th>4</th>\n",
       "      <td>9</td>\n",
       "      <td>-1</td>\n",
       "      <td>10</td>\n",
       "      <td>-1</td>\n",
       "      <td>-2</td>\n",
       "      <td>None</td>\n",
       "      <td>None</td>\n",
       "      <td>None</td>\n",
       "      <td>None</td>\n",
       "      <td>None</td>\n",
       "      <td>...</td>\n",
       "      <td>None</td>\n",
       "      <td>None</td>\n",
       "      <td>None</td>\n",
       "      <td>None</td>\n",
       "      <td>None</td>\n",
       "      <td>None</td>\n",
       "      <td>None</td>\n",
       "      <td>None</td>\n",
       "      <td>None</td>\n",
       "      <td>None</td>\n",
       "    </tr>\n",
       "  </tbody>\n",
       "</table>\n",
       "<p>5 rows × 103 columns</p>\n",
       "</div>"
      ],
      "text/plain": [
       "  0   1   2     3     4     5     6     7     8     9    ...   93    94   \\\n",
       "0   1  -1   2    -1     3    -1    -2  None  None  None  ...  None  None   \n",
       "1   1  -1  -2  None  None  None  None  None  None  None  ...  None  None   \n",
       "2   4  -1   5    -1     6    -1     7    -1    -2  None  ...  None  None   \n",
       "3   1  -1   8    -1    -2  None  None  None  None  None  ...  None  None   \n",
       "4   9  -1  10    -1    -2  None  None  None  None  None  ...  None  None   \n",
       "\n",
       "    95    96    97    98    99    100   101   102  \n",
       "0  None  None  None  None  None  None  None  None  \n",
       "1  None  None  None  None  None  None  None  None  \n",
       "2  None  None  None  None  None  None  None  None  \n",
       "3  None  None  None  None  None  None  None  None  \n",
       "4  None  None  None  None  None  None  None  None  \n",
       "\n",
       "[5 rows x 103 columns]"
      ]
     },
     "execution_count": 23,
     "metadata": {},
     "output_type": "execute_result"
    }
   ],
   "source": [
    "dataset_2 = pd.read_fwf(\"https://www.philippe-fournier-viger.com/spmf/datasets/kosarak_sequences.txt\", sep=\" \",header=None,)\n",
    "dataset_2 = dataset_2[0].str.split(' ', expand=True)\n",
    "ds2 = DataSet(dataset_2)\n",
    "ds2.df.head()"
   ]
  },
  {
   "cell_type": "code",
   "execution_count": null,
   "metadata": {},
   "outputs": [],
   "source": [
    "frequences(ds2, algoFrequences(ds2, 10))"
   ]
  },
  {
   "cell_type": "code",
   "execution_count": null,
   "metadata": {
    "id": "MKExB93DglNw"
   },
   "outputs": [],
   "source": [
    "aire(ds2, algoArea(ds2, 10))"
   ]
  },
  {
   "cell_type": "code",
   "execution_count": null,
   "metadata": {
    "colab": {
     "base_uri": "https://localhost:8080/",
     "height": 224
    },
    "id": "F6zVzfLyn17x",
    "outputId": "4e4c2d68-2406-42ce-fd2d-0b32b4230b9f"
   },
   "outputs": [],
   "source": [
    "dataset_3 = pd.read_fwf(\"https://www.philippe-fournier-viger.com/spmf/datasets/MSNBC.txt\", sep=\" \",header=None,)\n",
    "dataset_3 = dataset_3[0].str.split(' ', expand=True)\n",
    "ds3 = DataSet(dataset_3)\n",
    "ds3.df.head()"
   ]
  },
  {
   "cell_type": "code",
   "execution_count": null,
   "metadata": {
    "id": "iebgDSj-g_Sc"
   },
   "outputs": [],
   "source": [
    "frequences(ds3, algoFrequences(ds3, 10))"
   ]
  },
  {
   "cell_type": "code",
   "execution_count": null,
   "metadata": {
    "colab": {
     "background_save": true
    },
    "id": "a8yQl5LhhGan",
    "outputId": "f555bb03-cedc-49b7-a62e-6d5714c1fc69"
   },
   "outputs": [],
   "source": [
    "aire(ds3, algoArea(ds3,10))"
   ]
  },
  {
   "cell_type": "code",
   "execution_count": null,
   "metadata": {
    "colab": {
     "base_uri": "https://localhost:8080/"
    },
    "id": "gIPlVPxaoFeY",
    "outputId": "7b1973c6-afdb-4f4d-9eb4-42a181d87b84",
    "scrolled": true
   },
   "outputs": [],
   "source": [
    "dataset_4 = pd.read_fwf(\"https://www.philippe-fournier-viger.com/spmf/datasets/BIBLE.txt\", sep=\" \",header=None,)\n",
    "dataset_4 = dataset_4[0].str.split(' ', expand=True)\n",
    "ds4 = DataSet(dataset_4)\n",
    "ds4.df.head()"
   ]
  },
  {
   "cell_type": "code",
   "execution_count": null,
   "metadata": {
    "id": "vKxUZfCtqubj",
    "scrolled": true
   },
   "outputs": [],
   "source": [
    "frequences(ds4, algoFrequences(ds4, 10))"
   ]
  },
  {
   "cell_type": "code",
   "execution_count": null,
   "metadata": {
    "id": "ekQ5pTzNq0i2"
   },
   "outputs": [],
   "source": [
    "aire(ds4, algoArea(ds4,10))"
   ]
  },
  {
   "cell_type": "markdown",
   "metadata": {
    "id": "D1uaF6e5pVd2"
   },
   "source": [
    "## Question 5"
   ]
  },
  {
   "cell_type": "markdown",
   "metadata": {
    "id": "OHirqdUqpZEm"
   },
   "source": [
    "### Etude emprique"
   ]
  },
  {
   "cell_type": "markdown",
   "metadata": {
    "id": "WAD_a5--AhBP"
   },
   "source": [
    "Nous allons étudier les dataset ci-dessus.\n",
    "\n",
    "### Dataset n°1"
   ]
  },
  {
   "cell_type": "markdown",
   "metadata": {
    "id": "ydH_ZSgkBsmS"
   },
   "source": [
    "#### Algorithme de fréquence\n"
   ]
  },
  {
   "cell_type": "markdown",
   "metadata": {
    "id": "WMAb7KByA3CE"
   },
   "source": [
    "Dans un premier temps, nous allons executer l'algorithme de la fréquence et chercher à obtenir 5 échantillons."
   ]
  },
  {
   "cell_type": "code",
   "execution_count": null,
   "metadata": {
    "colab": {
     "base_uri": "https://localhost:8080/"
    },
    "id": "ccyKbbVRAwl6",
    "outputId": "765b523f-2e46-40e5-889f-80765e659127"
   },
   "outputs": [],
   "source": [
    "echantillons = algoFrequences(ds1, 5)\n",
    "print(echantillons)"
   ]
  },
  {
   "cell_type": "markdown",
   "metadata": {
    "id": "iaC_1QKKBlPb"
   },
   "source": [
    "Nous obtenons donc nos 5 motifs que nous allons analyser avec la fonction implémentées à la question 3"
   ]
  },
  {
   "cell_type": "code",
   "execution_count": null,
   "metadata": {
    "colab": {
     "base_uri": "https://localhost:8080/"
    },
    "id": "DgqpJxg8BkwH",
    "outputId": "311b25fc-ebf6-4a2e-9fbe-da01820f5f88"
   },
   "outputs": [],
   "source": [
    "frequences(ds1, algoFrequences(ds1, 5))"
   ]
  },
  {
   "cell_type": "markdown",
   "metadata": {
    "id": "cb1rrE2JpwWi"
   },
   "source": [
    "## Question 6"
   ]
  },
  {
   "cell_type": "markdown",
   "metadata": {
    "id": "qbmQBuMFscQC"
   },
   "source": [
    "On a constaté que lorsque l'on avait une ligne beaucoup plus grande que les autres, les algorithmes de fréquence et d'aire favorisent la ligne la plus grande pour créer des motifs. On souhaite trouver des motifs fréquents, donc on souhaite éviter des motifs qui s'applique seulement dans des grandes lignes. Nous avons trouver trois solutions:\n",
    "\n",
    "*   Supprimer les grandes lignes du dataset\n",
    "*   Réduire la taille des grandes lignes\n",
    "*   Modifier le poids accorder à la ligne la plus grande\n"
   ]
  },
  {
   "cell_type": "code",
   "execution_count": null,
   "metadata": {
    "id": "gnCJcK6EpzfI"
   },
   "outputs": [],
   "source": [
    "dsetGL = pd.read_fwf(\"https://www.philippe-fournier-viger.com/spmf/datasets/kosarak_sequences.txt\", sep=\" \",header=None,)\n",
    "df_gl= dsetGL[0].str.split(' ', expand=True)\n",
    "ds_gl = DataSet(df_gl)\n",
    "ds_gl.df.head()"
   ]
  },
  {
   "cell_type": "markdown",
   "metadata": {
    "id": "pUPGML_e0P3n"
   },
   "source": [
    "## Cas où le dataset est chargé dans un df\n",
    "On va calculer la moyenne du nombre d'item par ligne et en fonction de cela on suprimera les colonnes supérieurs à la taille moyenne du nombre d'item/ligne\n",
    "On ne regarde pas toute les lignes on en regarde que 40% (on pourras changer)"
   ]
  },
  {
   "cell_type": "code",
   "execution_count": null,
   "metadata": {
    "colab": {
     "base_uri": "https://localhost:8080/"
    },
    "id": "sTHpqbKq3eBP",
    "outputId": "5f49c271-5cf3-48ad-cb7a-c3b7ca059980"
   },
   "outputs": [],
   "source": [
    "ds_gl.df.shape"
   ]
  },
  {
   "cell_type": "code",
   "execution_count": null,
   "metadata": {
    "id": "x68bs1ADzJG9"
   },
   "outputs": [],
   "source": [
    "def resizeDataSet(ds,percentage):\n",
    "  df = ds.df\n",
    "  shape = ds.df.shape\n",
    "  sum = 0\n",
    "  #for index, row in df.iterrows():\n",
    "  for _ in range(int(shape[0]*percentage)):\n",
    "    #if random.uniform(0.,100.) < 5.:\n",
    "    sum += shape[1] - ds.sizes[random.randint(0,shape[0]-1)]\n",
    "  mean = sum/(shape[0]*percentage)\n",
    "  for i in range(shape[1]-1,int(mean),-1):\n",
    "    del df[i]\n",
    "  for i in range(shape[0]):\n",
    "    if ds.sizes[i] > mean:\n",
    "        ds.sizes[i] = math.ceil(mean)\n",
    "  return df"
   ]
  },
  {
   "cell_type": "code",
   "execution_count": null,
   "metadata": {
    "colab": {
     "base_uri": "https://localhost:8080/",
     "height": 424
    },
    "id": "zz-j87LP5sVr",
    "outputId": "5b060021-bcb9-43c0-80c0-659f1befeabc"
   },
   "outputs": [],
   "source": [
    "resizeDataSet(ds_gl,0.4)\n",
    "ds_gl.df.shape"
   ]
  },
  {
   "cell_type": "markdown",
   "metadata": {
    "id": "ykMFpM-61PFD"
   },
   "source": [
    "## Troisième solution\n",
    "Text  a mettre richard"
   ]
  },
  {
   "cell_type": "markdown",
   "metadata": {
    "id": "wKsRsyXmQtye"
   },
   "source": [
    "Dans cette troisième approche, on va faire une moyenne mobile de la valeur de poid\n",
    "\n",
    "[Info pour blabla](https://www.educatim.fr/tq/co/Module_TQ_web/co/moyenne_glissante.html)"
   ]
  },
  {
   "cell_type": "code",
   "execution_count": null,
   "metadata": {
    "id": "D24SfrAUYUj7"
   },
   "outputs": [],
   "source": [
    "def algoFrequencesSolutionA(ds,nb_pattern)-> tuple:\n",
    "  df = ds.df\n",
    "  sizes = ds.sizes\n",
    "  R = []\n",
    "  IsInR = set()\n",
    "  P: dict = dict()\n",
    "  w = np.zeros(df.shape[0])\n",
    "  totalW = 0\n",
    "    \n",
    "  # set les probas\n",
    "  for i in range(len(w)):\n",
    "    w[i] = math.pow(2,sizes[i])\n",
    "    if i >= 2:\n",
    "      w[i] = (w[i] + w[i-1] + w[i-2])/ 3\n",
    "    totalW += w[i]\n",
    "  \n",
    "  # on selectionne \n",
    "  while len(R) < nb_pattern:\n",
    "    random_row = random.uniform(0,totalW)\n",
    "    # On cherche la ligne\n",
    "    row = 0\n",
    "    v = 0\n",
    "    for i in range(len(w)):\n",
    "      if  v > random_row:\n",
    "        row = i - 1\n",
    "        break\n",
    "      v += w[i]\n",
    "    # On selctionne un motif \n",
    "    pattern = np.array(df.iloc[row][:sizes[row]])\n",
    "    random_v = random.randint(1, len(pattern) - 1 )\n",
    "    for i in range(len(pattern)- random_v):\n",
    "      pattern = np.delete(pattern, random.randint(0, len(pattern) - 1 ))\n",
    "    # On ajoute seulement les motifs non présent dans l'ensemble R\n",
    "    IsInR.add(np.array2string(pattern))\n",
    "    if len(IsInR) != len(R):\n",
    "      R.append(pattern)\n",
    "  return R"
   ]
  },
  {
   "cell_type": "code",
   "execution_count": null,
   "metadata": {
    "id": "cpKfHwKxoIq8"
   },
   "outputs": [],
   "source": [
    "patterns = algoFrequencesSolutionA(ds_gl,10)\n",
    "frequences(ds,patterns)"
   ]
  }
 ],
 "metadata": {
  "colab": {
   "collapsed_sections": [],
   "include_colab_link": true,
   "name": "TP_DataMining",
   "provenance": []
  },
  "kernelspec": {
   "display_name": "Python 3",
   "language": "python",
   "name": "python3"
  },
  "language_info": {
   "codemirror_mode": {
    "name": "ipython",
    "version": 3
   },
   "file_extension": ".py",
   "mimetype": "text/x-python",
   "name": "python",
   "nbconvert_exporter": "python",
   "pygments_lexer": "ipython3",
   "version": "3.8.6"
  }
 },
 "nbformat": 4,
 "nbformat_minor": 1
}
