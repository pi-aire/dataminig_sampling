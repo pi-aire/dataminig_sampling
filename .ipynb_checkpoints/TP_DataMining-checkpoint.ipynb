{
 "cells": [
  {
   "cell_type": "markdown",
   "metadata": {
    "id": "rT5_WhBiUnw6"
   },
   "source": [
    "# Échantillonnage direct de l'espace des motifs\n",
    "\n",
    "### BRUNEAU Richard - VASLIN Pierre\n",
    "\n",
    "\n",
    "\n"
   ]
  },
  {
   "cell_type": "code",
   "execution_count": 54,
   "metadata": {
    "id": "hfUuyvYBX6aH"
   },
   "outputs": [],
   "source": [
    "import numpy as np\n",
    "import scipy.special as sps\n",
    "import math\n",
    "import matplotlib\n",
    "import pandas as pd\n",
    "import random\n",
    "\n",
    "class DataSet():\n",
    "    def __init__(self,df:pd.DataFrame):\n",
    "        self.df = df\n",
    "        self.sizes = np.zeros(self.df.shape[0],dtype=int)\n",
    "        for i in range(self.df.shape[0]):\n",
    "            self.sizes[i] = self.df.iloc[i].count()\n",
    "        # Sizes est pour connaitre la taille d'une ligne en o(1)\n",
    "        # Pandas gère mal la variation du nombre de colonne dans une ligne dans un dataFrame, par concéquent \n",
    "        # il recalcul à chaque fois le nombre d'élément non null o(n)\n"
   ]
  },
  {
   "cell_type": "code",
   "execution_count": 55,
   "metadata": {
    "colab": {
     "base_uri": "https://localhost:8080/",
     "height": 204
    },
    "id": "gOavPKYmYF_A",
    "outputId": "2261f7eb-c140-40e7-a387-f68a1d6d7ef9"
   },
   "outputs": [
    {
     "data": {
      "text/html": [
       "<div>\n",
       "<style scoped>\n",
       "    .dataframe tbody tr th:only-of-type {\n",
       "        vertical-align: middle;\n",
       "    }\n",
       "\n",
       "    .dataframe tbody tr th {\n",
       "        vertical-align: top;\n",
       "    }\n",
       "\n",
       "    .dataframe thead th {\n",
       "        text-align: right;\n",
       "    }\n",
       "</style>\n",
       "<table border=\"1\" class=\"dataframe\">\n",
       "  <thead>\n",
       "    <tr style=\"text-align: right;\">\n",
       "      <th></th>\n",
       "      <th>0</th>\n",
       "      <th>1</th>\n",
       "      <th>2</th>\n",
       "      <th>3</th>\n",
       "      <th>4</th>\n",
       "      <th>5</th>\n",
       "      <th>6</th>\n",
       "      <th>7</th>\n",
       "      <th>8</th>\n",
       "      <th>9</th>\n",
       "      <th>...</th>\n",
       "      <th>27</th>\n",
       "      <th>28</th>\n",
       "      <th>29</th>\n",
       "      <th>30</th>\n",
       "      <th>31</th>\n",
       "      <th>32</th>\n",
       "      <th>33</th>\n",
       "      <th>34</th>\n",
       "      <th>35</th>\n",
       "      <th>36</th>\n",
       "    </tr>\n",
       "  </thead>\n",
       "  <tbody>\n",
       "    <tr>\n",
       "      <th>0</th>\n",
       "      <td>1</td>\n",
       "      <td>3</td>\n",
       "      <td>5</td>\n",
       "      <td>7</td>\n",
       "      <td>9</td>\n",
       "      <td>11</td>\n",
       "      <td>13</td>\n",
       "      <td>15</td>\n",
       "      <td>17</td>\n",
       "      <td>19</td>\n",
       "      <td>...</td>\n",
       "      <td>56</td>\n",
       "      <td>58</td>\n",
       "      <td>60</td>\n",
       "      <td>62</td>\n",
       "      <td>64</td>\n",
       "      <td>66</td>\n",
       "      <td>68</td>\n",
       "      <td>70</td>\n",
       "      <td>72</td>\n",
       "      <td>74</td>\n",
       "    </tr>\n",
       "    <tr>\n",
       "      <th>1</th>\n",
       "      <td>1</td>\n",
       "      <td>3</td>\n",
       "      <td>5</td>\n",
       "      <td>7</td>\n",
       "      <td>9</td>\n",
       "      <td>12</td>\n",
       "      <td>13</td>\n",
       "      <td>15</td>\n",
       "      <td>17</td>\n",
       "      <td>19</td>\n",
       "      <td>...</td>\n",
       "      <td>56</td>\n",
       "      <td>58</td>\n",
       "      <td>60</td>\n",
       "      <td>62</td>\n",
       "      <td>64</td>\n",
       "      <td>66</td>\n",
       "      <td>68</td>\n",
       "      <td>70</td>\n",
       "      <td>72</td>\n",
       "      <td>74</td>\n",
       "    </tr>\n",
       "    <tr>\n",
       "      <th>2</th>\n",
       "      <td>1</td>\n",
       "      <td>3</td>\n",
       "      <td>5</td>\n",
       "      <td>7</td>\n",
       "      <td>9</td>\n",
       "      <td>12</td>\n",
       "      <td>13</td>\n",
       "      <td>16</td>\n",
       "      <td>17</td>\n",
       "      <td>19</td>\n",
       "      <td>...</td>\n",
       "      <td>56</td>\n",
       "      <td>58</td>\n",
       "      <td>60</td>\n",
       "      <td>62</td>\n",
       "      <td>64</td>\n",
       "      <td>66</td>\n",
       "      <td>68</td>\n",
       "      <td>70</td>\n",
       "      <td>72</td>\n",
       "      <td>74</td>\n",
       "    </tr>\n",
       "    <tr>\n",
       "      <th>3</th>\n",
       "      <td>1</td>\n",
       "      <td>3</td>\n",
       "      <td>5</td>\n",
       "      <td>7</td>\n",
       "      <td>9</td>\n",
       "      <td>11</td>\n",
       "      <td>13</td>\n",
       "      <td>15</td>\n",
       "      <td>17</td>\n",
       "      <td>20</td>\n",
       "      <td>...</td>\n",
       "      <td>56</td>\n",
       "      <td>58</td>\n",
       "      <td>60</td>\n",
       "      <td>62</td>\n",
       "      <td>64</td>\n",
       "      <td>66</td>\n",
       "      <td>68</td>\n",
       "      <td>70</td>\n",
       "      <td>72</td>\n",
       "      <td>74</td>\n",
       "    </tr>\n",
       "    <tr>\n",
       "      <th>4</th>\n",
       "      <td>1</td>\n",
       "      <td>3</td>\n",
       "      <td>5</td>\n",
       "      <td>7</td>\n",
       "      <td>9</td>\n",
       "      <td>11</td>\n",
       "      <td>13</td>\n",
       "      <td>15</td>\n",
       "      <td>17</td>\n",
       "      <td>19</td>\n",
       "      <td>...</td>\n",
       "      <td>56</td>\n",
       "      <td>58</td>\n",
       "      <td>60</td>\n",
       "      <td>62</td>\n",
       "      <td>64</td>\n",
       "      <td>66</td>\n",
       "      <td>68</td>\n",
       "      <td>70</td>\n",
       "      <td>72</td>\n",
       "      <td>74</td>\n",
       "    </tr>\n",
       "  </tbody>\n",
       "</table>\n",
       "<p>5 rows × 37 columns</p>\n",
       "</div>"
      ],
      "text/plain": [
       "   0   1   2   3   4   5   6   7   8   9   ...  27  28  29  30  31  32  33  \\\n",
       "0   1   3   5   7   9  11  13  15  17  19  ...  56  58  60  62  64  66  68   \n",
       "1   1   3   5   7   9  12  13  15  17  19  ...  56  58  60  62  64  66  68   \n",
       "2   1   3   5   7   9  12  13  16  17  19  ...  56  58  60  62  64  66  68   \n",
       "3   1   3   5   7   9  11  13  15  17  20  ...  56  58  60  62  64  66  68   \n",
       "4   1   3   5   7   9  11  13  15  17  19  ...  56  58  60  62  64  66  68   \n",
       "\n",
       "   34  35  36  \n",
       "0  70  72  74  \n",
       "1  70  72  74  \n",
       "2  70  72  74  \n",
       "3  70  72  74  \n",
       "4  70  72  74  \n",
       "\n",
       "[5 rows x 37 columns]"
      ]
     },
     "execution_count": 55,
     "metadata": {},
     "output_type": "execute_result"
    }
   ],
   "source": [
    "# Le dataframe pour les tests\n",
    "df = pd.read_table(\"https://bitbucket.org/anesbendimerad/sigibbssamplingcode/raw/6699a50508fe177ee0c00dcc7d8e5390ee53688a/ItemsetDatasets/chess.txt\", sep=\" \",header=None)\n",
    "del df[37]\n",
    "ds = DataSet(df)\n",
    "ds.df.head()"
   ]
  },
  {
   "cell_type": "markdown",
   "metadata": {
    "id": "_BKmRcvRXodb"
   },
   "source": [
    "## Question 1"
   ]
  },
  {
   "cell_type": "code",
   "execution_count": 56,
   "metadata": {
    "id": "YjH1fyI4VEAd"
   },
   "outputs": [],
   "source": [
    "def algoFrequences(ds:DataSet,nb_pattern)-> tuple:\n",
    "  df = ds.df\n",
    "  sizes = ds.sizes\n",
    "  R = []\n",
    "  IsInR = set()\n",
    "  P: dict = dict()\n",
    "  w = np.zeros(df.shape[0])\n",
    "  totalW = 0\n",
    "    \n",
    "  # set les probas\n",
    "  for i in range(len(w)):\n",
    "    w[i] = math.pow(2,sizes[i])\n",
    "    totalW += w[i]\n",
    "  \n",
    "  # on selectionne \n",
    "  while len(R) < nb_pattern:\n",
    "    random_row = random.uniform(0,totalW)\n",
    "    # On cherche la ligne\n",
    "    row = 0\n",
    "    v = 0\n",
    "    for i in range(len(w)):\n",
    "      if  v > random_row:\n",
    "        row = i - 1\n",
    "        break\n",
    "      v += w[i]\n",
    "    # On selctionne un motif \n",
    "    pattern = np.array(df.iloc[row][:sizes[row]])\n",
    "    random_v = random.randint(1, len(pattern) - 1 )\n",
    "    for i in range(len(pattern)- random_v):\n",
    "      pattern = np.delete(pattern, random.randint(0, len(pattern) - 1 ))\n",
    "    # On ajoute seulement les motifs non présent dans l'ensemble R\n",
    "    IsInR.add(np.array2string(pattern))\n",
    "    if len(IsInR) != len(R):\n",
    "      R.append(pattern)\n",
    "  return R"
   ]
  },
  {
   "cell_type": "code",
   "execution_count": 57,
   "metadata": {
    "colab": {
     "base_uri": "https://localhost:8080/"
    },
    "id": "X_dlL3MrwwbC",
    "outputId": "0dde1ad1-8915-444f-ff22-2a79cba3d745"
   },
   "outputs": [
    {
     "data": {
      "text/plain": [
       "[array([ 2,  3,  5,  7, 12, 14, 18, 20, 22, 25, 27, 29, 32, 34, 36, 40, 42,\n",
       "        44, 46, 48, 50, 52, 54, 58, 60, 62, 64, 66, 68, 71, 73, 74],\n",
       "       dtype=int64),\n",
       " array([ 2,  3,  5,  7, 10, 11, 13, 16, 18, 20, 22, 23, 25, 27, 29, 31, 36,\n",
       "        39, 40, 44, 46, 48, 51, 52, 55, 56, 58, 60, 62, 66, 69, 71, 72, 74],\n",
       "       dtype=int64),\n",
       " array([ 1,  3,  7,  9, 11, 13, 15, 17, 19, 23, 25, 27, 36, 39, 42, 44, 46,\n",
       "        48, 51, 52, 56, 58, 60, 62, 64, 66, 69, 72, 74], dtype=int64),\n",
       " array([ 2,  3, 11, 13, 23, 25, 28, 29, 42, 44, 50, 56, 60, 64, 70, 72],\n",
       "       dtype=int64),\n",
       " array([ 2,  3,  5,  7,  9, 12, 14, 16, 17, 19, 22, 24, 25, 27, 29, 32, 34,\n",
       "        36, 38, 40, 42, 44, 46, 48, 52, 54, 56, 58, 60, 62, 64, 69, 70, 73,\n",
       "        74], dtype=int64),\n",
       " array([ 3,  8, 36, 52, 55, 66, 68, 72, 75], dtype=int64),\n",
       " array([ 1,  3,  5,  7, 10, 12, 14, 16, 20, 21, 23, 28, 29, 31, 34, 39, 40,\n",
       "        42, 44, 46, 51, 58, 60, 62, 64, 66, 68, 71, 72, 75], dtype=int64),\n",
       " array([50, 52], dtype=int64),\n",
       " array([ 5, 15, 18, 22, 25, 48, 56, 68], dtype=int64),\n",
       " array([ 3,  6,  7,  9, 21, 23, 25, 29, 36, 39, 42, 48, 50, 52, 55, 56, 64,\n",
       "        68, 71, 72, 74], dtype=int64)]"
      ]
     },
     "execution_count": 57,
     "metadata": {},
     "output_type": "execute_result"
    }
   ],
   "source": [
    "algoFrequences(ds,10)"
   ]
  },
  {
   "cell_type": "markdown",
   "metadata": {
    "id": "PM8vykS4XZmw"
   },
   "source": [
    "## Question 2"
   ]
  },
  {
   "cell_type": "code",
   "execution_count": 115,
   "metadata": {
    "id": "NJGeGtYlXfLJ"
   },
   "outputs": [],
   "source": [
    "def algoArea(ds:DataSet,nb_pattern)-> tuple:\n",
    "  df = ds.df\n",
    "  sizes = ds.sizes\n",
    "  R = []\n",
    "  IsInR = set()\n",
    "  \n",
    "  # set les probas\n",
    "  w = np.zeros(df[0].count(),dtype=np.ulonglong)\n",
    "  totalW:np.ulonglong= 0\n",
    "  for i in range(1, len(w)):\n",
    "    w[i] = np.multiply(sizes[i], np.power(2, (sizes[i] - 1)))\n",
    "    totalW += w[i]\n",
    "  \n",
    "  # on selectionne \n",
    "  while len(R) < nb_pattern:\n",
    "    # On cherche la ligne\n",
    "    random_row = random.uniform(0,totalW)\n",
    "    v, row = 0,0\n",
    "    for i in range(len(w)):\n",
    "      if v > random_row:\n",
    "        row = i - 1\n",
    "        break\n",
    "      v += w[i]\n",
    "      \n",
    "    # On set les probabilités de k (taille du motif)\n",
    "    # On souhaite que le sous-ensemble est une taille calculée \n",
    "    # proportionnellement avec les tailles des datarecords (ligne) \n",
    "    ks = np.zeros(int(sizes[row]))\n",
    "    totalK = 0\n",
    "    for i in range(len(ks)):\n",
    "        ks[i] = sps.binom(len(ks), i + 1)\n",
    "        totalK += ks[i]\n",
    "    #totalK = (len(ks) * (len(ks)+1))/2\n",
    "    random_kp = random.uniform(0, totalK)\n",
    "    # On cherche la ligne\n",
    "    k, v = 0,0\n",
    "    for i in range(len(ks)):\n",
    "      if v > random_kp:\n",
    "        k = i - 1\n",
    "        break\n",
    "      v += ks[i]\n",
    "    \n",
    "    pattern = np.array(df.iloc[row][:sizes[row]])\n",
    "    for i in range(len(pattern)- k):\n",
    "      pattern = np.delete(pattern, random.randint(0, len(pattern) - 1 ))\n",
    "    \n",
    "    # On ajoute seulement les motifs non présent dans l'ensemble R\n",
    "    IsInR.add(np.array2string(pattern))\n",
    "    if len(IsInR) != len(R):\n",
    "      R.append(pattern)\n",
    "  return R"
   ]
  },
  {
   "cell_type": "code",
   "execution_count": 75,
   "metadata": {
    "colab": {
     "base_uri": "https://localhost:8080/"
    },
    "id": "cBN3lSJzlpqx",
    "outputId": "25f47460-6203-4869-b317-e9627f042c14"
   },
   "outputs": [
    {
     "data": {
      "text/plain": [
       "[array([ 3,  7, 19, 29, 31, 36, 40, 42, 46, 50, 60, 62, 66, 70],\n",
       "       dtype=int64),\n",
       " array([ 1,  7, 11, 13, 23, 25, 38, 40, 46, 56, 62, 68, 72], dtype=int64),\n",
       " array([ 1,  5,  9, 13, 27, 29, 31, 38, 44, 48, 60, 64, 74], dtype=int64),\n",
       " array([ 1,  3,  5,  9, 13, 23, 27, 34, 40, 42, 44, 50, 52, 56, 58, 64, 72,\n",
       "        74], dtype=int64),\n",
       " array([ 1,  3,  5,  7, 15, 19, 36, 40, 42, 44, 46, 52, 54, 58, 60, 70, 72,\n",
       "        74], dtype=int64),\n",
       " array([ 5, 11, 15, 19, 21, 25, 29, 34, 36, 42, 46, 54, 58, 60, 62, 70],\n",
       "       dtype=int64),\n",
       " array([ 1,  5, 13, 23, 27, 29, 40, 42, 44, 48, 54, 56, 64, 68, 70, 74],\n",
       "       dtype=int64),\n",
       " array([ 5,  7, 11, 13, 17, 19, 25, 27, 34, 36, 38, 40, 42, 44, 48, 50, 52,\n",
       "        54, 56, 58, 60, 66, 68, 72], dtype=int64),\n",
       " array([ 5,  9, 11, 17, 19, 23, 29, 31, 34, 36, 42, 46, 48, 52, 54, 58, 70,\n",
       "        72], dtype=int64),\n",
       " array([ 1,  3, 13, 15, 19, 21, 23, 25, 29, 42, 48, 52, 54, 62, 64, 66, 74],\n",
       "       dtype=int64)]"
      ]
     },
     "execution_count": 75,
     "metadata": {},
     "output_type": "execute_result"
    }
   ],
   "source": [
    "algoArea(ds,10)"
   ]
  },
  {
   "cell_type": "markdown",
   "metadata": {
    "id": "DCp4sUmdXi7L"
   },
   "source": [
    "## Question 3"
   ]
  },
  {
   "cell_type": "code",
   "execution_count": 60,
   "metadata": {
    "id": "RtVA7H1OXhXs"
   },
   "outputs": [],
   "source": [
    "def frequences(ds, patterns):\n",
    "  df = ds.df\n",
    "  sizes = ds.sizes\n",
    "  frequencesP = np.zeros(len(patterns),dtype=float)\n",
    "  indexs = np.zeros(len(patterns),dtype=int)\n",
    "  lenPat = len(patterns)\n",
    "  for i in range(df.shape[0]):\n",
    "    indexs[True] = 0\n",
    "    for j in range(ds.sizes[i]):\n",
    "      for ip in range(lenPat):\n",
    "        if (len(patterns[ip])!= indexs[ip] and \n",
    "            df.iloc[i][j] == patterns[ip][indexs[ip]]):\n",
    "          indexs[ip] += 1\n",
    "          if len(patterns[ip]) == indexs[ip]:\n",
    "            frequencesP[ip] += 1.\n",
    "  for i in range(len(frequencesP)):\n",
    "    frequencesP[i] = (frequencesP[i])/float(df.shape[0])\n",
    "  return frequencesP"
   ]
  },
  {
   "cell_type": "code",
   "execution_count": 61,
   "metadata": {
    "id": "grB3Wa0XNvwo"
   },
   "outputs": [],
   "source": [
    "patterns = algoFrequences(ds,10)"
   ]
  },
  {
   "cell_type": "code",
   "execution_count": 62,
   "metadata": {
    "colab": {
     "base_uri": "https://localhost:8080/"
    },
    "id": "OyQcmwHAZdu-",
    "outputId": "fca91a17-37d9-44fb-c072-17608eb0caff",
    "scrolled": false
   },
   "outputs": [
    {
     "data": {
      "text/plain": [
       "array([0.00876095, 0.00031289, 0.00156446, 0.01595745, 0.00093867,\n",
       "       0.20025031, 0.00312891, 0.00125156, 0.01877347, 0.01220275])"
      ]
     },
     "execution_count": 62,
     "metadata": {},
     "output_type": "execute_result"
    }
   ],
   "source": [
    "frequences(ds,patterns)"
   ]
  },
  {
   "cell_type": "code",
   "execution_count": 63,
   "metadata": {
    "id": "9V9aqi0Jtvcb"
   },
   "outputs": [],
   "source": [
    "def aire(ds, patterns):\n",
    "  df = ds.df\n",
    "  aireP = np.zeros(len(patterns),dtype=int)\n",
    "  indexs = np.zeros(len(patterns),dtype=int)\n",
    "  lenPat = len(patterns)\n",
    "  for i in range(df.shape[0]):\n",
    "    indexs[True] = 0\n",
    "    for j in range(ds.sizes[i]):\n",
    "      for ip in range(lenPat):\n",
    "        if (len(patterns[ip])!= indexs[ip] and \n",
    "            df.iloc[i][j] == patterns[ip][indexs[ip]]):\n",
    "          indexs[ip] += 1\n",
    "          if len(patterns[ip]) == indexs[ip]:\n",
    "            aireP[ip] += 1\n",
    "  for i in range(len(aireP)):\n",
    "    aireP[i] = aireP[i]*len(patterns[i])\n",
    "  return aireP"
   ]
  },
  {
   "cell_type": "code",
   "execution_count": 64,
   "metadata": {
    "id": "dY6ppMfqv-Fz"
   },
   "outputs": [],
   "source": [
    "patterns = algoArea(ds,10)"
   ]
  },
  {
   "cell_type": "code",
   "execution_count": 65,
   "metadata": {
    "colab": {
     "base_uri": "https://localhost:8080/"
    },
    "id": "3T9a2ONWuCJS",
    "outputId": "db2e563c-3fdf-4c15-aaf3-dce4a126f490"
   },
   "outputs": [
    {
     "data": {
      "text/plain": [
       "array([ 672, 2318,  765,  480, 3056,  570,  323, 3120, 1660, 2680])"
      ]
     },
     "execution_count": 65,
     "metadata": {},
     "output_type": "execute_result"
    }
   ],
   "source": [
    "aire(ds,patterns)"
   ]
  },
  {
   "cell_type": "markdown",
   "metadata": {
    "id": "y_BCCw1aNJ8o"
   },
   "source": [
    "## Question 4"
   ]
  },
  {
   "cell_type": "markdown",
   "metadata": {
    "id": "pMYc_zX_oWIB"
   },
   "source": [
    "Nous allons maintenant tester nos algorithmes avec des jeux de données suggérés dans le sujet."
   ]
  },
  {
   "cell_type": "code",
   "execution_count": 66,
   "metadata": {
    "colab": {
     "base_uri": "https://localhost:8080/",
     "height": 204
    },
    "id": "lPYElfndNODK",
    "outputId": "09af6bad-133a-4bfe-8903-3cf3ef6c4b35"
   },
   "outputs": [
    {
     "data": {
      "text/html": [
       "<div>\n",
       "<style scoped>\n",
       "    .dataframe tbody tr th:only-of-type {\n",
       "        vertical-align: middle;\n",
       "    }\n",
       "\n",
       "    .dataframe tbody tr th {\n",
       "        vertical-align: top;\n",
       "    }\n",
       "\n",
       "    .dataframe thead th {\n",
       "        text-align: right;\n",
       "    }\n",
       "</style>\n",
       "<table border=\"1\" class=\"dataframe\">\n",
       "  <thead>\n",
       "    <tr style=\"text-align: right;\">\n",
       "      <th></th>\n",
       "      <th>0</th>\n",
       "      <th>1</th>\n",
       "      <th>2</th>\n",
       "      <th>3</th>\n",
       "      <th>4</th>\n",
       "      <th>5</th>\n",
       "      <th>6</th>\n",
       "      <th>7</th>\n",
       "      <th>8</th>\n",
       "      <th>9</th>\n",
       "      <th>...</th>\n",
       "      <th>27</th>\n",
       "      <th>28</th>\n",
       "      <th>29</th>\n",
       "      <th>30</th>\n",
       "      <th>31</th>\n",
       "      <th>32</th>\n",
       "      <th>33</th>\n",
       "      <th>34</th>\n",
       "      <th>35</th>\n",
       "      <th>36</th>\n",
       "    </tr>\n",
       "  </thead>\n",
       "  <tbody>\n",
       "    <tr>\n",
       "      <th>0</th>\n",
       "      <td>1</td>\n",
       "      <td>3</td>\n",
       "      <td>5</td>\n",
       "      <td>7</td>\n",
       "      <td>9</td>\n",
       "      <td>11</td>\n",
       "      <td>13</td>\n",
       "      <td>15</td>\n",
       "      <td>17</td>\n",
       "      <td>19</td>\n",
       "      <td>...</td>\n",
       "      <td>56</td>\n",
       "      <td>58</td>\n",
       "      <td>60</td>\n",
       "      <td>62</td>\n",
       "      <td>64</td>\n",
       "      <td>66</td>\n",
       "      <td>68</td>\n",
       "      <td>70</td>\n",
       "      <td>72</td>\n",
       "      <td>74</td>\n",
       "    </tr>\n",
       "    <tr>\n",
       "      <th>1</th>\n",
       "      <td>1</td>\n",
       "      <td>3</td>\n",
       "      <td>5</td>\n",
       "      <td>7</td>\n",
       "      <td>9</td>\n",
       "      <td>12</td>\n",
       "      <td>13</td>\n",
       "      <td>15</td>\n",
       "      <td>17</td>\n",
       "      <td>19</td>\n",
       "      <td>...</td>\n",
       "      <td>56</td>\n",
       "      <td>58</td>\n",
       "      <td>60</td>\n",
       "      <td>62</td>\n",
       "      <td>64</td>\n",
       "      <td>66</td>\n",
       "      <td>68</td>\n",
       "      <td>70</td>\n",
       "      <td>72</td>\n",
       "      <td>74</td>\n",
       "    </tr>\n",
       "    <tr>\n",
       "      <th>2</th>\n",
       "      <td>1</td>\n",
       "      <td>3</td>\n",
       "      <td>5</td>\n",
       "      <td>7</td>\n",
       "      <td>9</td>\n",
       "      <td>12</td>\n",
       "      <td>13</td>\n",
       "      <td>16</td>\n",
       "      <td>17</td>\n",
       "      <td>19</td>\n",
       "      <td>...</td>\n",
       "      <td>56</td>\n",
       "      <td>58</td>\n",
       "      <td>60</td>\n",
       "      <td>62</td>\n",
       "      <td>64</td>\n",
       "      <td>66</td>\n",
       "      <td>68</td>\n",
       "      <td>70</td>\n",
       "      <td>72</td>\n",
       "      <td>74</td>\n",
       "    </tr>\n",
       "    <tr>\n",
       "      <th>3</th>\n",
       "      <td>1</td>\n",
       "      <td>3</td>\n",
       "      <td>5</td>\n",
       "      <td>7</td>\n",
       "      <td>9</td>\n",
       "      <td>11</td>\n",
       "      <td>13</td>\n",
       "      <td>15</td>\n",
       "      <td>17</td>\n",
       "      <td>20</td>\n",
       "      <td>...</td>\n",
       "      <td>56</td>\n",
       "      <td>58</td>\n",
       "      <td>60</td>\n",
       "      <td>62</td>\n",
       "      <td>64</td>\n",
       "      <td>66</td>\n",
       "      <td>68</td>\n",
       "      <td>70</td>\n",
       "      <td>72</td>\n",
       "      <td>74</td>\n",
       "    </tr>\n",
       "    <tr>\n",
       "      <th>4</th>\n",
       "      <td>1</td>\n",
       "      <td>3</td>\n",
       "      <td>5</td>\n",
       "      <td>7</td>\n",
       "      <td>9</td>\n",
       "      <td>11</td>\n",
       "      <td>13</td>\n",
       "      <td>15</td>\n",
       "      <td>17</td>\n",
       "      <td>19</td>\n",
       "      <td>...</td>\n",
       "      <td>56</td>\n",
       "      <td>58</td>\n",
       "      <td>60</td>\n",
       "      <td>62</td>\n",
       "      <td>64</td>\n",
       "      <td>66</td>\n",
       "      <td>68</td>\n",
       "      <td>70</td>\n",
       "      <td>72</td>\n",
       "      <td>74</td>\n",
       "    </tr>\n",
       "  </tbody>\n",
       "</table>\n",
       "<p>5 rows × 37 columns</p>\n",
       "</div>"
      ],
      "text/plain": [
       "   0   1   2   3   4   5   6   7   8   9   ...  27  28  29  30  31  32  33  \\\n",
       "0   1   3   5   7   9  11  13  15  17  19  ...  56  58  60  62  64  66  68   \n",
       "1   1   3   5   7   9  12  13  15  17  19  ...  56  58  60  62  64  66  68   \n",
       "2   1   3   5   7   9  12  13  16  17  19  ...  56  58  60  62  64  66  68   \n",
       "3   1   3   5   7   9  11  13  15  17  20  ...  56  58  60  62  64  66  68   \n",
       "4   1   3   5   7   9  11  13  15  17  19  ...  56  58  60  62  64  66  68   \n",
       "\n",
       "   34  35  36  \n",
       "0  70  72  74  \n",
       "1  70  72  74  \n",
       "2  70  72  74  \n",
       "3  70  72  74  \n",
       "4  70  72  74  \n",
       "\n",
       "[5 rows x 37 columns]"
      ]
     },
     "execution_count": 66,
     "metadata": {},
     "output_type": "execute_result"
    }
   ],
   "source": [
    "dataset_1 = pd.read_table(\"https://bitbucket.org/anesbendimerad/sigibbssamplingcode/raw/6699a50508fe177ee0c00dcc7d8e5390ee53688a/ItemsetDatasets/chess.txt\", sep=\" \",header=None)\n",
    "del dataset_1[37]\n",
    "ds1 = DataSet(dataset_1)\n",
    "ds1.df.head()"
   ]
  },
  {
   "cell_type": "code",
   "execution_count": 67,
   "metadata": {
    "colab": {
     "base_uri": "https://localhost:8080/"
    },
    "id": "zSyBsDphWH37",
    "outputId": "d7501da0-beb6-4e17-b654-fd2a7f26a2e1"
   },
   "outputs": [
    {
     "data": {
      "text/plain": [
       "array([1.25156446e-02, 3.12891114e-04, 5.31914894e-03, 2.47183980e-02,\n",
       "       8.12578223e-01, 8.29161452e-02, 3.12891114e-04, 6.25782228e-04,\n",
       "       3.53566959e-02, 3.44180225e-03])"
      ]
     },
     "execution_count": 67,
     "metadata": {},
     "output_type": "execute_result"
    }
   ],
   "source": [
    "frequences(ds1,algoFrequences(ds1,10))"
   ]
  },
  {
   "cell_type": "code",
   "execution_count": 68,
   "metadata": {
    "colab": {
     "base_uri": "https://localhost:8080/"
    },
    "id": "dgGbMyEhdwrc",
    "outputId": "b22c12d5-1f77-4c1f-b0f0-826e1481a61a"
   },
   "outputs": [
    {
     "data": {
      "text/plain": [
       "array([ 442,  440,  722,  665,  266, 1065,  816, 1598, 3689, 2496])"
      ]
     },
     "execution_count": 68,
     "metadata": {},
     "output_type": "execute_result"
    }
   ],
   "source": [
    "aire(ds1,algoArea(ds1,10))"
   ]
  },
  {
   "cell_type": "code",
   "execution_count": 69,
   "metadata": {
    "colab": {
     "base_uri": "https://localhost:8080/",
     "height": 256
    },
    "id": "wS8aFb5CnCcT",
    "outputId": "38e6d175-11d5-41f3-d3fd-b4dab6dac04b"
   },
   "outputs": [
    {
     "data": {
      "text/html": [
       "<div>\n",
       "<style scoped>\n",
       "    .dataframe tbody tr th:only-of-type {\n",
       "        vertical-align: middle;\n",
       "    }\n",
       "\n",
       "    .dataframe tbody tr th {\n",
       "        vertical-align: top;\n",
       "    }\n",
       "\n",
       "    .dataframe thead th {\n",
       "        text-align: right;\n",
       "    }\n",
       "</style>\n",
       "<table border=\"1\" class=\"dataframe\">\n",
       "  <thead>\n",
       "    <tr style=\"text-align: right;\">\n",
       "      <th></th>\n",
       "      <th>0</th>\n",
       "      <th>1</th>\n",
       "      <th>2</th>\n",
       "      <th>3</th>\n",
       "      <th>4</th>\n",
       "      <th>5</th>\n",
       "      <th>6</th>\n",
       "      <th>7</th>\n",
       "      <th>8</th>\n",
       "      <th>9</th>\n",
       "      <th>...</th>\n",
       "      <th>176</th>\n",
       "      <th>177</th>\n",
       "      <th>178</th>\n",
       "      <th>179</th>\n",
       "      <th>180</th>\n",
       "      <th>181</th>\n",
       "      <th>182</th>\n",
       "      <th>183</th>\n",
       "      <th>184</th>\n",
       "      <th>185</th>\n",
       "    </tr>\n",
       "  </thead>\n",
       "  <tbody>\n",
       "    <tr>\n",
       "      <th>0</th>\n",
       "      <td>36</td>\n",
       "      <td>-1</td>\n",
       "      <td>37</td>\n",
       "      <td>-1</td>\n",
       "      <td>38</td>\n",
       "      <td>-1</td>\n",
       "      <td>17</td>\n",
       "      <td>-1</td>\n",
       "      <td>39</td>\n",
       "      <td>-1</td>\n",
       "      <td>...</td>\n",
       "      <td>None</td>\n",
       "      <td>None</td>\n",
       "      <td>None</td>\n",
       "      <td>None</td>\n",
       "      <td>None</td>\n",
       "      <td>None</td>\n",
       "      <td>None</td>\n",
       "      <td>None</td>\n",
       "      <td>None</td>\n",
       "      <td>None</td>\n",
       "    </tr>\n",
       "    <tr>\n",
       "      <th>1</th>\n",
       "      <td>36</td>\n",
       "      <td>-1</td>\n",
       "      <td>64</td>\n",
       "      <td>-1</td>\n",
       "      <td>17</td>\n",
       "      <td>-1</td>\n",
       "      <td>8</td>\n",
       "      <td>-1</td>\n",
       "      <td>65</td>\n",
       "      <td>-1</td>\n",
       "      <td>...</td>\n",
       "      <td>None</td>\n",
       "      <td>None</td>\n",
       "      <td>None</td>\n",
       "      <td>None</td>\n",
       "      <td>None</td>\n",
       "      <td>None</td>\n",
       "      <td>None</td>\n",
       "      <td>None</td>\n",
       "      <td>None</td>\n",
       "      <td>None</td>\n",
       "    </tr>\n",
       "    <tr>\n",
       "      <th>2</th>\n",
       "      <td>78</td>\n",
       "      <td>-1</td>\n",
       "      <td>79</td>\n",
       "      <td>-1</td>\n",
       "      <td>80</td>\n",
       "      <td>-1</td>\n",
       "      <td>81</td>\n",
       "      <td>-1</td>\n",
       "      <td>82</td>\n",
       "      <td>-1</td>\n",
       "      <td>...</td>\n",
       "      <td>None</td>\n",
       "      <td>None</td>\n",
       "      <td>None</td>\n",
       "      <td>None</td>\n",
       "      <td>None</td>\n",
       "      <td>None</td>\n",
       "      <td>None</td>\n",
       "      <td>None</td>\n",
       "      <td>None</td>\n",
       "      <td>None</td>\n",
       "    </tr>\n",
       "    <tr>\n",
       "      <th>3</th>\n",
       "      <td>155</td>\n",
       "      <td>-1</td>\n",
       "      <td>8</td>\n",
       "      <td>-1</td>\n",
       "      <td>156</td>\n",
       "      <td>-1</td>\n",
       "      <td>14</td>\n",
       "      <td>-1</td>\n",
       "      <td>157</td>\n",
       "      <td>-1</td>\n",
       "      <td>...</td>\n",
       "      <td>None</td>\n",
       "      <td>None</td>\n",
       "      <td>None</td>\n",
       "      <td>None</td>\n",
       "      <td>None</td>\n",
       "      <td>None</td>\n",
       "      <td>None</td>\n",
       "      <td>None</td>\n",
       "      <td>None</td>\n",
       "      <td>None</td>\n",
       "    </tr>\n",
       "    <tr>\n",
       "      <th>4</th>\n",
       "      <td>1</td>\n",
       "      <td>-1</td>\n",
       "      <td>1</td>\n",
       "      <td>-1</td>\n",
       "      <td>1</td>\n",
       "      <td>-1</td>\n",
       "      <td>172</td>\n",
       "      <td>-1</td>\n",
       "      <td>173</td>\n",
       "      <td>-1</td>\n",
       "      <td>...</td>\n",
       "      <td>None</td>\n",
       "      <td>None</td>\n",
       "      <td>None</td>\n",
       "      <td>None</td>\n",
       "      <td>None</td>\n",
       "      <td>None</td>\n",
       "      <td>None</td>\n",
       "      <td>None</td>\n",
       "      <td>None</td>\n",
       "      <td>None</td>\n",
       "    </tr>\n",
       "  </tbody>\n",
       "</table>\n",
       "<p>5 rows × 186 columns</p>\n",
       "</div>"
      ],
      "text/plain": [
       "   0   1   2   3    4   5    6   7    8   9    ...   176   177   178   179  \\\n",
       "0   36  -1  37  -1   38  -1   17  -1   39  -1  ...  None  None  None  None   \n",
       "1   36  -1  64  -1   17  -1    8  -1   65  -1  ...  None  None  None  None   \n",
       "2   78  -1  79  -1   80  -1   81  -1   82  -1  ...  None  None  None  None   \n",
       "3  155  -1   8  -1  156  -1   14  -1  157  -1  ...  None  None  None  None   \n",
       "4    1  -1   1  -1    1  -1  172  -1  173  -1  ...  None  None  None  None   \n",
       "\n",
       "    180   181   182   183   184   185  \n",
       "0  None  None  None  None  None  None  \n",
       "1  None  None  None  None  None  None  \n",
       "2  None  None  None  None  None  None  \n",
       "3  None  None  None  None  None  None  \n",
       "4  None  None  None  None  None  None  \n",
       "\n",
       "[5 rows x 186 columns]"
      ]
     },
     "execution_count": 69,
     "metadata": {},
     "output_type": "execute_result"
    }
   ],
   "source": [
    "dataset_2 = pd.read_fwf(\"https://www.philippe-fournier-viger.com/spmf/datasets/LEVIATHAN.txt\", sep=\" \",header=None,)\n",
    "dataset_2 = dataset_2[0].str.split(' ', expand=True)\n",
    "ds2 = DataSet(dataset_2)\n",
    "ds2.df.head()"
   ]
  },
  {
   "cell_type": "code",
   "execution_count": 70,
   "metadata": {},
   "outputs": [
    {
     "data": {
      "text/plain": [
       "array([0.00017141, 0.00017141, 0.00017141, 0.00017141, 0.00017141,\n",
       "       0.00017141, 0.00017141, 0.00017141, 0.00017141, 0.00017141])"
      ]
     },
     "execution_count": 70,
     "metadata": {},
     "output_type": "execute_result"
    }
   ],
   "source": [
    "frequences(ds2, algoFrequences(ds2, 10))"
   ]
  },
  {
   "cell_type": "code",
   "execution_count": 118,
   "metadata": {
    "id": "MKExB93DglNw",
    "scrolled": true
   },
   "outputs": [
    {
     "data": {
      "text/plain": [
       "array([16, 14,  9, 15, 16, 13, 15, 12, 17, 12])"
      ]
     },
     "execution_count": 118,
     "metadata": {},
     "output_type": "execute_result"
    }
   ],
   "source": [
    "aire(ds2, algoArea(ds2, 10))"
   ]
  },
  {
   "cell_type": "code",
   "execution_count": 119,
   "metadata": {
    "colab": {
     "base_uri": "https://localhost:8080/",
     "height": 224
    },
    "id": "F6zVzfLyn17x",
    "outputId": "4e4c2d68-2406-42ce-fd2d-0b32b4230b9f"
   },
   "outputs": [
    {
     "data": {
      "text/html": [
       "<div>\n",
       "<style scoped>\n",
       "    .dataframe tbody tr th:only-of-type {\n",
       "        vertical-align: middle;\n",
       "    }\n",
       "\n",
       "    .dataframe tbody tr th {\n",
       "        vertical-align: top;\n",
       "    }\n",
       "\n",
       "    .dataframe thead th {\n",
       "        text-align: right;\n",
       "    }\n",
       "</style>\n",
       "<table border=\"1\" class=\"dataframe\">\n",
       "  <thead>\n",
       "    <tr style=\"text-align: right;\">\n",
       "      <th></th>\n",
       "      <th>0</th>\n",
       "      <th>1</th>\n",
       "      <th>2</th>\n",
       "      <th>3</th>\n",
       "      <th>4</th>\n",
       "      <th>5</th>\n",
       "      <th>6</th>\n",
       "      <th>7</th>\n",
       "      <th>8</th>\n",
       "      <th>9</th>\n",
       "      <th>...</th>\n",
       "      <th>165</th>\n",
       "      <th>166</th>\n",
       "      <th>167</th>\n",
       "      <th>168</th>\n",
       "      <th>169</th>\n",
       "      <th>170</th>\n",
       "      <th>171</th>\n",
       "      <th>172</th>\n",
       "      <th>173</th>\n",
       "      <th>174</th>\n",
       "    </tr>\n",
       "  </thead>\n",
       "  <tbody>\n",
       "    <tr>\n",
       "      <th>0</th>\n",
       "      <td>3</td>\n",
       "      <td>-1</td>\n",
       "      <td>28</td>\n",
       "      <td>-1</td>\n",
       "      <td>58</td>\n",
       "      <td>-1</td>\n",
       "      <td>61</td>\n",
       "      <td>-1</td>\n",
       "      <td>64</td>\n",
       "      <td>-1</td>\n",
       "      <td>...</td>\n",
       "      <td>None</td>\n",
       "      <td>None</td>\n",
       "      <td>None</td>\n",
       "      <td>None</td>\n",
       "      <td>None</td>\n",
       "      <td>None</td>\n",
       "      <td>None</td>\n",
       "      <td>None</td>\n",
       "      <td>None</td>\n",
       "      <td>None</td>\n",
       "    </tr>\n",
       "    <tr>\n",
       "      <th>1</th>\n",
       "      <td>4</td>\n",
       "      <td>-1</td>\n",
       "      <td>7</td>\n",
       "      <td>-1</td>\n",
       "      <td>23</td>\n",
       "      <td>-1</td>\n",
       "      <td>255</td>\n",
       "      <td>-1</td>\n",
       "      <td>3</td>\n",
       "      <td>-1</td>\n",
       "      <td>...</td>\n",
       "      <td>None</td>\n",
       "      <td>None</td>\n",
       "      <td>None</td>\n",
       "      <td>None</td>\n",
       "      <td>None</td>\n",
       "      <td>None</td>\n",
       "      <td>None</td>\n",
       "      <td>None</td>\n",
       "      <td>None</td>\n",
       "      <td>None</td>\n",
       "    </tr>\n",
       "    <tr>\n",
       "      <th>2</th>\n",
       "      <td>8</td>\n",
       "      <td>-1</td>\n",
       "      <td>10</td>\n",
       "      <td>-1</td>\n",
       "      <td>13</td>\n",
       "      <td>-1</td>\n",
       "      <td>14</td>\n",
       "      <td>-1</td>\n",
       "      <td>21</td>\n",
       "      <td>-1</td>\n",
       "      <td>...</td>\n",
       "      <td>None</td>\n",
       "      <td>None</td>\n",
       "      <td>None</td>\n",
       "      <td>None</td>\n",
       "      <td>None</td>\n",
       "      <td>None</td>\n",
       "      <td>None</td>\n",
       "      <td>None</td>\n",
       "      <td>None</td>\n",
       "      <td>None</td>\n",
       "    </tr>\n",
       "    <tr>\n",
       "      <th>3</th>\n",
       "      <td>11</td>\n",
       "      <td>-1</td>\n",
       "      <td>25</td>\n",
       "      <td>-1</td>\n",
       "      <td>40</td>\n",
       "      <td>-1</td>\n",
       "      <td>54</td>\n",
       "      <td>-1</td>\n",
       "      <td>55</td>\n",
       "      <td>-1</td>\n",
       "      <td>...</td>\n",
       "      <td>None</td>\n",
       "      <td>None</td>\n",
       "      <td>None</td>\n",
       "      <td>None</td>\n",
       "      <td>None</td>\n",
       "      <td>None</td>\n",
       "      <td>None</td>\n",
       "      <td>None</td>\n",
       "      <td>None</td>\n",
       "      <td>None</td>\n",
       "    </tr>\n",
       "    <tr>\n",
       "      <th>4</th>\n",
       "      <td>12</td>\n",
       "      <td>-1</td>\n",
       "      <td>39</td>\n",
       "      <td>-1</td>\n",
       "      <td>63</td>\n",
       "      <td>-1</td>\n",
       "      <td>72</td>\n",
       "      <td>-1</td>\n",
       "      <td>3</td>\n",
       "      <td>-1</td>\n",
       "      <td>...</td>\n",
       "      <td>None</td>\n",
       "      <td>None</td>\n",
       "      <td>None</td>\n",
       "      <td>None</td>\n",
       "      <td>None</td>\n",
       "      <td>None</td>\n",
       "      <td>None</td>\n",
       "      <td>None</td>\n",
       "      <td>None</td>\n",
       "      <td>None</td>\n",
       "    </tr>\n",
       "  </tbody>\n",
       "</table>\n",
       "<p>5 rows × 175 columns</p>\n",
       "</div>"
      ],
      "text/plain": [
       "  0   1   2   3   4   5    6   7   8   9    ...   165   166   167   168   169  \\\n",
       "0   3  -1  28  -1  58  -1   61  -1  64  -1  ...  None  None  None  None  None   \n",
       "1   4  -1   7  -1  23  -1  255  -1   3  -1  ...  None  None  None  None  None   \n",
       "2   8  -1  10  -1  13  -1   14  -1  21  -1  ...  None  None  None  None  None   \n",
       "3  11  -1  25  -1  40  -1   54  -1  55  -1  ...  None  None  None  None  None   \n",
       "4  12  -1  39  -1  63  -1   72  -1   3  -1  ...  None  None  None  None  None   \n",
       "\n",
       "    170   171   172   173   174  \n",
       "0  None  None  None  None  None  \n",
       "1  None  None  None  None  None  \n",
       "2  None  None  None  None  None  \n",
       "3  None  None  None  None  None  \n",
       "4  None  None  None  None  None  \n",
       "\n",
       "[5 rows x 175 columns]"
      ]
     },
     "execution_count": 119,
     "metadata": {},
     "output_type": "execute_result"
    }
   ],
   "source": [
    "dataset_3 = pd.read_fwf(\"https://www.philippe-fournier-viger.com/spmf/datasets/FIFA.txt\", sep=\" \",header=None,)\n",
    "dataset_3 = dataset_3[0].str.split(' ', expand=True)\n",
    "ds3 = DataSet(dataset_3)\n",
    "ds3.df.head()"
   ]
  },
  {
   "cell_type": "code",
   "execution_count": 120,
   "metadata": {
    "id": "iebgDSj-g_Sc"
   },
   "outputs": [
    {
     "data": {
      "text/plain": [
       "array([4.88997555e-05, 4.88997555e-05, 4.88997555e-05, 3.86308068e-03,\n",
       "       4.88997555e-05, 4.88997555e-05, 4.88997555e-05, 4.88997555e-05,\n",
       "       4.88997555e-05, 4.88997555e-05])"
      ]
     },
     "execution_count": 120,
     "metadata": {},
     "output_type": "execute_result"
    }
   ],
   "source": [
    "frequences(ds3, algoFrequences(ds3, 10))"
   ]
  },
  {
   "cell_type": "code",
   "execution_count": 121,
   "metadata": {
    "colab": {
     "background_save": true
    },
    "id": "a8yQl5LhhGan",
    "outputId": "f555bb03-cedc-49b7-a62e-6d5714c1fc69"
   },
   "outputs": [
    {
     "data": {
      "text/plain": [
       "array([  15,  380,   18,   16,   30,   12, 3090,   13,   52,   22])"
      ]
     },
     "execution_count": 121,
     "metadata": {},
     "output_type": "execute_result"
    }
   ],
   "source": [
    "aire(ds3, algoArea(ds3,10))"
   ]
  },
  {
   "cell_type": "code",
   "execution_count": 122,
   "metadata": {
    "colab": {
     "base_uri": "https://localhost:8080/"
    },
    "id": "gIPlVPxaoFeY",
    "outputId": "7b1973c6-afdb-4f4d-9eb4-42a181d87b84",
    "scrolled": true
   },
   "outputs": [
    {
     "data": {
      "text/html": [
       "<div>\n",
       "<style scoped>\n",
       "    .dataframe tbody tr th:only-of-type {\n",
       "        vertical-align: middle;\n",
       "    }\n",
       "\n",
       "    .dataframe tbody tr th {\n",
       "        vertical-align: top;\n",
       "    }\n",
       "\n",
       "    .dataframe thead th {\n",
       "        text-align: right;\n",
       "    }\n",
       "</style>\n",
       "<table border=\"1\" class=\"dataframe\">\n",
       "  <thead>\n",
       "    <tr style=\"text-align: right;\">\n",
       "      <th></th>\n",
       "      <th>0</th>\n",
       "      <th>1</th>\n",
       "      <th>2</th>\n",
       "      <th>3</th>\n",
       "      <th>4</th>\n",
       "      <th>5</th>\n",
       "      <th>6</th>\n",
       "      <th>7</th>\n",
       "      <th>8</th>\n",
       "      <th>9</th>\n",
       "      <th>...</th>\n",
       "      <th>165</th>\n",
       "      <th>166</th>\n",
       "      <th>167</th>\n",
       "      <th>168</th>\n",
       "      <th>169</th>\n",
       "      <th>170</th>\n",
       "      <th>171</th>\n",
       "      <th>172</th>\n",
       "      <th>173</th>\n",
       "      <th>174</th>\n",
       "    </tr>\n",
       "  </thead>\n",
       "  <tbody>\n",
       "    <tr>\n",
       "      <th>0</th>\n",
       "      <td>1</td>\n",
       "      <td>-1</td>\n",
       "      <td>2</td>\n",
       "      <td>-1</td>\n",
       "      <td>3</td>\n",
       "      <td>-1</td>\n",
       "      <td>4</td>\n",
       "      <td>-1</td>\n",
       "      <td>5</td>\n",
       "      <td>-1</td>\n",
       "      <td>...</td>\n",
       "      <td>None</td>\n",
       "      <td>None</td>\n",
       "      <td>None</td>\n",
       "      <td>None</td>\n",
       "      <td>None</td>\n",
       "      <td>None</td>\n",
       "      <td>None</td>\n",
       "      <td>None</td>\n",
       "      <td>None</td>\n",
       "      <td>None</td>\n",
       "    </tr>\n",
       "    <tr>\n",
       "      <th>1</th>\n",
       "      <td>40</td>\n",
       "      <td>-1</td>\n",
       "      <td>41</td>\n",
       "      <td>-1</td>\n",
       "      <td>42</td>\n",
       "      <td>-1</td>\n",
       "      <td>43</td>\n",
       "      <td>-1</td>\n",
       "      <td>44</td>\n",
       "      <td>-1</td>\n",
       "      <td>...</td>\n",
       "      <td>None</td>\n",
       "      <td>None</td>\n",
       "      <td>None</td>\n",
       "      <td>None</td>\n",
       "      <td>None</td>\n",
       "      <td>None</td>\n",
       "      <td>None</td>\n",
       "      <td>None</td>\n",
       "      <td>None</td>\n",
       "      <td>None</td>\n",
       "    </tr>\n",
       "    <tr>\n",
       "      <th>2</th>\n",
       "      <td>31</td>\n",
       "      <td>-1</td>\n",
       "      <td>50</td>\n",
       "      <td>-1</td>\n",
       "      <td>51</td>\n",
       "      <td>-1</td>\n",
       "      <td>15</td>\n",
       "      <td>-1</td>\n",
       "      <td>52</td>\n",
       "      <td>-1</td>\n",
       "      <td>...</td>\n",
       "      <td>None</td>\n",
       "      <td>None</td>\n",
       "      <td>None</td>\n",
       "      <td>None</td>\n",
       "      <td>None</td>\n",
       "      <td>None</td>\n",
       "      <td>None</td>\n",
       "      <td>None</td>\n",
       "      <td>None</td>\n",
       "      <td>None</td>\n",
       "    </tr>\n",
       "    <tr>\n",
       "      <th>3</th>\n",
       "      <td>69</td>\n",
       "      <td>-1</td>\n",
       "      <td>62</td>\n",
       "      <td>-1</td>\n",
       "      <td>70</td>\n",
       "      <td>-1</td>\n",
       "      <td>15</td>\n",
       "      <td>-1</td>\n",
       "      <td>71</td>\n",
       "      <td>-1</td>\n",
       "      <td>...</td>\n",
       "      <td>None</td>\n",
       "      <td>None</td>\n",
       "      <td>None</td>\n",
       "      <td>None</td>\n",
       "      <td>None</td>\n",
       "      <td>None</td>\n",
       "      <td>None</td>\n",
       "      <td>None</td>\n",
       "      <td>None</td>\n",
       "      <td>None</td>\n",
       "    </tr>\n",
       "    <tr>\n",
       "      <th>4</th>\n",
       "      <td>77</td>\n",
       "      <td>-1</td>\n",
       "      <td>78</td>\n",
       "      <td>-1</td>\n",
       "      <td>51</td>\n",
       "      <td>-1</td>\n",
       "      <td>79</td>\n",
       "      <td>-1</td>\n",
       "      <td>18</td>\n",
       "      <td>-1</td>\n",
       "      <td>...</td>\n",
       "      <td>None</td>\n",
       "      <td>None</td>\n",
       "      <td>None</td>\n",
       "      <td>None</td>\n",
       "      <td>None</td>\n",
       "      <td>None</td>\n",
       "      <td>None</td>\n",
       "      <td>None</td>\n",
       "      <td>None</td>\n",
       "      <td>None</td>\n",
       "    </tr>\n",
       "  </tbody>\n",
       "</table>\n",
       "<p>5 rows × 175 columns</p>\n",
       "</div>"
      ],
      "text/plain": [
       "  0   1   2   3   4   5   6   7   8   9    ...   165   166   167   168   169  \\\n",
       "0   1  -1   2  -1   3  -1   4  -1   5  -1  ...  None  None  None  None  None   \n",
       "1  40  -1  41  -1  42  -1  43  -1  44  -1  ...  None  None  None  None  None   \n",
       "2  31  -1  50  -1  51  -1  15  -1  52  -1  ...  None  None  None  None  None   \n",
       "3  69  -1  62  -1  70  -1  15  -1  71  -1  ...  None  None  None  None  None   \n",
       "4  77  -1  78  -1  51  -1  79  -1  18  -1  ...  None  None  None  None  None   \n",
       "\n",
       "    170   171   172   173   174  \n",
       "0  None  None  None  None  None  \n",
       "1  None  None  None  None  None  \n",
       "2  None  None  None  None  None  \n",
       "3  None  None  None  None  None  \n",
       "4  None  None  None  None  None  \n",
       "\n",
       "[5 rows x 175 columns]"
      ]
     },
     "execution_count": 122,
     "metadata": {},
     "output_type": "execute_result"
    }
   ],
   "source": [
    "dataset_4 = pd.read_fwf(\"https://www.philippe-fournier-viger.com/spmf/datasets/BIBLE.txt\", sep=\" \",header=None,)\n",
    "dataset_4 = dataset_4[0].str.split(' ', expand=True)\n",
    "ds4 = DataSet(dataset_4)\n",
    "ds4.df.head()"
   ]
  },
  {
   "cell_type": "code",
   "execution_count": 123,
   "metadata": {
    "id": "vKxUZfCtqubj",
    "scrolled": true
   },
   "outputs": [
    {
     "data": {
      "text/plain": [
       "array([2.74959443e-05, 2.74959443e-05, 2.74959443e-05, 2.74959443e-05,\n",
       "       2.74959443e-05, 2.74959443e-05, 2.74959443e-05, 2.74959443e-05,\n",
       "       2.74959443e-05, 2.74959443e-05])"
      ]
     },
     "execution_count": 123,
     "metadata": {},
     "output_type": "execute_result"
    }
   ],
   "source": [
    "frequences(ds4, algoFrequences(ds4, 10))"
   ]
  },
  {
   "cell_type": "code",
   "execution_count": 124,
   "metadata": {
    "id": "ekQ5pTzNq0i2"
   },
   "outputs": [
    {
     "data": {
      "text/plain": [
       "array([18, 15, 17, 12, 14, 14, 11, 16, 17,  9])"
      ]
     },
     "execution_count": 124,
     "metadata": {},
     "output_type": "execute_result"
    }
   ],
   "source": [
    "aire(ds4, algoArea(ds4,10))"
   ]
  },
  {
   "cell_type": "markdown",
   "metadata": {
    "id": "D1uaF6e5pVd2"
   },
   "source": [
    "## Question 5"
   ]
  },
  {
   "cell_type": "markdown",
   "metadata": {
    "id": "OHirqdUqpZEm"
   },
   "source": [
    "### Etude emprique"
   ]
  },
  {
   "cell_type": "markdown",
   "metadata": {
    "id": "WAD_a5--AhBP"
   },
   "source": [
    "Nous allons étudier les dataset ci-dessus.\n",
    "\n",
    "### Dataset n°1"
   ]
  },
  {
   "cell_type": "markdown",
   "metadata": {
    "id": "ydH_ZSgkBsmS"
   },
   "source": [
    "#### Algorithme de fréquence\n"
   ]
  },
  {
   "cell_type": "markdown",
   "metadata": {
    "id": "WMAb7KByA3CE"
   },
   "source": [
    "Dans un premier temps, nous allons executer l'algorithme de la fréquence et chercher à obtenir 5 échantillons."
   ]
  },
  {
   "cell_type": "code",
   "execution_count": 125,
   "metadata": {
    "colab": {
     "base_uri": "https://localhost:8080/"
    },
    "id": "ccyKbbVRAwl6",
    "outputId": "765b523f-2e46-40e5-889f-80765e659127"
   },
   "outputs": [
    {
     "name": "stdout",
     "output_type": "stream",
     "text": [
      "[array([ 2,  3,  5,  7,  9, 12, 18, 20, 22, 24, 25, 27, 29, 31, 34, 36, 39,\n",
      "       40, 42, 44, 46, 48, 50, 52, 54, 56, 58, 60, 62, 66, 68, 71, 72, 74],\n",
      "      dtype=int64), array([ 2,  5, 11, 21, 25, 27, 34, 39, 47, 48, 50, 54, 56, 58, 62, 73, 74],\n",
      "      dtype=int64), array([11, 16, 18, 21, 25, 33, 34, 42, 46, 48, 60, 68, 71], dtype=int64), array([ 2,  3,  9, 15, 23, 25, 28, 42, 44, 60, 62], dtype=int64), array([15, 17, 29, 31, 48, 52, 56, 60], dtype=int64)]\n"
     ]
    }
   ],
   "source": [
    "echantillons = algoFrequences(ds1, 5)\n",
    "print(echantillons)"
   ]
  },
  {
   "cell_type": "markdown",
   "metadata": {
    "id": "iaC_1QKKBlPb"
   },
   "source": [
    "Nous obtenons donc nos 5 motifs que nous allons analyser avec la fonction implémentées à la question 3"
   ]
  },
  {
   "cell_type": "code",
   "execution_count": 126,
   "metadata": {
    "colab": {
     "base_uri": "https://localhost:8080/"
    },
    "id": "DgqpJxg8BkwH",
    "outputId": "311b25fc-ebf6-4a2e-9fbe-da01820f5f88"
   },
   "outputs": [
    {
     "data": {
      "text/plain": [
       "array([0.00250313, 0.00250313, 0.00187735, 0.0034418 , 0.00250313])"
      ]
     },
     "execution_count": 126,
     "metadata": {},
     "output_type": "execute_result"
    }
   ],
   "source": [
    "frequences(ds1, algoFrequences(ds1, 5))"
   ]
  },
  {
   "cell_type": "markdown",
   "metadata": {
    "id": "cb1rrE2JpwWi"
   },
   "source": [
    "## Question 6"
   ]
  },
  {
   "cell_type": "markdown",
   "metadata": {
    "id": "qbmQBuMFscQC"
   },
   "source": [
    "On a constaté que lorsque l'on avait une ligne beaucoup plus grande que les autres, les algorithmes de fréquence et d'aire favorisent la ligne la plus grande pour créer des motifs. On souhaite trouver des motifs fréquents, donc on souhaite éviter des motifs qui s'applique seulement dans des grandes lignes. Nous avons trouver trois solutions:\n",
    "\n",
    "*   Supprimer les grandes lignes du dataset\n",
    "*   Réduire la taille des grandes lignes\n",
    "*   Modifier le poids accorder à la ligne la plus grande\n"
   ]
  },
  {
   "cell_type": "code",
   "execution_count": 127,
   "metadata": {
    "id": "gnCJcK6EpzfI"
   },
   "outputs": [
    {
     "data": {
      "text/html": [
       "<div>\n",
       "<style scoped>\n",
       "    .dataframe tbody tr th:only-of-type {\n",
       "        vertical-align: middle;\n",
       "    }\n",
       "\n",
       "    .dataframe tbody tr th {\n",
       "        vertical-align: top;\n",
       "    }\n",
       "\n",
       "    .dataframe thead th {\n",
       "        text-align: right;\n",
       "    }\n",
       "</style>\n",
       "<table border=\"1\" class=\"dataframe\">\n",
       "  <thead>\n",
       "    <tr style=\"text-align: right;\">\n",
       "      <th></th>\n",
       "      <th>0</th>\n",
       "      <th>1</th>\n",
       "      <th>2</th>\n",
       "      <th>3</th>\n",
       "      <th>4</th>\n",
       "      <th>5</th>\n",
       "      <th>6</th>\n",
       "      <th>7</th>\n",
       "      <th>8</th>\n",
       "      <th>9</th>\n",
       "      <th>...</th>\n",
       "      <th>165</th>\n",
       "      <th>166</th>\n",
       "      <th>167</th>\n",
       "      <th>168</th>\n",
       "      <th>169</th>\n",
       "      <th>170</th>\n",
       "      <th>171</th>\n",
       "      <th>172</th>\n",
       "      <th>173</th>\n",
       "      <th>174</th>\n",
       "    </tr>\n",
       "  </thead>\n",
       "  <tbody>\n",
       "    <tr>\n",
       "      <th>0</th>\n",
       "      <td>3</td>\n",
       "      <td>-1</td>\n",
       "      <td>28</td>\n",
       "      <td>-1</td>\n",
       "      <td>58</td>\n",
       "      <td>-1</td>\n",
       "      <td>61</td>\n",
       "      <td>-1</td>\n",
       "      <td>64</td>\n",
       "      <td>-1</td>\n",
       "      <td>...</td>\n",
       "      <td>None</td>\n",
       "      <td>None</td>\n",
       "      <td>None</td>\n",
       "      <td>None</td>\n",
       "      <td>None</td>\n",
       "      <td>None</td>\n",
       "      <td>None</td>\n",
       "      <td>None</td>\n",
       "      <td>None</td>\n",
       "      <td>None</td>\n",
       "    </tr>\n",
       "    <tr>\n",
       "      <th>1</th>\n",
       "      <td>4</td>\n",
       "      <td>-1</td>\n",
       "      <td>7</td>\n",
       "      <td>-1</td>\n",
       "      <td>23</td>\n",
       "      <td>-1</td>\n",
       "      <td>255</td>\n",
       "      <td>-1</td>\n",
       "      <td>3</td>\n",
       "      <td>-1</td>\n",
       "      <td>...</td>\n",
       "      <td>None</td>\n",
       "      <td>None</td>\n",
       "      <td>None</td>\n",
       "      <td>None</td>\n",
       "      <td>None</td>\n",
       "      <td>None</td>\n",
       "      <td>None</td>\n",
       "      <td>None</td>\n",
       "      <td>None</td>\n",
       "      <td>None</td>\n",
       "    </tr>\n",
       "    <tr>\n",
       "      <th>2</th>\n",
       "      <td>8</td>\n",
       "      <td>-1</td>\n",
       "      <td>10</td>\n",
       "      <td>-1</td>\n",
       "      <td>13</td>\n",
       "      <td>-1</td>\n",
       "      <td>14</td>\n",
       "      <td>-1</td>\n",
       "      <td>21</td>\n",
       "      <td>-1</td>\n",
       "      <td>...</td>\n",
       "      <td>None</td>\n",
       "      <td>None</td>\n",
       "      <td>None</td>\n",
       "      <td>None</td>\n",
       "      <td>None</td>\n",
       "      <td>None</td>\n",
       "      <td>None</td>\n",
       "      <td>None</td>\n",
       "      <td>None</td>\n",
       "      <td>None</td>\n",
       "    </tr>\n",
       "    <tr>\n",
       "      <th>3</th>\n",
       "      <td>11</td>\n",
       "      <td>-1</td>\n",
       "      <td>25</td>\n",
       "      <td>-1</td>\n",
       "      <td>40</td>\n",
       "      <td>-1</td>\n",
       "      <td>54</td>\n",
       "      <td>-1</td>\n",
       "      <td>55</td>\n",
       "      <td>-1</td>\n",
       "      <td>...</td>\n",
       "      <td>None</td>\n",
       "      <td>None</td>\n",
       "      <td>None</td>\n",
       "      <td>None</td>\n",
       "      <td>None</td>\n",
       "      <td>None</td>\n",
       "      <td>None</td>\n",
       "      <td>None</td>\n",
       "      <td>None</td>\n",
       "      <td>None</td>\n",
       "    </tr>\n",
       "    <tr>\n",
       "      <th>4</th>\n",
       "      <td>12</td>\n",
       "      <td>-1</td>\n",
       "      <td>39</td>\n",
       "      <td>-1</td>\n",
       "      <td>63</td>\n",
       "      <td>-1</td>\n",
       "      <td>72</td>\n",
       "      <td>-1</td>\n",
       "      <td>3</td>\n",
       "      <td>-1</td>\n",
       "      <td>...</td>\n",
       "      <td>None</td>\n",
       "      <td>None</td>\n",
       "      <td>None</td>\n",
       "      <td>None</td>\n",
       "      <td>None</td>\n",
       "      <td>None</td>\n",
       "      <td>None</td>\n",
       "      <td>None</td>\n",
       "      <td>None</td>\n",
       "      <td>None</td>\n",
       "    </tr>\n",
       "  </tbody>\n",
       "</table>\n",
       "<p>5 rows × 175 columns</p>\n",
       "</div>"
      ],
      "text/plain": [
       "  0   1   2   3   4   5    6   7   8   9    ...   165   166   167   168   169  \\\n",
       "0   3  -1  28  -1  58  -1   61  -1  64  -1  ...  None  None  None  None  None   \n",
       "1   4  -1   7  -1  23  -1  255  -1   3  -1  ...  None  None  None  None  None   \n",
       "2   8  -1  10  -1  13  -1   14  -1  21  -1  ...  None  None  None  None  None   \n",
       "3  11  -1  25  -1  40  -1   54  -1  55  -1  ...  None  None  None  None  None   \n",
       "4  12  -1  39  -1  63  -1   72  -1   3  -1  ...  None  None  None  None  None   \n",
       "\n",
       "    170   171   172   173   174  \n",
       "0  None  None  None  None  None  \n",
       "1  None  None  None  None  None  \n",
       "2  None  None  None  None  None  \n",
       "3  None  None  None  None  None  \n",
       "4  None  None  None  None  None  \n",
       "\n",
       "[5 rows x 175 columns]"
      ]
     },
     "execution_count": 127,
     "metadata": {},
     "output_type": "execute_result"
    }
   ],
   "source": [
    "dsetGL = pd.read_fwf(\"https://www.philippe-fournier-viger.com/spmf/datasets/FIFA.txt\", sep=\" \",header=None,)\n",
    "df_gl= dsetGL[0].str.split(' ', expand=True)\n",
    "ds_gl = DataSet(df_gl)\n",
    "ds_gl.df.head()"
   ]
  },
  {
   "cell_type": "markdown",
   "metadata": {
    "id": "pUPGML_e0P3n"
   },
   "source": [
    "## Cas où le dataset est chargé dans un df\n",
    "On va calculer la moyenne du nombre d'item par ligne et en fonction de cela on suprimera les colonnes supérieurs à la taille moyenne du nombre d'item/ligne\n",
    "On ne regarde pas toute les lignes on en regarde que 40% (on pourras changer)"
   ]
  },
  {
   "cell_type": "code",
   "execution_count": 128,
   "metadata": {
    "colab": {
     "base_uri": "https://localhost:8080/"
    },
    "id": "sTHpqbKq3eBP",
    "outputId": "5f49c271-5cf3-48ad-cb7a-c3b7ca059980"
   },
   "outputs": [
    {
     "data": {
      "text/plain": [
       "(20450, 175)"
      ]
     },
     "execution_count": 128,
     "metadata": {},
     "output_type": "execute_result"
    }
   ],
   "source": [
    "ds_gl.df.shape"
   ]
  },
  {
   "cell_type": "code",
   "execution_count": 129,
   "metadata": {
    "id": "x68bs1ADzJG9"
   },
   "outputs": [],
   "source": [
    "def resizeDataSet(ds,percentage):\n",
    "  df = ds.df\n",
    "  shape = ds.df.shape\n",
    "  sum = 0\n",
    "  #for index, row in df.iterrows():\n",
    "  for _ in range(int(shape[0]*percentage)):\n",
    "    #if random.uniform(0.,100.) < 5.:\n",
    "    sum += shape[1] - ds.sizes[random.randint(0,shape[0]-1)]\n",
    "  mean = sum/(shape[0]*percentage)\n",
    "  for i in range(shape[1]-1,int(mean),-1):\n",
    "    del df[i]\n",
    "  for i in range(shape[0]):\n",
    "    if ds.sizes[i] > mean:\n",
    "        ds.sizes[i] = math.ceil(mean)\n",
    "  return df"
   ]
  },
  {
   "cell_type": "code",
   "execution_count": 130,
   "metadata": {
    "colab": {
     "base_uri": "https://localhost:8080/",
     "height": 424
    },
    "id": "zz-j87LP5sVr",
    "outputId": "5b060021-bcb9-43c0-80c0-659f1befeabc"
   },
   "outputs": [
    {
     "data": {
      "text/plain": [
       "(20450, 104)"
      ]
     },
     "execution_count": 130,
     "metadata": {},
     "output_type": "execute_result"
    }
   ],
   "source": [
    "resizeDataSet(ds_gl,0.4)\n",
    "ds_gl.df.shape"
   ]
  },
  {
   "cell_type": "markdown",
   "metadata": {
    "id": "ykMFpM-61PFD"
   },
   "source": [
    "## Troisième solution\n",
    "Text  a mettre richard"
   ]
  },
  {
   "cell_type": "markdown",
   "metadata": {
    "id": "wKsRsyXmQtye"
   },
   "source": [
    "Dans cette troisième approche, on va faire une moyenne mobile de la valeur de poid\n",
    "\n",
    "[Info pour blabla](https://www.educatim.fr/tq/co/Module_TQ_web/co/moyenne_glissante.html)"
   ]
  },
  {
   "cell_type": "code",
   "execution_count": 131,
   "metadata": {
    "id": "D24SfrAUYUj7"
   },
   "outputs": [],
   "source": [
    "def algoFrequencesSolutionA(ds,nb_pattern)-> tuple:\n",
    "  df = ds.df\n",
    "  sizes = ds.sizes\n",
    "  R = []\n",
    "  IsInR = set()\n",
    "  P: dict = dict()\n",
    "  w = np.zeros(df.shape[0])\n",
    "  totalW = 0\n",
    "    \n",
    "  # set les probas\n",
    "  for i in range(len(w)):\n",
    "    w[i] = math.pow(2,sizes[i])\n",
    "    if i >= 2:\n",
    "      w[i] = (w[i] + w[i-1] + w[i-2])/ 3\n",
    "    totalW += w[i]\n",
    "  \n",
    "  # on selectionne \n",
    "  while len(R) < nb_pattern:\n",
    "    random_row = random.uniform(0,totalW)\n",
    "    # On cherche la ligne\n",
    "    row = 0\n",
    "    v = 0\n",
    "    for i in range(len(w)):\n",
    "      if  v > random_row:\n",
    "        row = i - 1\n",
    "        break\n",
    "      v += w[i]\n",
    "    # On selctionne un motif \n",
    "    pattern = np.array(df.iloc[row][:sizes[row]])\n",
    "    random_v = random.randint(1, len(pattern) - 1 )\n",
    "    for i in range(len(pattern)- random_v):\n",
    "      pattern = np.delete(pattern, random.randint(0, len(pattern) - 1 ))\n",
    "    # On ajoute seulement les motifs non présent dans l'ensemble R\n",
    "    IsInR.add(np.array2string(pattern))\n",
    "    if len(IsInR) != len(R):\n",
    "      R.append(pattern)\n",
    "  return R"
   ]
  },
  {
   "cell_type": "code",
   "execution_count": 132,
   "metadata": {
    "id": "cpKfHwKxoIq8"
   },
   "outputs": [
    {
     "data": {
      "text/plain": [
       "array([0., 0., 0., 0., 0., 0., 0., 0., 0., 0.])"
      ]
     },
     "execution_count": 132,
     "metadata": {},
     "output_type": "execute_result"
    }
   ],
   "source": [
    "patterns = algoFrequencesSolutionA(ds_gl,10)\n",
    "frequences(ds,patterns)"
   ]
  }
 ],
 "metadata": {
  "colab": {
   "collapsed_sections": [],
   "include_colab_link": true,
   "name": "TP_DataMining",
   "provenance": []
  },
  "kernelspec": {
   "display_name": "Python 3",
   "language": "python",
   "name": "python3"
  },
  "language_info": {
   "codemirror_mode": {
    "name": "ipython",
    "version": 3
   },
   "file_extension": ".py",
   "mimetype": "text/x-python",
   "name": "python",
   "nbconvert_exporter": "python",
   "pygments_lexer": "ipython3",
   "version": "3.8.6"
  }
 },
 "nbformat": 4,
 "nbformat_minor": 1
}
