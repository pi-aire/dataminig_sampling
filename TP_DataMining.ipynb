{
 "cells": [
  {
   "cell_type": "markdown",
   "metadata": {
    "colab_type": "text",
    "id": "view-in-github"
   },
   "source": [
    "<a href=\"https://colab.research.google.com/github/pi-aire/dataminig_sampling/blob/main/TP_DataMining.ipynb\" target=\"_parent\"><img src=\"https://colab.research.google.com/assets/colab-badge.svg\" alt=\"Open In Colab\"/></a>"
   ]
  },
  {
   "cell_type": "markdown",
   "metadata": {
    "id": "rT5_WhBiUnw6"
   },
   "source": [
    "# Échantillonnage direct de l'espace des motifs\n",
    "\n",
    "### BRUNEAU Richard - VASLIN Pierre\n",
    "\n",
    "\n",
    "\n"
   ]
  },
  {
   "cell_type": "code",
   "execution_count": 1,
   "metadata": {
    "id": "hfUuyvYBX6aH"
   },
   "outputs": [],
   "source": [
    "import numpy as np\n",
    "import scipy.special as sps\n",
    "import math\n",
    "import matplotlib\n",
    "import pandas as pd\n",
    "import random"
   ]
  },
  {
   "cell_type": "code",
   "execution_count": 4,
   "metadata": {
    "colab": {
     "base_uri": "https://localhost:8080/",
     "height": 204
    },
    "id": "gOavPKYmYF_A",
    "outputId": "2261f7eb-c140-40e7-a387-f68a1d6d7ef9"
   },
   "outputs": [
    {
     "data": {
      "text/html": [
       "<div>\n",
       "<style scoped>\n",
       "    .dataframe tbody tr th:only-of-type {\n",
       "        vertical-align: middle;\n",
       "    }\n",
       "\n",
       "    .dataframe tbody tr th {\n",
       "        vertical-align: top;\n",
       "    }\n",
       "\n",
       "    .dataframe thead th {\n",
       "        text-align: right;\n",
       "    }\n",
       "</style>\n",
       "<table border=\"1\" class=\"dataframe\">\n",
       "  <thead>\n",
       "    <tr style=\"text-align: right;\">\n",
       "      <th></th>\n",
       "      <th>0</th>\n",
       "      <th>1</th>\n",
       "      <th>2</th>\n",
       "      <th>3</th>\n",
       "      <th>4</th>\n",
       "      <th>5</th>\n",
       "      <th>6</th>\n",
       "      <th>7</th>\n",
       "      <th>8</th>\n",
       "      <th>9</th>\n",
       "      <th>...</th>\n",
       "      <th>27</th>\n",
       "      <th>28</th>\n",
       "      <th>29</th>\n",
       "      <th>30</th>\n",
       "      <th>31</th>\n",
       "      <th>32</th>\n",
       "      <th>33</th>\n",
       "      <th>34</th>\n",
       "      <th>35</th>\n",
       "      <th>36</th>\n",
       "    </tr>\n",
       "  </thead>\n",
       "  <tbody>\n",
       "    <tr>\n",
       "      <th>0</th>\n",
       "      <td>1</td>\n",
       "      <td>3</td>\n",
       "      <td>5</td>\n",
       "      <td>7</td>\n",
       "      <td>9</td>\n",
       "      <td>11</td>\n",
       "      <td>13</td>\n",
       "      <td>15</td>\n",
       "      <td>17</td>\n",
       "      <td>19</td>\n",
       "      <td>...</td>\n",
       "      <td>56</td>\n",
       "      <td>58</td>\n",
       "      <td>60</td>\n",
       "      <td>62</td>\n",
       "      <td>64</td>\n",
       "      <td>66</td>\n",
       "      <td>68</td>\n",
       "      <td>70</td>\n",
       "      <td>72</td>\n",
       "      <td>74</td>\n",
       "    </tr>\n",
       "    <tr>\n",
       "      <th>1</th>\n",
       "      <td>1</td>\n",
       "      <td>3</td>\n",
       "      <td>5</td>\n",
       "      <td>7</td>\n",
       "      <td>9</td>\n",
       "      <td>12</td>\n",
       "      <td>13</td>\n",
       "      <td>15</td>\n",
       "      <td>17</td>\n",
       "      <td>19</td>\n",
       "      <td>...</td>\n",
       "      <td>56</td>\n",
       "      <td>58</td>\n",
       "      <td>60</td>\n",
       "      <td>62</td>\n",
       "      <td>64</td>\n",
       "      <td>66</td>\n",
       "      <td>68</td>\n",
       "      <td>70</td>\n",
       "      <td>72</td>\n",
       "      <td>74</td>\n",
       "    </tr>\n",
       "    <tr>\n",
       "      <th>2</th>\n",
       "      <td>1</td>\n",
       "      <td>3</td>\n",
       "      <td>5</td>\n",
       "      <td>7</td>\n",
       "      <td>9</td>\n",
       "      <td>12</td>\n",
       "      <td>13</td>\n",
       "      <td>16</td>\n",
       "      <td>17</td>\n",
       "      <td>19</td>\n",
       "      <td>...</td>\n",
       "      <td>56</td>\n",
       "      <td>58</td>\n",
       "      <td>60</td>\n",
       "      <td>62</td>\n",
       "      <td>64</td>\n",
       "      <td>66</td>\n",
       "      <td>68</td>\n",
       "      <td>70</td>\n",
       "      <td>72</td>\n",
       "      <td>74</td>\n",
       "    </tr>\n",
       "    <tr>\n",
       "      <th>3</th>\n",
       "      <td>1</td>\n",
       "      <td>3</td>\n",
       "      <td>5</td>\n",
       "      <td>7</td>\n",
       "      <td>9</td>\n",
       "      <td>11</td>\n",
       "      <td>13</td>\n",
       "      <td>15</td>\n",
       "      <td>17</td>\n",
       "      <td>20</td>\n",
       "      <td>...</td>\n",
       "      <td>56</td>\n",
       "      <td>58</td>\n",
       "      <td>60</td>\n",
       "      <td>62</td>\n",
       "      <td>64</td>\n",
       "      <td>66</td>\n",
       "      <td>68</td>\n",
       "      <td>70</td>\n",
       "      <td>72</td>\n",
       "      <td>74</td>\n",
       "    </tr>\n",
       "    <tr>\n",
       "      <th>4</th>\n",
       "      <td>1</td>\n",
       "      <td>3</td>\n",
       "      <td>5</td>\n",
       "      <td>7</td>\n",
       "      <td>9</td>\n",
       "      <td>11</td>\n",
       "      <td>13</td>\n",
       "      <td>15</td>\n",
       "      <td>17</td>\n",
       "      <td>19</td>\n",
       "      <td>...</td>\n",
       "      <td>56</td>\n",
       "      <td>58</td>\n",
       "      <td>60</td>\n",
       "      <td>62</td>\n",
       "      <td>64</td>\n",
       "      <td>66</td>\n",
       "      <td>68</td>\n",
       "      <td>70</td>\n",
       "      <td>72</td>\n",
       "      <td>74</td>\n",
       "    </tr>\n",
       "  </tbody>\n",
       "</table>\n",
       "<p>5 rows × 37 columns</p>\n",
       "</div>"
      ],
      "text/plain": [
       "   0   1   2   3   4   5   6   7   8   9   ...  27  28  29  30  31  32  33  \\\n",
       "0   1   3   5   7   9  11  13  15  17  19  ...  56  58  60  62  64  66  68   \n",
       "1   1   3   5   7   9  12  13  15  17  19  ...  56  58  60  62  64  66  68   \n",
       "2   1   3   5   7   9  12  13  16  17  19  ...  56  58  60  62  64  66  68   \n",
       "3   1   3   5   7   9  11  13  15  17  20  ...  56  58  60  62  64  66  68   \n",
       "4   1   3   5   7   9  11  13  15  17  19  ...  56  58  60  62  64  66  68   \n",
       "\n",
       "   34  35  36  \n",
       "0  70  72  74  \n",
       "1  70  72  74  \n",
       "2  70  72  74  \n",
       "3  70  72  74  \n",
       "4  70  72  74  \n",
       "\n",
       "[5 rows x 37 columns]"
      ]
     },
     "execution_count": 4,
     "metadata": {},
     "output_type": "execute_result"
    }
   ],
   "source": [
    "# Le dataframe\n",
    "df = pd.read_table(\"https://bitbucket.org/anesbendimerad/sigibbssamplingcode/raw/6699a50508fe177ee0c00dcc7d8e5390ee53688a/ItemsetDatasets/chess.txt\", sep=\" \",header=None)\n",
    "del df[37]\n",
    "df.head()"
   ]
  },
  {
   "cell_type": "code",
   "execution_count": 7,
   "metadata": {
    "colab": {
     "base_uri": "https://localhost:8080/",
     "height": 424
    },
    "id": "GCZ8u8iiJe2_",
    "outputId": "0f4738f7-0ca7-41b1-e60a-af1732416a19"
   },
   "outputs": [
    {
     "data": {
      "text/html": [
       "<div>\n",
       "<style scoped>\n",
       "    .dataframe tbody tr th:only-of-type {\n",
       "        vertical-align: middle;\n",
       "    }\n",
       "\n",
       "    .dataframe tbody tr th {\n",
       "        vertical-align: top;\n",
       "    }\n",
       "\n",
       "    .dataframe thead th {\n",
       "        text-align: right;\n",
       "    }\n",
       "</style>\n",
       "<table border=\"1\" class=\"dataframe\">\n",
       "  <thead>\n",
       "    <tr style=\"text-align: right;\">\n",
       "      <th></th>\n",
       "      <th>0</th>\n",
       "      <th>1</th>\n",
       "      <th>2</th>\n",
       "      <th>3</th>\n",
       "      <th>4</th>\n",
       "    </tr>\n",
       "  </thead>\n",
       "  <tbody>\n",
       "    <tr>\n",
       "      <th>0</th>\n",
       "      <td>1</td>\n",
       "      <td>3</td>\n",
       "      <td>5</td>\n",
       "      <td>7</td>\n",
       "      <td>9 11 13 15 17 19 21 23 25 27 29 31 34 36 38 40...</td>\n",
       "    </tr>\n",
       "    <tr>\n",
       "      <th>1</th>\n",
       "      <td>1</td>\n",
       "      <td>3</td>\n",
       "      <td>5</td>\n",
       "      <td>7</td>\n",
       "      <td>9 12 13 15 17 19 21 23 25 27 29 31 34 36 38 40...</td>\n",
       "    </tr>\n",
       "    <tr>\n",
       "      <th>2</th>\n",
       "      <td>1</td>\n",
       "      <td>3</td>\n",
       "      <td>5</td>\n",
       "      <td>7</td>\n",
       "      <td>9 12 13 16 17 19 21 23 25 27 29 31 34 36 38 40...</td>\n",
       "    </tr>\n",
       "    <tr>\n",
       "      <th>3</th>\n",
       "      <td>1</td>\n",
       "      <td>3</td>\n",
       "      <td>5</td>\n",
       "      <td>7</td>\n",
       "      <td>9 11 13 15 17 20 21 23 25 27 29 31 34 36 38 40...</td>\n",
       "    </tr>\n",
       "    <tr>\n",
       "      <th>4</th>\n",
       "      <td>1</td>\n",
       "      <td>3</td>\n",
       "      <td>5</td>\n",
       "      <td>7</td>\n",
       "      <td>9 11 13 15 17 19 21 23 25 27 29 31 34 36 38 40...</td>\n",
       "    </tr>\n",
       "    <tr>\n",
       "      <th>...</th>\n",
       "      <td>...</td>\n",
       "      <td>...</td>\n",
       "      <td>...</td>\n",
       "      <td>...</td>\n",
       "      <td>...</td>\n",
       "    </tr>\n",
       "    <tr>\n",
       "      <th>3191</th>\n",
       "      <td>2</td>\n",
       "      <td>4</td>\n",
       "      <td>5</td>\n",
       "      <td>7</td>\n",
       "      <td>9 11 13 16 17 19 21 23 26 27 29 33 34 36 38 40...</td>\n",
       "    </tr>\n",
       "    <tr>\n",
       "      <th>3192</th>\n",
       "      <td>2</td>\n",
       "      <td>4</td>\n",
       "      <td>5</td>\n",
       "      <td>7</td>\n",
       "      <td>9 11 13 16 17 19 21 23 26 27 29 33 34 36 38 40...</td>\n",
       "    </tr>\n",
       "    <tr>\n",
       "      <th>3193</th>\n",
       "      <td>2</td>\n",
       "      <td>4</td>\n",
       "      <td>5</td>\n",
       "      <td>7</td>\n",
       "      <td>9 11 13 16 17 19 21 23 26 27 29 31 34 36 38 40...</td>\n",
       "    </tr>\n",
       "    <tr>\n",
       "      <th>3194</th>\n",
       "      <td>2</td>\n",
       "      <td>4</td>\n",
       "      <td>5</td>\n",
       "      <td>8</td>\n",
       "      <td>9 11 13 16 17 19 21 23 26 27 30 33 35 36 38 40...</td>\n",
       "    </tr>\n",
       "    <tr>\n",
       "      <th>3195</th>\n",
       "      <td>2</td>\n",
       "      <td>4</td>\n",
       "      <td>5</td>\n",
       "      <td>8</td>\n",
       "      <td>9 11 13 16 17 19 21 23 26 27 30 31 35 36 38 40...</td>\n",
       "    </tr>\n",
       "  </tbody>\n",
       "</table>\n",
       "<p>3196 rows × 5 columns</p>\n",
       "</div>"
      ],
      "text/plain": [
       "      0  1  2  3                                                  4\n",
       "0     1  3  5  7  9 11 13 15 17 19 21 23 25 27 29 31 34 36 38 40...\n",
       "1     1  3  5  7  9 12 13 15 17 19 21 23 25 27 29 31 34 36 38 40...\n",
       "2     1  3  5  7  9 12 13 16 17 19 21 23 25 27 29 31 34 36 38 40...\n",
       "3     1  3  5  7  9 11 13 15 17 20 21 23 25 27 29 31 34 36 38 40...\n",
       "4     1  3  5  7  9 11 13 15 17 19 21 23 25 27 29 31 34 36 38 40...\n",
       "...  .. .. .. ..                                                ...\n",
       "3191  2  4  5  7  9 11 13 16 17 19 21 23 26 27 29 33 34 36 38 40...\n",
       "3192  2  4  5  7  9 11 13 16 17 19 21 23 26 27 29 33 34 36 38 40...\n",
       "3193  2  4  5  7  9 11 13 16 17 19 21 23 26 27 29 31 34 36 38 40...\n",
       "3194  2  4  5  8  9 11 13 16 17 19 21 23 26 27 30 33 35 36 38 40...\n",
       "3195  2  4  5  8  9 11 13 16 17 19 21 23 26 27 30 31 35 36 38 40...\n",
       "\n",
       "[3196 rows x 5 columns]"
      ]
     },
     "execution_count": 7,
     "metadata": {},
     "output_type": "execute_result"
    }
   ],
   "source": [
    "df = pd.read_fwf(\"https://bitbucket.org/anesbendimerad/sigibbssamplingcode/raw/6699a50508fe177ee0c00dcc7d8e5390ee53688a/ItemsetDatasets/chess.txt\", sep=\"\",header=None)\n",
    "df"
   ]
  },
  {
   "cell_type": "markdown",
   "metadata": {
    "id": "_BKmRcvRXodb"
   },
   "source": [
    "## Question 1"
   ]
  },
  {
   "cell_type": "code",
   "execution_count": 2,
   "metadata": {
    "id": "YjH1fyI4VEAd"
   },
   "outputs": [],
   "source": [
    "def algoFrequences(df:pd.DataFrame,nb_pattern)-> tuple:\n",
    "  #R:set = set()\n",
    "  R = []\n",
    "  IsInR = set()\n",
    "  P: dict = dict()\n",
    "  w = np.zeros(df.shape[0])\n",
    "  totalW = 0\n",
    "    \n",
    "  # set les probas\n",
    "  for i in range(len(w)):\n",
    "    size = len(df.iloc[i].dropna())\n",
    "    w[i] = math.pow(2,size)\n",
    "    totalW += w[i]\n",
    "  \n",
    "  # on selectionne \n",
    "  while len(R) < nb_pattern:\n",
    "    random_row = random.uniform(0,totalW)\n",
    "    # On cherche la ligne\n",
    "    row = 0\n",
    "    v = 0\n",
    "    for i in range(len(w)):\n",
    "      if  v > random_row:\n",
    "        row = i - 1\n",
    "        break\n",
    "      v += w[i]\n",
    "    # On selctionne un motif \n",
    "    pattern = np.array(df.iloc[row].dropna())\n",
    "    random_v = random.randint(1, len(pattern) - 1 )\n",
    "    for i in range(len(pattern)- random_v):\n",
    "      pattern = np.delete(pattern, random.randint(0, len(pattern) - 1 ))\n",
    "    # On ajoute seulement les motifs non présent dans l'ensemble R\n",
    "    IsInR.add(np.array2string(pattern))\n",
    "    if len(IsInR) != len(R):\n",
    "      R.append(pattern)\n",
    "  return R"
   ]
  },
  {
   "cell_type": "code",
   "execution_count": 9,
   "metadata": {
    "colab": {
     "base_uri": "https://localhost:8080/"
    },
    "id": "X_dlL3MrwwbC",
    "outputId": "0dde1ad1-8915-444f-ff22-2a79cba3d745"
   },
   "outputs": [
    {
     "data": {
      "text/plain": [
       "[array([1], dtype=object),\n",
       " array([3, 7,\n",
       "        '9 12 14 16 17 19 21 24 25 27 29 32 34 36 39 40 43 44 46 48 51 52 54 56 58 60 62 65 66 68 71 72 74'],\n",
       "       dtype=object),\n",
       " array([3, 7], dtype=object),\n",
       " array([1, 7], dtype=object),\n",
       " array([3, 5, 7,\n",
       "        '9 11 14 15 17 19 22 24 25 27 29 32 34 36 38 40 42 45 46 48 50 52 54 56 58 60 62 65 66 69 70 72 74'],\n",
       "       dtype=object),\n",
       " array([7], dtype=object),\n",
       " array([2], dtype=object),\n",
       " array([3], dtype=object),\n",
       " array([5,\n",
       "        '9 12 14 15 18 20 22 24 25 27 29 32 34 36 39 40 43 44 46 48 50 52 54 56 58 60 62 64 66 68 71 73 74'],\n",
       "       dtype=object),\n",
       " array([2, 3,\n",
       "        '9 12 13 16 17 19 22 23 25 28 29 31 34 36 38 40 42 44 46 48 50 52 55 56 58 60 62 64 66 69 70 72 75'],\n",
       "       dtype=object)]"
      ]
     },
     "execution_count": 9,
     "metadata": {},
     "output_type": "execute_result"
    }
   ],
   "source": [
    "algoFrequences(df,10)"
   ]
  },
  {
   "cell_type": "markdown",
   "metadata": {
    "id": "PM8vykS4XZmw"
   },
   "source": [
    "## Question 2"
   ]
  },
  {
   "cell_type": "code",
   "execution_count": 3,
   "metadata": {
    "id": "NJGeGtYlXfLJ"
   },
   "outputs": [],
   "source": [
    "def algoArea(df:pd.DataFrame,nb_pattern)-> tuple:\n",
    "  R = []\n",
    "  IsInR = set()\n",
    "  \n",
    "  # set les probas\n",
    "  w = np.zeros(df[0].count())\n",
    "  totalW = 0\n",
    "  for i in range(1, len(w)):\n",
    "    size = len(df.iloc[i].dropna())\n",
    "    w[i] = size * (2 ** (size - 1))\n",
    "    totalW += w[i]\n",
    "  \n",
    "  # on selectionne \n",
    "  while len(R) < nb_pattern:\n",
    "    # On cherche la ligne\n",
    "    random_row = random.uniform(0,totalW)\n",
    "    v, row = 0,0\n",
    "    for i in range(len(w)):\n",
    "      if v > random_row:\n",
    "        row = i - 1\n",
    "        break\n",
    "      v += w[i]\n",
    "      \n",
    "    # On set les probabilités de k (taille du motif)\n",
    "    # On souhaite que le sous-ensemble est une taille calculée \n",
    "    # proportionnellement avec les tailles des datarecords (ligne) \n",
    "    ks = np.zeros(len(df.iloc[row].dropna()))\n",
    "    totalK = 0\n",
    "    for i in range(len(ks)):\n",
    "        ks[i] = sps.binom(len(ks), i + 1)\n",
    "        totalK += ks[i]\n",
    "    random_kp = random.uniform(0, totalK)\n",
    "    # On cherche la ligne\n",
    "    k, v = 0,0\n",
    "    for i in range(len(ks)):\n",
    "      if v > random_kp:\n",
    "        k = i - 1\n",
    "        break\n",
    "      v += ks[i]\n",
    "    \n",
    "    pattern = np.array(df.iloc[row])\n",
    "    for i in range(len(pattern)- k):\n",
    "      pattern = np.delete(pattern, random.randint(0, len(pattern) - 1 ))\n",
    "    \n",
    "    # On ajoute seulement les motifs non présent dans l'ensemble R\n",
    "    IsInR.add(np.array2string(pattern))\n",
    "    if len(IsInR) != len(R):\n",
    "      R.append(pattern)\n",
    "  return R"
   ]
  },
  {
   "cell_type": "code",
   "execution_count": 11,
   "metadata": {
    "colab": {
     "base_uri": "https://localhost:8080/"
    },
    "id": "cBN3lSJzlpqx",
    "outputId": "25f47460-6203-4869-b317-e9627f042c14"
   },
   "outputs": [
    {
     "data": {
      "text/plain": [
       "[array([], dtype=object),\n",
       " array([5, 7], dtype=object),\n",
       " array([2], dtype=object),\n",
       " array([1,\n",
       "        '9 11 13 15 17 19 21 23 25 27 29 31 34 36 39 40 42 44 46 48 51 52 54 56 58 60 62 64 66 68 70 72 74'],\n",
       "       dtype=object),\n",
       " array([3], dtype=object),\n",
       " array([5, 8], dtype=object),\n",
       " array([3,\n",
       "        '9 11 13 15 17 19 21 23 25 27 29 31 34 36 39 40 42 44 46 48 50 52 54 56 58 60 62 64 66 68 70 72 74'],\n",
       "       dtype=object),\n",
       " array([2,\n",
       "        '9 12 14 16 18 20 22 23 25 28 29 31 34 36 38 40 42 44 46 48 50 52 55 56 58 60 62 64 66 68 70 72 74'],\n",
       "       dtype=object),\n",
       " array([1], dtype=object),\n",
       " array(['9 11 14 15 17 20 21 23 26 28 29 31 34 36 38 40 42 44 47 48 50 52 54 56 58 60 62 64 66 68 70 72 74'],\n",
       "       dtype=object)]"
      ]
     },
     "execution_count": 11,
     "metadata": {},
     "output_type": "execute_result"
    }
   ],
   "source": [
    "algoArea(df,10)"
   ]
  },
  {
   "cell_type": "markdown",
   "metadata": {
    "id": "DCp4sUmdXi7L"
   },
   "source": [
    "##Question 3"
   ]
  },
  {
   "cell_type": "code",
   "execution_count": 4,
   "metadata": {
    "id": "RtVA7H1OXhXs"
   },
   "outputs": [],
   "source": [
    "def frequences(df, patterns):\n",
    "  frequencesP = np.zeros(len(patterns),dtype=float)\n",
    "  for i in range(df.shape[0]):\n",
    "    indexs = np.zeros(len(patterns),dtype=int)\n",
    "    for j in range(df.iloc[i].count()):\n",
    "      if df.iloc[i][j] == None:\n",
    "        break\n",
    "      for ip in range(len(patterns)):\n",
    "        #print(df.iloc[i][j],patterns[ip][indexs[ip]])\n",
    "        if (len(patterns[ip])!= indexs[ip] and \n",
    "            df.iloc[i][j] == patterns[ip][indexs[ip]]):\n",
    "          indexs[ip] += 1\n",
    "          if len(patterns[ip]) == indexs[ip]:\n",
    "            frequencesP[ip] += 1.\n",
    "        #print(indexs)\n",
    "  for i in range(len(frequencesP)):\n",
    "    frequencesP[i] = (frequencesP[i])/float(df.shape[0])\n",
    "  return frequencesP"
   ]
  },
  {
   "cell_type": "code",
   "execution_count": 13,
   "metadata": {
    "id": "grB3Wa0XNvwo"
   },
   "outputs": [],
   "source": [
    "patterns = algoFrequences(df,10)"
   ]
  },
  {
   "cell_type": "code",
   "execution_count": 14,
   "metadata": {
    "colab": {
     "base_uri": "https://localhost:8080/"
    },
    "id": "OyQcmwHAZdu-",
    "outputId": "fca91a17-37d9-44fb-c072-17608eb0caff"
   },
   "outputs": [
    {
     "data": {
      "text/plain": [
       "array([5.11264080e-01, 8.25719650e-01, 3.12891114e-04, 3.12891114e-04,\n",
       "       3.12891114e-04, 3.12891114e-04, 8.88297872e-01, 3.95181477e-01,\n",
       "       4.44618273e-01, 8.94555695e-01])"
      ]
     },
     "execution_count": 14,
     "metadata": {},
     "output_type": "execute_result"
    }
   ],
   "source": [
    "frequences(df,patterns)"
   ]
  },
  {
   "cell_type": "code",
   "execution_count": 5,
   "metadata": {
    "id": "9V9aqi0Jtvcb"
   },
   "outputs": [],
   "source": [
    "def aire(df, patterns):\n",
    "  aireP = np.zeros(len(patterns),dtype=int)\n",
    "  for i in range(df.shape[0]):\n",
    "    indexs = np.zeros(len(patterns),dtype=int)\n",
    "    for j in range(df.iloc[i].count()):\n",
    "      if df.iloc[i][j] == None:\n",
    "        break\n",
    "      for ip in range(len(patterns)):\n",
    "        #print(df.iloc[i][j],patterns[ip][indexs[ip]])\n",
    "        if (len(patterns[ip])!= indexs[ip] and \n",
    "            df.iloc[i][j] == patterns[ip][indexs[ip]]):\n",
    "          indexs[ip] += 1\n",
    "          if len(patterns[ip]) == indexs[ip]:\n",
    "            aireP[ip] += 1\n",
    "        #print(indexs)\n",
    "  for i in range(len(aireP)):\n",
    "    aireP[i] = aireP[i]*len(patterns[i])\n",
    "  return aireP"
   ]
  },
  {
   "cell_type": "code",
   "execution_count": 16,
   "metadata": {
    "id": "dY6ppMfqv-Fz"
   },
   "outputs": [],
   "source": [
    "patterns = algoArea(df,10)"
   ]
  },
  {
   "cell_type": "code",
   "execution_count": 18,
   "metadata": {
    "colab": {
     "base_uri": "https://localhost:8080/"
    },
    "id": "3T9a2ONWuCJS",
    "outputId": "db2e563c-3fdf-4c15-aaf3-dce4a126f490"
   },
   "outputs": [
    {
     "data": {
      "text/plain": [
       "array([   3, 2971, 5278,    3, 5718,    0,    3, 5530,    3, 2842])"
      ]
     },
     "execution_count": 18,
     "metadata": {},
     "output_type": "execute_result"
    }
   ],
   "source": [
    "aire(df,patterns)"
   ]
  },
  {
   "cell_type": "markdown",
   "metadata": {
    "id": "y_BCCw1aNJ8o"
   },
   "source": [
    "## Question 4"
   ]
  },
  {
   "cell_type": "markdown",
   "metadata": {
    "id": "pMYc_zX_oWIB"
   },
   "source": [
    "Nous allons maintenant tester nos algorithmes avec des jeux de données suggérés dans le sujet."
   ]
  },
  {
   "cell_type": "code",
   "execution_count": 6,
   "metadata": {
    "colab": {
     "base_uri": "https://localhost:8080/",
     "height": 204
    },
    "id": "lPYElfndNODK",
    "outputId": "09af6bad-133a-4bfe-8903-3cf3ef6c4b35"
   },
   "outputs": [
    {
     "data": {
      "text/html": [
       "<div>\n",
       "<style scoped>\n",
       "    .dataframe tbody tr th:only-of-type {\n",
       "        vertical-align: middle;\n",
       "    }\n",
       "\n",
       "    .dataframe tbody tr th {\n",
       "        vertical-align: top;\n",
       "    }\n",
       "\n",
       "    .dataframe thead th {\n",
       "        text-align: right;\n",
       "    }\n",
       "</style>\n",
       "<table border=\"1\" class=\"dataframe\">\n",
       "  <thead>\n",
       "    <tr style=\"text-align: right;\">\n",
       "      <th></th>\n",
       "      <th>0</th>\n",
       "      <th>1</th>\n",
       "      <th>2</th>\n",
       "      <th>3</th>\n",
       "      <th>4</th>\n",
       "      <th>5</th>\n",
       "      <th>6</th>\n",
       "      <th>7</th>\n",
       "      <th>8</th>\n",
       "      <th>9</th>\n",
       "      <th>...</th>\n",
       "      <th>27</th>\n",
       "      <th>28</th>\n",
       "      <th>29</th>\n",
       "      <th>30</th>\n",
       "      <th>31</th>\n",
       "      <th>32</th>\n",
       "      <th>33</th>\n",
       "      <th>34</th>\n",
       "      <th>35</th>\n",
       "      <th>36</th>\n",
       "    </tr>\n",
       "  </thead>\n",
       "  <tbody>\n",
       "    <tr>\n",
       "      <th>0</th>\n",
       "      <td>1</td>\n",
       "      <td>3</td>\n",
       "      <td>5</td>\n",
       "      <td>7</td>\n",
       "      <td>9</td>\n",
       "      <td>11</td>\n",
       "      <td>13</td>\n",
       "      <td>15</td>\n",
       "      <td>17</td>\n",
       "      <td>19</td>\n",
       "      <td>...</td>\n",
       "      <td>56</td>\n",
       "      <td>58</td>\n",
       "      <td>60</td>\n",
       "      <td>62</td>\n",
       "      <td>64</td>\n",
       "      <td>66</td>\n",
       "      <td>68</td>\n",
       "      <td>70</td>\n",
       "      <td>72</td>\n",
       "      <td>74</td>\n",
       "    </tr>\n",
       "    <tr>\n",
       "      <th>1</th>\n",
       "      <td>1</td>\n",
       "      <td>3</td>\n",
       "      <td>5</td>\n",
       "      <td>7</td>\n",
       "      <td>9</td>\n",
       "      <td>12</td>\n",
       "      <td>13</td>\n",
       "      <td>15</td>\n",
       "      <td>17</td>\n",
       "      <td>19</td>\n",
       "      <td>...</td>\n",
       "      <td>56</td>\n",
       "      <td>58</td>\n",
       "      <td>60</td>\n",
       "      <td>62</td>\n",
       "      <td>64</td>\n",
       "      <td>66</td>\n",
       "      <td>68</td>\n",
       "      <td>70</td>\n",
       "      <td>72</td>\n",
       "      <td>74</td>\n",
       "    </tr>\n",
       "    <tr>\n",
       "      <th>2</th>\n",
       "      <td>1</td>\n",
       "      <td>3</td>\n",
       "      <td>5</td>\n",
       "      <td>7</td>\n",
       "      <td>9</td>\n",
       "      <td>12</td>\n",
       "      <td>13</td>\n",
       "      <td>16</td>\n",
       "      <td>17</td>\n",
       "      <td>19</td>\n",
       "      <td>...</td>\n",
       "      <td>56</td>\n",
       "      <td>58</td>\n",
       "      <td>60</td>\n",
       "      <td>62</td>\n",
       "      <td>64</td>\n",
       "      <td>66</td>\n",
       "      <td>68</td>\n",
       "      <td>70</td>\n",
       "      <td>72</td>\n",
       "      <td>74</td>\n",
       "    </tr>\n",
       "    <tr>\n",
       "      <th>3</th>\n",
       "      <td>1</td>\n",
       "      <td>3</td>\n",
       "      <td>5</td>\n",
       "      <td>7</td>\n",
       "      <td>9</td>\n",
       "      <td>11</td>\n",
       "      <td>13</td>\n",
       "      <td>15</td>\n",
       "      <td>17</td>\n",
       "      <td>20</td>\n",
       "      <td>...</td>\n",
       "      <td>56</td>\n",
       "      <td>58</td>\n",
       "      <td>60</td>\n",
       "      <td>62</td>\n",
       "      <td>64</td>\n",
       "      <td>66</td>\n",
       "      <td>68</td>\n",
       "      <td>70</td>\n",
       "      <td>72</td>\n",
       "      <td>74</td>\n",
       "    </tr>\n",
       "    <tr>\n",
       "      <th>4</th>\n",
       "      <td>1</td>\n",
       "      <td>3</td>\n",
       "      <td>5</td>\n",
       "      <td>7</td>\n",
       "      <td>9</td>\n",
       "      <td>11</td>\n",
       "      <td>13</td>\n",
       "      <td>15</td>\n",
       "      <td>17</td>\n",
       "      <td>19</td>\n",
       "      <td>...</td>\n",
       "      <td>56</td>\n",
       "      <td>58</td>\n",
       "      <td>60</td>\n",
       "      <td>62</td>\n",
       "      <td>64</td>\n",
       "      <td>66</td>\n",
       "      <td>68</td>\n",
       "      <td>70</td>\n",
       "      <td>72</td>\n",
       "      <td>74</td>\n",
       "    </tr>\n",
       "  </tbody>\n",
       "</table>\n",
       "<p>5 rows × 37 columns</p>\n",
       "</div>"
      ],
      "text/plain": [
       "   0   1   2   3   4   5   6   7   8   9   ...  27  28  29  30  31  32  33  \\\n",
       "0   1   3   5   7   9  11  13  15  17  19  ...  56  58  60  62  64  66  68   \n",
       "1   1   3   5   7   9  12  13  15  17  19  ...  56  58  60  62  64  66  68   \n",
       "2   1   3   5   7   9  12  13  16  17  19  ...  56  58  60  62  64  66  68   \n",
       "3   1   3   5   7   9  11  13  15  17  20  ...  56  58  60  62  64  66  68   \n",
       "4   1   3   5   7   9  11  13  15  17  19  ...  56  58  60  62  64  66  68   \n",
       "\n",
       "   34  35  36  \n",
       "0  70  72  74  \n",
       "1  70  72  74  \n",
       "2  70  72  74  \n",
       "3  70  72  74  \n",
       "4  70  72  74  \n",
       "\n",
       "[5 rows x 37 columns]"
      ]
     },
     "execution_count": 6,
     "metadata": {},
     "output_type": "execute_result"
    }
   ],
   "source": [
    "dataset_1 = pd.read_table(\"https://bitbucket.org/anesbendimerad/sigibbssamplingcode/raw/6699a50508fe177ee0c00dcc7d8e5390ee53688a/ItemsetDatasets/chess.txt\", sep=\" \",header=None)\n",
    "del dataset_1[37]\n",
    "dataset_1.head()"
   ]
  },
  {
   "cell_type": "code",
   "execution_count": 11,
   "metadata": {
    "colab": {
     "base_uri": "https://localhost:8080/"
    },
    "id": "zSyBsDphWH37",
    "outputId": "d7501da0-beb6-4e17-b654-fd2a7f26a2e1"
   },
   "outputs": [
    {
     "name": "stdout",
     "output_type": "stream",
     "text": [
      "1\n",
      "2\n",
      "3\n",
      "4\n"
     ]
    }
   ],
   "source": [
    "# On réalise algoFrequence sur le dataset_1 5 fois.\n",
    "dsFrequence1 = algoFrequences(dataset_1, 5)\n",
    "# On ressort les fréquences \n",
    "print(1)\n",
    "freq1 = frequences(dataset_1, dsFrequence1)\n",
    "print(2)\n",
    "\n",
    "# On réalise algoAire sur le dataset_1.\n",
    "dsArea1 = algoArea(dataset_1, 10)\n",
    "print(3)\n",
    "# On ressort les valeur\n",
    "area1 = aire(dataset_1, dsArea1)\n",
    "print(4)"
   ]
  },
  {
   "cell_type": "code",
   "execution_count": 21,
   "metadata": {
    "colab": {
     "base_uri": "https://localhost:8080/",
     "height": 256
    },
    "id": "wS8aFb5CnCcT",
    "outputId": "38e6d175-11d5-41f3-d3fd-b4dab6dac04b"
   },
   "outputs": [
    {
     "data": {
      "text/html": [
       "<div>\n",
       "<style scoped>\n",
       "    .dataframe tbody tr th:only-of-type {\n",
       "        vertical-align: middle;\n",
       "    }\n",
       "\n",
       "    .dataframe tbody tr th {\n",
       "        vertical-align: top;\n",
       "    }\n",
       "\n",
       "    .dataframe thead th {\n",
       "        text-align: right;\n",
       "    }\n",
       "</style>\n",
       "<table border=\"1\" class=\"dataframe\">\n",
       "  <thead>\n",
       "    <tr style=\"text-align: right;\">\n",
       "      <th></th>\n",
       "      <th>0</th>\n",
       "      <th>1</th>\n",
       "      <th>2</th>\n",
       "      <th>3</th>\n",
       "      <th>4</th>\n",
       "      <th>5</th>\n",
       "      <th>6</th>\n",
       "      <th>7</th>\n",
       "      <th>8</th>\n",
       "      <th>9</th>\n",
       "      <th>...</th>\n",
       "      <th>93</th>\n",
       "      <th>94</th>\n",
       "      <th>95</th>\n",
       "      <th>96</th>\n",
       "      <th>97</th>\n",
       "      <th>98</th>\n",
       "      <th>99</th>\n",
       "      <th>100</th>\n",
       "      <th>101</th>\n",
       "      <th>102</th>\n",
       "    </tr>\n",
       "  </thead>\n",
       "  <tbody>\n",
       "    <tr>\n",
       "      <th>0</th>\n",
       "      <td>1</td>\n",
       "      <td>-1</td>\n",
       "      <td>2</td>\n",
       "      <td>-1</td>\n",
       "      <td>3</td>\n",
       "      <td>-1</td>\n",
       "      <td>-2</td>\n",
       "      <td>None</td>\n",
       "      <td>None</td>\n",
       "      <td>None</td>\n",
       "      <td>...</td>\n",
       "      <td>None</td>\n",
       "      <td>None</td>\n",
       "      <td>None</td>\n",
       "      <td>None</td>\n",
       "      <td>None</td>\n",
       "      <td>None</td>\n",
       "      <td>None</td>\n",
       "      <td>None</td>\n",
       "      <td>None</td>\n",
       "      <td>None</td>\n",
       "    </tr>\n",
       "    <tr>\n",
       "      <th>1</th>\n",
       "      <td>1</td>\n",
       "      <td>-1</td>\n",
       "      <td>-2</td>\n",
       "      <td>None</td>\n",
       "      <td>None</td>\n",
       "      <td>None</td>\n",
       "      <td>None</td>\n",
       "      <td>None</td>\n",
       "      <td>None</td>\n",
       "      <td>None</td>\n",
       "      <td>...</td>\n",
       "      <td>None</td>\n",
       "      <td>None</td>\n",
       "      <td>None</td>\n",
       "      <td>None</td>\n",
       "      <td>None</td>\n",
       "      <td>None</td>\n",
       "      <td>None</td>\n",
       "      <td>None</td>\n",
       "      <td>None</td>\n",
       "      <td>None</td>\n",
       "    </tr>\n",
       "    <tr>\n",
       "      <th>2</th>\n",
       "      <td>4</td>\n",
       "      <td>-1</td>\n",
       "      <td>5</td>\n",
       "      <td>-1</td>\n",
       "      <td>6</td>\n",
       "      <td>-1</td>\n",
       "      <td>7</td>\n",
       "      <td>-1</td>\n",
       "      <td>-2</td>\n",
       "      <td>None</td>\n",
       "      <td>...</td>\n",
       "      <td>None</td>\n",
       "      <td>None</td>\n",
       "      <td>None</td>\n",
       "      <td>None</td>\n",
       "      <td>None</td>\n",
       "      <td>None</td>\n",
       "      <td>None</td>\n",
       "      <td>None</td>\n",
       "      <td>None</td>\n",
       "      <td>None</td>\n",
       "    </tr>\n",
       "    <tr>\n",
       "      <th>3</th>\n",
       "      <td>1</td>\n",
       "      <td>-1</td>\n",
       "      <td>8</td>\n",
       "      <td>-1</td>\n",
       "      <td>-2</td>\n",
       "      <td>None</td>\n",
       "      <td>None</td>\n",
       "      <td>None</td>\n",
       "      <td>None</td>\n",
       "      <td>None</td>\n",
       "      <td>...</td>\n",
       "      <td>None</td>\n",
       "      <td>None</td>\n",
       "      <td>None</td>\n",
       "      <td>None</td>\n",
       "      <td>None</td>\n",
       "      <td>None</td>\n",
       "      <td>None</td>\n",
       "      <td>None</td>\n",
       "      <td>None</td>\n",
       "      <td>None</td>\n",
       "    </tr>\n",
       "    <tr>\n",
       "      <th>4</th>\n",
       "      <td>9</td>\n",
       "      <td>-1</td>\n",
       "      <td>10</td>\n",
       "      <td>-1</td>\n",
       "      <td>-2</td>\n",
       "      <td>None</td>\n",
       "      <td>None</td>\n",
       "      <td>None</td>\n",
       "      <td>None</td>\n",
       "      <td>None</td>\n",
       "      <td>...</td>\n",
       "      <td>None</td>\n",
       "      <td>None</td>\n",
       "      <td>None</td>\n",
       "      <td>None</td>\n",
       "      <td>None</td>\n",
       "      <td>None</td>\n",
       "      <td>None</td>\n",
       "      <td>None</td>\n",
       "      <td>None</td>\n",
       "      <td>None</td>\n",
       "    </tr>\n",
       "  </tbody>\n",
       "</table>\n",
       "<p>5 rows × 103 columns</p>\n",
       "</div>"
      ],
      "text/plain": [
       "  0   1   2     3     4     5     6     7     8     9    ...   93    94   \\\n",
       "0   1  -1   2    -1     3    -1    -2  None  None  None  ...  None  None   \n",
       "1   1  -1  -2  None  None  None  None  None  None  None  ...  None  None   \n",
       "2   4  -1   5    -1     6    -1     7    -1    -2  None  ...  None  None   \n",
       "3   1  -1   8    -1    -2  None  None  None  None  None  ...  None  None   \n",
       "4   9  -1  10    -1    -2  None  None  None  None  None  ...  None  None   \n",
       "\n",
       "    95    96    97    98    99    100   101   102  \n",
       "0  None  None  None  None  None  None  None  None  \n",
       "1  None  None  None  None  None  None  None  None  \n",
       "2  None  None  None  None  None  None  None  None  \n",
       "3  None  None  None  None  None  None  None  None  \n",
       "4  None  None  None  None  None  None  None  None  \n",
       "\n",
       "[5 rows x 103 columns]"
      ]
     },
     "execution_count": 21,
     "metadata": {},
     "output_type": "execute_result"
    }
   ],
   "source": [
    "dataset_2 = pd.read_fwf(\"https://www.philippe-fournier-viger.com/spmf/datasets/kosarak_sequences.txt\", sep=\" \",header=None,)\n",
    "dataset_2 = dataset_2[0].str.split(' ', expand=True)\n",
    "dataset_2.head()"
   ]
  },
  {
   "cell_type": "code",
   "execution_count": null,
   "metadata": {
    "colab": {
     "base_uri": "https://localhost:8080/"
    },
    "id": "zSyBsDphWH37",
    "outputId": "d7501da0-beb6-4e17-b654-fd2a7f26a2e1"
   },
   "outputs": [],
   "source": [
    "# On réalise algoFrequence sur le dataset_2 5 fois.\n",
    "dsFrequence2 = algoFrequences(dataset_2, 5)\n",
    "# On ressort les fréquences \n",
    "freq2 = frequences(dataset_2, dsFrequence2)\n",
    "\n",
    "# On réalise algoAire sur le dataset_2.\n",
    "dsArea2 = algoArea(dataset_2, 10)\n",
    "# On ressort les valeur\n",
    "area2 = aire(dataset_2, dsArea2)"
   ]
  },
  {
   "cell_type": "code",
   "execution_count": null,
   "metadata": {
    "colab": {
     "base_uri": "https://localhost:8080/"
    },
    "id": "H6EUwcOsMaDQ",
    "outputId": "6b6d0168-031b-48af-9875-3368f8bc4d49"
   },
   "outputs": [
    {
     "data": {
      "text/plain": [
       "0         1\n",
       "1        -1\n",
       "2         2\n",
       "3        -1\n",
       "4         3\n",
       "       ... \n",
       "98     None\n",
       "99     None\n",
       "100    None\n",
       "101    None\n",
       "102    None\n",
       "Name: 0, Length: 103, dtype: object"
      ]
     },
     "execution_count": 10,
     "metadata": {
      "tags": []
     },
     "output_type": "execute_result"
    }
   ],
   "source": [
    "dataset_2.iloc[0]"
   ]
  },
  {
   "cell_type": "code",
   "execution_count": null,
   "metadata": {
    "colab": {
     "base_uri": "https://localhost:8080/"
    },
    "id": "MB78ZWi-MWFm",
    "outputId": "537f8e03-3c00-4eee-a5e6-2dc09b26a36c"
   },
   "outputs": [
    {
     "data": {
      "text/plain": [
       "0     1\n",
       "1    -1\n",
       "2     2\n",
       "3    -1\n",
       "4     3\n",
       "5    -1\n",
       "6    -2\n",
       "Name: 0, dtype: object"
      ]
     },
     "execution_count": 11,
     "metadata": {
      "tags": []
     },
     "output_type": "execute_result"
    }
   ],
   "source": [
    "dataset_2.iloc[0].dropna()"
   ]
  },
  {
   "cell_type": "code",
   "execution_count": 66,
   "metadata": {
    "colab": {
     "base_uri": "https://localhost:8080/",
     "height": 224
    },
    "id": "F6zVzfLyn17x",
    "outputId": "4e4c2d68-2406-42ce-fd2d-0b32b4230b9f"
   },
   "outputs": [
    {
     "data": {
      "text/html": [
       "<div>\n",
       "<style scoped>\n",
       "    .dataframe tbody tr th:only-of-type {\n",
       "        vertical-align: middle;\n",
       "    }\n",
       "\n",
       "    .dataframe tbody tr th {\n",
       "        vertical-align: top;\n",
       "    }\n",
       "\n",
       "    .dataframe thead th {\n",
       "        text-align: right;\n",
       "    }\n",
       "</style>\n",
       "<table border=\"1\" class=\"dataframe\">\n",
       "  <thead>\n",
       "    <tr style=\"text-align: right;\">\n",
       "      <th></th>\n",
       "      <th>0</th>\n",
       "      <th>1</th>\n",
       "      <th>2</th>\n",
       "      <th>3</th>\n",
       "      <th>4</th>\n",
       "      <th>5</th>\n",
       "      <th>6</th>\n",
       "      <th>7</th>\n",
       "      <th>8</th>\n",
       "      <th>9</th>\n",
       "      <th>10</th>\n",
       "      <th>11</th>\n",
       "      <th>12</th>\n",
       "      <th>13</th>\n",
       "      <th>14</th>\n",
       "      <th>15</th>\n",
       "      <th>16</th>\n",
       "      <th>17</th>\n",
       "      <th>18</th>\n",
       "      <th>19</th>\n",
       "      <th>20</th>\n",
       "      <th>21</th>\n",
       "      <th>22</th>\n",
       "      <th>23</th>\n",
       "      <th>24</th>\n",
       "      <th>25</th>\n",
       "      <th>26</th>\n",
       "      <th>27</th>\n",
       "      <th>28</th>\n",
       "      <th>29</th>\n",
       "      <th>30</th>\n",
       "      <th>31</th>\n",
       "      <th>32</th>\n",
       "      <th>33</th>\n",
       "      <th>34</th>\n",
       "      <th>35</th>\n",
       "      <th>36</th>\n",
       "      <th>37</th>\n",
       "      <th>38</th>\n",
       "      <th>39</th>\n",
       "      <th>40</th>\n",
       "      <th>41</th>\n",
       "      <th>42</th>\n",
       "      <th>43</th>\n",
       "      <th>44</th>\n",
       "      <th>45</th>\n",
       "      <th>46</th>\n",
       "      <th>47</th>\n",
       "      <th>48</th>\n",
       "      <th>49</th>\n",
       "      <th>50</th>\n",
       "      <th>51</th>\n",
       "      <th>52</th>\n",
       "      <th>53</th>\n",
       "      <th>54</th>\n",
       "      <th>55</th>\n",
       "      <th>56</th>\n",
       "    </tr>\n",
       "  </thead>\n",
       "  <tbody>\n",
       "    <tr>\n",
       "      <th>0</th>\n",
       "      <td>6</td>\n",
       "      <td>-1</td>\n",
       "      <td>9</td>\n",
       "      <td>-1</td>\n",
       "      <td>4</td>\n",
       "      <td>-1</td>\n",
       "      <td>10</td>\n",
       "      <td>-1</td>\n",
       "      <td>3</td>\n",
       "      <td>-1</td>\n",
       "      <td>10</td>\n",
       "      <td>-1</td>\n",
       "      <td>5</td>\n",
       "      <td>-1</td>\n",
       "      <td>10</td>\n",
       "      <td>-1</td>\n",
       "      <td>4</td>\n",
       "      <td>-1</td>\n",
       "      <td>-2</td>\n",
       "      <td>None</td>\n",
       "      <td>None</td>\n",
       "      <td>None</td>\n",
       "      <td>None</td>\n",
       "      <td>None</td>\n",
       "      <td>None</td>\n",
       "      <td>None</td>\n",
       "      <td>None</td>\n",
       "      <td>None</td>\n",
       "      <td>None</td>\n",
       "      <td>None</td>\n",
       "      <td>None</td>\n",
       "      <td>None</td>\n",
       "      <td>None</td>\n",
       "      <td>None</td>\n",
       "      <td>None</td>\n",
       "      <td>None</td>\n",
       "      <td>None</td>\n",
       "      <td>None</td>\n",
       "      <td>None</td>\n",
       "      <td>None</td>\n",
       "      <td>None</td>\n",
       "      <td>None</td>\n",
       "      <td>None</td>\n",
       "      <td>None</td>\n",
       "      <td>None</td>\n",
       "      <td>None</td>\n",
       "      <td>None</td>\n",
       "      <td>None</td>\n",
       "      <td>None</td>\n",
       "      <td>None</td>\n",
       "      <td>None</td>\n",
       "      <td>None</td>\n",
       "      <td>None</td>\n",
       "      <td>None</td>\n",
       "      <td>None</td>\n",
       "      <td>None</td>\n",
       "      <td>None</td>\n",
       "    </tr>\n",
       "    <tr>\n",
       "      <th>1</th>\n",
       "      <td>13</td>\n",
       "      <td>-1</td>\n",
       "      <td>7</td>\n",
       "      <td>-1</td>\n",
       "      <td>13</td>\n",
       "      <td>-1</td>\n",
       "      <td>7</td>\n",
       "      <td>-1</td>\n",
       "      <td>13</td>\n",
       "      <td>-1</td>\n",
       "      <td>7</td>\n",
       "      <td>-1</td>\n",
       "      <td>13</td>\n",
       "      <td>-1</td>\n",
       "      <td>7</td>\n",
       "      <td>-1</td>\n",
       "      <td>13</td>\n",
       "      <td>-1</td>\n",
       "      <td>7</td>\n",
       "      <td>-1</td>\n",
       "      <td>13</td>\n",
       "      <td>-1</td>\n",
       "      <td>14</td>\n",
       "      <td>-1</td>\n",
       "      <td>13</td>\n",
       "      <td>-1</td>\n",
       "      <td>7</td>\n",
       "      <td>-1</td>\n",
       "      <td>4</td>\n",
       "      <td>-1</td>\n",
       "      <td>7</td>\n",
       "      <td>-1</td>\n",
       "      <td>13</td>\n",
       "      <td>-1</td>\n",
       "      <td>-2</td>\n",
       "      <td>None</td>\n",
       "      <td>None</td>\n",
       "      <td>None</td>\n",
       "      <td>None</td>\n",
       "      <td>None</td>\n",
       "      <td>None</td>\n",
       "      <td>None</td>\n",
       "      <td>None</td>\n",
       "      <td>None</td>\n",
       "      <td>None</td>\n",
       "      <td>None</td>\n",
       "      <td>None</td>\n",
       "      <td>None</td>\n",
       "      <td>None</td>\n",
       "      <td>None</td>\n",
       "      <td>None</td>\n",
       "      <td>None</td>\n",
       "      <td>None</td>\n",
       "      <td>None</td>\n",
       "      <td>None</td>\n",
       "      <td>None</td>\n",
       "      <td>None</td>\n",
       "    </tr>\n",
       "    <tr>\n",
       "      <th>2</th>\n",
       "      <td>1</td>\n",
       "      <td>-1</td>\n",
       "      <td>4</td>\n",
       "      <td>-1</td>\n",
       "      <td>7</td>\n",
       "      <td>-1</td>\n",
       "      <td>1</td>\n",
       "      <td>-1</td>\n",
       "      <td>10</td>\n",
       "      <td>-1</td>\n",
       "      <td>1</td>\n",
       "      <td>-1</td>\n",
       "      <td>2</td>\n",
       "      <td>-1</td>\n",
       "      <td>1</td>\n",
       "      <td>-1</td>\n",
       "      <td>6</td>\n",
       "      <td>-1</td>\n",
       "      <td>1</td>\n",
       "      <td>-1</td>\n",
       "      <td>-2</td>\n",
       "      <td>None</td>\n",
       "      <td>None</td>\n",
       "      <td>None</td>\n",
       "      <td>None</td>\n",
       "      <td>None</td>\n",
       "      <td>None</td>\n",
       "      <td>None</td>\n",
       "      <td>None</td>\n",
       "      <td>None</td>\n",
       "      <td>None</td>\n",
       "      <td>None</td>\n",
       "      <td>None</td>\n",
       "      <td>None</td>\n",
       "      <td>None</td>\n",
       "      <td>None</td>\n",
       "      <td>None</td>\n",
       "      <td>None</td>\n",
       "      <td>None</td>\n",
       "      <td>None</td>\n",
       "      <td>None</td>\n",
       "      <td>None</td>\n",
       "      <td>None</td>\n",
       "      <td>None</td>\n",
       "      <td>None</td>\n",
       "      <td>None</td>\n",
       "      <td>None</td>\n",
       "      <td>None</td>\n",
       "      <td>None</td>\n",
       "      <td>None</td>\n",
       "      <td>None</td>\n",
       "      <td>None</td>\n",
       "      <td>None</td>\n",
       "      <td>None</td>\n",
       "      <td>None</td>\n",
       "      <td>None</td>\n",
       "      <td>None</td>\n",
       "    </tr>\n",
       "    <tr>\n",
       "      <th>3</th>\n",
       "      <td>9</td>\n",
       "      <td>-1</td>\n",
       "      <td>7</td>\n",
       "      <td>-1</td>\n",
       "      <td>9</td>\n",
       "      <td>-1</td>\n",
       "      <td>7</td>\n",
       "      <td>-1</td>\n",
       "      <td>9</td>\n",
       "      <td>-1</td>\n",
       "      <td>12</td>\n",
       "      <td>-1</td>\n",
       "      <td>6</td>\n",
       "      <td>-1</td>\n",
       "      <td>10</td>\n",
       "      <td>-1</td>\n",
       "      <td>13</td>\n",
       "      <td>-1</td>\n",
       "      <td>14</td>\n",
       "      <td>-1</td>\n",
       "      <td>12</td>\n",
       "      <td>-1</td>\n",
       "      <td>3</td>\n",
       "      <td>-1</td>\n",
       "      <td>-2</td>\n",
       "      <td>None</td>\n",
       "      <td>None</td>\n",
       "      <td>None</td>\n",
       "      <td>None</td>\n",
       "      <td>None</td>\n",
       "      <td>None</td>\n",
       "      <td>None</td>\n",
       "      <td>None</td>\n",
       "      <td>None</td>\n",
       "      <td>None</td>\n",
       "      <td>None</td>\n",
       "      <td>None</td>\n",
       "      <td>None</td>\n",
       "      <td>None</td>\n",
       "      <td>None</td>\n",
       "      <td>None</td>\n",
       "      <td>None</td>\n",
       "      <td>None</td>\n",
       "      <td>None</td>\n",
       "      <td>None</td>\n",
       "      <td>None</td>\n",
       "      <td>None</td>\n",
       "      <td>None</td>\n",
       "      <td>None</td>\n",
       "      <td>None</td>\n",
       "      <td>None</td>\n",
       "      <td>None</td>\n",
       "      <td>None</td>\n",
       "      <td>None</td>\n",
       "      <td>None</td>\n",
       "      <td>None</td>\n",
       "      <td>None</td>\n",
       "    </tr>\n",
       "    <tr>\n",
       "      <th>4</th>\n",
       "      <td>4</td>\n",
       "      <td>-1</td>\n",
       "      <td>10</td>\n",
       "      <td>-1</td>\n",
       "      <td>2</td>\n",
       "      <td>-1</td>\n",
       "      <td>10</td>\n",
       "      <td>-1</td>\n",
       "      <td>12</td>\n",
       "      <td>-1</td>\n",
       "      <td>10</td>\n",
       "      <td>-1</td>\n",
       "      <td>7</td>\n",
       "      <td>-1</td>\n",
       "      <td>1</td>\n",
       "      <td>-1</td>\n",
       "      <td>10</td>\n",
       "      <td>-1</td>\n",
       "      <td>-2</td>\n",
       "      <td>None</td>\n",
       "      <td>None</td>\n",
       "      <td>None</td>\n",
       "      <td>None</td>\n",
       "      <td>None</td>\n",
       "      <td>None</td>\n",
       "      <td>None</td>\n",
       "      <td>None</td>\n",
       "      <td>None</td>\n",
       "      <td>None</td>\n",
       "      <td>None</td>\n",
       "      <td>None</td>\n",
       "      <td>None</td>\n",
       "      <td>None</td>\n",
       "      <td>None</td>\n",
       "      <td>None</td>\n",
       "      <td>None</td>\n",
       "      <td>None</td>\n",
       "      <td>None</td>\n",
       "      <td>None</td>\n",
       "      <td>None</td>\n",
       "      <td>None</td>\n",
       "      <td>None</td>\n",
       "      <td>None</td>\n",
       "      <td>None</td>\n",
       "      <td>None</td>\n",
       "      <td>None</td>\n",
       "      <td>None</td>\n",
       "      <td>None</td>\n",
       "      <td>None</td>\n",
       "      <td>None</td>\n",
       "      <td>None</td>\n",
       "      <td>None</td>\n",
       "      <td>None</td>\n",
       "      <td>None</td>\n",
       "      <td>None</td>\n",
       "      <td>None</td>\n",
       "      <td>None</td>\n",
       "    </tr>\n",
       "  </tbody>\n",
       "</table>\n",
       "</div>"
      ],
      "text/plain": [
       "   0   1   2   3   4   5   6   ...    50    51    52    53    54    55    56\n",
       "0   6  -1   9  -1   4  -1  10  ...  None  None  None  None  None  None  None\n",
       "1  13  -1   7  -1  13  -1   7  ...  None  None  None  None  None  None  None\n",
       "2   1  -1   4  -1   7  -1   1  ...  None  None  None  None  None  None  None\n",
       "3   9  -1   7  -1   9  -1   7  ...  None  None  None  None  None  None  None\n",
       "4   4  -1  10  -1   2  -1  10  ...  None  None  None  None  None  None  None\n",
       "\n",
       "[5 rows x 57 columns]"
      ]
     },
     "execution_count": 66,
     "metadata": {
      "tags": []
     },
     "output_type": "execute_result"
    }
   ],
   "source": [
    "dataset_3 = pd.read_fwf(\"https://www.philippe-fournier-viger.com/spmf/datasets/MSNBC.txt\", sep=\" \",header=None,)\n",
    "dataset_3 = dataset_3[0].str.split(' ', expand=True)\n",
    "dataset_3.head() "
   ]
  },
  {
   "cell_type": "code",
   "execution_count": null,
   "metadata": {
    "colab": {
     "base_uri": "https://localhost:8080/"
    },
    "id": "zSyBsDphWH37",
    "outputId": "d7501da0-beb6-4e17-b654-fd2a7f26a2e1"
   },
   "outputs": [],
   "source": [
    "# On réalise algoFrequence sur le dataset_3 5 fois.\n",
    "dsFrequence3 = algoFrequences(dataset_3, 5)\n",
    "# On ressort les fréquences \n",
    "freq3 = frequences(dataset_3, dsFrequence3)\n",
    "\n",
    "# On réalise algoAire sur le dataset_3.\n",
    "dsArea3 = algoArea(dataset_3, 10)\n",
    "# On ressort les valeur\n",
    "area3 = aire(dataset_3, dsArea3)"
   ]
  },
  {
   "cell_type": "code",
   "execution_count": null,
   "metadata": {
    "colab": {
     "base_uri": "https://localhost:8080/"
    },
    "id": "gIPlVPxaoFeY",
    "outputId": "7b1973c6-afdb-4f4d-9eb4-42a181d87b84"
   },
   "outputs": [
    {
     "data": {
      "text/plain": [
       "(36369, 175)"
      ]
     },
     "execution_count": 3,
     "metadata": {
      "tags": []
     },
     "output_type": "execute_result"
    }
   ],
   "source": [
    "dataset_4 = pd.read_fwf(\"https://www.philippe-fournier-viger.com/spmf/datasets/BIBLE.txt\", sep=\" \",header=None,)\n",
    "dataset_4 = dataset_4[0].str.split(' ', expand=True)\n",
    "dataset_4.shape"
   ]
  },
  {
   "cell_type": "code",
   "execution_count": null,
   "metadata": {
    "colab": {
     "base_uri": "https://localhost:8080/"
    },
    "id": "zSyBsDphWH37",
    "outputId": "d7501da0-beb6-4e17-b654-fd2a7f26a2e1"
   },
   "outputs": [],
   "source": [
    "# On réalise algoFrequence sur le dataset_4 5 fois.\n",
    "dsFrequence4 = algoFrequences(dataset_4, 5)\n",
    "# On ressort les fréquences \n",
    "freq4 = frequences(dataset_4, dsFrequence4)\n",
    "\n",
    "# On réalise algoAire sur le dataset_4.\n",
    "dsArea4 = algoArea(dataset_4, 10)\n",
    "# On ressort les valeur\n",
    "area4 = aire(dataset_4, dsArea4)"
   ]
  },
  {
   "cell_type": "markdown",
   "metadata": {
    "id": "D1uaF6e5pVd2"
   },
   "source": [
    "## Question 5\n",
    "\n",
    "### Etude emprique\n",
    "\n",
    "Nous allons étudier les dataset ci-dessus.\n",
    "\n",
    "#### Dataset n°1\n",
    "\n",
    "##### Algorithme de fréquence\n",
    "\n",
    "Dans un premier temps, nous allons analyser les 5 échantillons sur la fréquence ainsi que leurs aires. "
   ]
  },
  {
   "cell_type": "code",
   "execution_count": 12,
   "metadata": {
    "colab": {
     "base_uri": "https://localhost:8080/"
    },
    "id": "ccyKbbVRAwl6",
    "outputId": "765b523f-2e46-40e5-889f-80765e659127"
   },
   "outputs": [
    {
     "name": "stdout",
     "output_type": "stream",
     "text": [
      "[array([ 2,  3,  5,  9, 12, 14, 15, 18, 22, 23, 25, 27, 29, 31, 34, 36, 39,\n",
      "       40, 42, 44, 46, 50, 54, 56, 58, 60, 62, 64, 66, 68, 71, 72, 74]), array([ 1,  3,  5,  9, 11, 14, 18, 20, 21, 25, 28, 31, 36, 38, 40, 42, 44,\n",
      "       46, 54, 56, 58, 60, 62, 68, 70, 75]), array([ 2,  5,  7,  9, 11, 14, 15, 25, 27, 36, 39, 43, 44, 46, 48, 50, 54,\n",
      "       56, 60, 73]), array([ 5,  9, 12, 29, 34, 36, 39, 40, 46, 48, 51, 55, 56, 58, 66, 72, 75]), array([ 7, 12, 15, 17, 23, 29, 31, 36, 39, 40, 42, 45, 46, 50, 55, 58, 62,\n",
      "       71, 72, 74])]\n",
      "La fréquence est de  0.03128911138923655 %.\n",
      "La fréquence est de  0.0625782227784731 %.\n",
      "La fréquence est de  0.03128911138923655 %.\n",
      "La fréquence est de  0.4380475594493116 %.\n",
      "La fréquence est de  0.18773466833541927 %.\n"
     ]
    }
   ],
   "source": [
    "print(dsFrequence1)\n",
    "for f in freq1:\n",
    "    print(\"La fréquence est de \", f*100, \"%.\")"
   ]
  },
  {
   "cell_type": "markdown",
   "metadata": {},
   "source": [
    "Add some comments here\n",
    "\n",
    "##### Algorithme de l'aire\n",
    "Dans un second temps, nous allons analyser l'algorithme de l'aire."
   ]
  },
  {
   "cell_type": "code",
   "execution_count": 13,
   "metadata": {},
   "outputs": [
    {
     "name": "stdout",
     "output_type": "stream",
     "text": [
      "[array([ 3,  5, 20, 22, 23, 25, 29, 31, 46, 52, 56, 62, 64, 66, 68, 70, 72,\n",
      "       74]), array([ 2,  5, 12, 16, 17, 21, 23, 25, 28, 31, 34, 50, 57, 58, 62, 64]), array([ 2,  3,  9, 18, 20, 23, 29, 34, 40, 46, 54, 56, 58, 60, 64, 69, 71,\n",
      "       72, 74]), array([ 1,  7,  9, 11, 14, 17, 25, 32, 34, 36, 39, 43, 44, 52, 54, 56, 58,\n",
      "       60, 62, 65]), array([ 1,  3,  5,  7,  9, 11, 13, 17, 28, 29, 31, 34, 38, 40, 42, 46, 48,\n",
      "       52, 55, 58, 64, 66, 70, 75]), array([ 3,  5, 13, 15, 23, 27, 29, 31, 38, 48, 51, 52, 56, 58, 69, 72]), array([ 1,  6, 11, 14, 19, 21, 25, 31, 36, 39, 42, 48, 51, 52, 54, 56, 58,\n",
      "       64, 66, 68, 75]), array([ 5,  7, 11, 13, 17, 19, 21, 25, 27, 36, 38, 43, 46, 50, 56, 73]), array([ 2,  7, 19, 21, 27, 31, 34, 40, 44, 60, 65, 69, 73, 74]), array([ 4,  5, 12, 16, 20, 24, 25, 29, 31, 36, 38, 44, 46, 50, 52, 54, 56,\n",
      "       58, 62, 64, 68, 74])]\n",
      "[504  32 190 280 288 368  42 176 518 242]\n"
     ]
    }
   ],
   "source": [
    "print(dsArea1)\n",
    "print(area1)"
   ]
  },
  {
   "cell_type": "markdown",
   "metadata": {},
   "source": [
    "Add some comments here\n",
    "\n",
    "#### Dataset n°2\n",
    "\n",
    "##### Algorithme de fréquence \n",
    "\n",
    "Comme pour le dataset précédant, nous allons dans un premier temps executé l'algorithme de la fréquence et obtenir 5 échantillons. "
   ]
  },
  {
   "cell_type": "code",
   "execution_count": null,
   "metadata": {
    "colab": {
     "base_uri": "https://localhost:8080/"
    },
    "id": "ccyKbbVRAwl6",
    "outputId": "765b523f-2e46-40e5-889f-80765e659127"
   },
   "outputs": [],
   "source": [
    "echantillons = algoFrequences(dataset_2, 5)\n",
    "print(echantillons)"
   ]
  },
  {
   "cell_type": "markdown",
   "metadata": {},
   "source": [
    "Nous obtenons donc nos 5 motifs que nous allons analyser avec la fonction implémentées à la question 3."
   ]
  },
  {
   "cell_type": "code",
   "execution_count": null,
   "metadata": {
    "colab": {
     "base_uri": "https://localhost:8080/"
    },
    "id": "DgqpJxg8BkwH",
    "outputId": "311b25fc-ebf6-4a2e-9fbe-da01820f5f88"
   },
   "outputs": [],
   "source": [
    "freq = frequences(dataset_2, echantillons)\n",
    "for f in freq:\n",
    "    print(\"La fréquence est de \", f, \"%.\")"
   ]
  },
  {
   "cell_type": "markdown",
   "metadata": {},
   "source": [
    "Add some comments here\n",
    "\n",
    "##### Algorithme de l'aire\n",
    "Dans un second temps, nous allons exucter l'algorithme de la fréquence et chercher à obtenir un échantillon."
   ]
  },
  {
   "cell_type": "code",
   "execution_count": null,
   "metadata": {},
   "outputs": [],
   "source": [
    "echantillons = algoAire(dataset_2, 10)\n",
    "print(echantillons)"
   ]
  },
  {
   "cell_type": "markdown",
   "metadata": {},
   "source": [
    "Nous avons donc obtenu notre motif que nous allons analyser avec la fonction implémentées à la question 3."
   ]
  },
  {
   "cell_type": "code",
   "execution_count": null,
   "metadata": {},
   "outputs": [],
   "source": [
    "area = aire(dataset_2, echantillons)"
   ]
  },
  {
   "cell_type": "markdown",
   "metadata": {},
   "source": [
    "Add some comments here\n",
    "\n",
    "#### Dataset n°3\n",
    "\n",
    "##### Algorithme de fréquence \n",
    "\n",
    "Comme pour le dataset précédant, nous allons dans un premier temps executé l'algorithme de la fréquence et obtenir 5 échantillons. "
   ]
  },
  {
   "cell_type": "code",
   "execution_count": null,
   "metadata": {
    "colab": {
     "base_uri": "https://localhost:8080/"
    },
    "id": "ccyKbbVRAwl6",
    "outputId": "765b523f-2e46-40e5-889f-80765e659127"
   },
   "outputs": [],
   "source": [
    "echantillons = algoFrequences(dataset_3, 5)\n",
    "print(echantillons)"
   ]
  },
  {
   "cell_type": "markdown",
   "metadata": {},
   "source": [
    "Nous obtenons donc nos 5 motifs que nous allons analyser avec la fonction implémentées à la question 3."
   ]
  },
  {
   "cell_type": "code",
   "execution_count": null,
   "metadata": {
    "colab": {
     "base_uri": "https://localhost:8080/"
    },
    "id": "DgqpJxg8BkwH",
    "outputId": "311b25fc-ebf6-4a2e-9fbe-da01820f5f88"
   },
   "outputs": [],
   "source": [
    "freq = frequences(dataset_3, echantillons)\n",
    "for f in freq:\n",
    "    print(\"La fréquence est de \", f, \"%.\")"
   ]
  },
  {
   "cell_type": "markdown",
   "metadata": {},
   "source": [
    "Add some comments here\n",
    "\n",
    "##### Algorithme de l'aire\n",
    "Dans un second temps, nous allons exucter l'algorithme de la fréquence et chercher à obtenir un échantillon."
   ]
  },
  {
   "cell_type": "code",
   "execution_count": null,
   "metadata": {},
   "outputs": [],
   "source": [
    "echantillons = algoAire(dataset_3, 10)\n",
    "print(echantillons)"
   ]
  },
  {
   "cell_type": "markdown",
   "metadata": {},
   "source": [
    "Nous avons donc obtenu notre motif que nous allons analyser avec la fonction implémentées à la question 3."
   ]
  },
  {
   "cell_type": "code",
   "execution_count": null,
   "metadata": {},
   "outputs": [],
   "source": [
    "area = aire(dataset_3, echantillons)"
   ]
  },
  {
   "cell_type": "markdown",
   "metadata": {},
   "source": [
    "Add some comments here\n",
    "\n",
    "#### Dataset n°4\n",
    "\n",
    "##### Algorithme de fréquence \n",
    "\n",
    "Comme pour le dataset précédant, nous allons dans un premier temps executé l'algorithme de la fréquence et obtenir 5 échantillons. "
   ]
  },
  {
   "cell_type": "code",
   "execution_count": null,
   "metadata": {
    "colab": {
     "base_uri": "https://localhost:8080/"
    },
    "id": "ccyKbbVRAwl6",
    "outputId": "765b523f-2e46-40e5-889f-80765e659127"
   },
   "outputs": [],
   "source": [
    "echantillons = algoFrequences(dataset_4, 5)\n",
    "print(echantillons)"
   ]
  },
  {
   "cell_type": "markdown",
   "metadata": {},
   "source": [
    "Nous obtenons donc nos 5 motifs que nous allons analyser avec la fonction implémentées à la question 3."
   ]
  },
  {
   "cell_type": "code",
   "execution_count": null,
   "metadata": {
    "colab": {
     "base_uri": "https://localhost:8080/"
    },
    "id": "DgqpJxg8BkwH",
    "outputId": "311b25fc-ebf6-4a2e-9fbe-da01820f5f88"
   },
   "outputs": [],
   "source": [
    "freq = frequences(dataset_4, echantillons)\n",
    "for f in freq:\n",
    "    print(\"La fréquence est de \", f, \"%.\")"
   ]
  },
  {
   "cell_type": "markdown",
   "metadata": {},
   "source": [
    "Add some comments here\n",
    "\n",
    "##### Algorithme de l'aire\n",
    "Dans un second temps, nous allons exucter l'algorithme de la fréquence et chercher à obtenir un échantillon."
   ]
  },
  {
   "cell_type": "code",
   "execution_count": null,
   "metadata": {},
   "outputs": [],
   "source": [
    "echantillons = algoAire(dataset_4, 10)\n",
    "print(echantillons)"
   ]
  },
  {
   "cell_type": "markdown",
   "metadata": {},
   "source": [
    "Nous avons donc obtenu notre motif que nous allons analyser avec la fonction implémentées à la question 3."
   ]
  },
  {
   "cell_type": "code",
   "execution_count": null,
   "metadata": {},
   "outputs": [],
   "source": [
    "area = aire(dataset_4, echantillons)"
   ]
  },
  {
   "cell_type": "markdown",
   "metadata": {},
   "source": [
    "Add some comments here"
   ]
  },
  {
   "cell_type": "markdown",
   "metadata": {
    "id": "cb1rrE2JpwWi"
   },
   "source": [
    "## Question 6"
   ]
  },
  {
   "cell_type": "markdown",
   "metadata": {
    "id": "qbmQBuMFscQC"
   },
   "source": [
    "On a constaté que lorsque l'on avait une ligne beaucoup plus grande que les autres, les algorithmes de fréquence et d'aire favorisent la ligne la plus grande pour créer des motifs. On souhaite trouver des motifs fréquents, donc on souhaite éviter des motifs qui s'applique seulement dans des grandes lignes. Nous avons trouver trois solutions:\n",
    "\n",
    "*   Supprimer les grandes lignes du dataset\n",
    "*   Réduire la taille des grandes lignes\n",
    "*   Modifier le poids accorder à la ligne la plus grande\n"
   ]
  },
  {
   "cell_type": "code",
   "execution_count": null,
   "metadata": {
    "id": "gnCJcK6EpzfI"
   },
   "outputs": [],
   "source": [
    "dsetGL = pd.read_fwf(\"https://www.philippe-fournier-viger.com/spmf/datasets/kosarak_sequences.txt\", sep=\" \",header=None,)\n",
    "df_gl= dsetGL[0].str.split(' ', expand=True)"
   ]
  },
  {
   "cell_type": "markdown",
   "metadata": {
    "id": "pUPGML_e0P3n"
   },
   "source": [
    "## Cas où le dataset est chargé dans un df\n",
    "On va calculer la moyenne du nombre d'item par ligne et en fonction de cela on suprimera les colonnes supérieurs à la taille moyenne du nombre d'item/ligne\n",
    "On ne regarde pas toute les lignes on en regarde que 40% (on pourras changer)"
   ]
  },
  {
   "cell_type": "code",
   "execution_count": null,
   "metadata": {
    "colab": {
     "base_uri": "https://localhost:8080/"
    },
    "id": "sTHpqbKq3eBP",
    "outputId": "5f49c271-5cf3-48ad-cb7a-c3b7ca059980"
   },
   "outputs": [
    {
     "data": {
      "text/plain": [
       "(990002, 103)"
      ]
     },
     "execution_count": 215,
     "metadata": {
      "tags": []
     },
     "output_type": "execute_result"
    }
   ],
   "source": [
    "df_gl.shape "
   ]
  },
  {
   "cell_type": "code",
   "execution_count": null,
   "metadata": {
    "id": "x68bs1ADzJG9"
   },
   "outputs": [],
   "source": [
    "def resizeDataSet(df,percentage):\n",
    "  shape = df.shape\n",
    "  sum = 0\n",
    "  #for index, row in df.iterrows():\n",
    "  for _ in range(int(shape[0]*percentage)):\n",
    "    #if random.uniform(0.,100.) < 5.:\n",
    "    sum += shape[1] - df.iloc[random.randint(0,shape[0]-1)].isnull().sum()\n",
    "  mean = sum/(shape[0]*percentage)\n",
    "  for i in range(shape[1]-1,int(mean),-1):\n",
    "    del df[i]\n",
    "  return df"
   ]
  },
  {
   "cell_type": "code",
   "execution_count": null,
   "metadata": {
    "colab": {
     "base_uri": "https://localhost:8080/",
     "height": 424
    },
    "id": "zz-j87LP5sVr",
    "outputId": "5b060021-bcb9-43c0-80c0-659f1befeabc"
   },
   "outputs": [
    {
     "data": {
      "text/html": [
       "<div>\n",
       "<style scoped>\n",
       "    .dataframe tbody tr th:only-of-type {\n",
       "        vertical-align: middle;\n",
       "    }\n",
       "\n",
       "    .dataframe tbody tr th {\n",
       "        vertical-align: top;\n",
       "    }\n",
       "\n",
       "    .dataframe thead th {\n",
       "        text-align: right;\n",
       "    }\n",
       "</style>\n",
       "<table border=\"1\" class=\"dataframe\">\n",
       "  <thead>\n",
       "    <tr style=\"text-align: right;\">\n",
       "      <th></th>\n",
       "      <th>0</th>\n",
       "      <th>1</th>\n",
       "      <th>2</th>\n",
       "      <th>3</th>\n",
       "      <th>4</th>\n",
       "      <th>5</th>\n",
       "      <th>6</th>\n",
       "      <th>7</th>\n",
       "      <th>8</th>\n",
       "      <th>9</th>\n",
       "      <th>10</th>\n",
       "      <th>11</th>\n",
       "      <th>12</th>\n",
       "      <th>13</th>\n",
       "      <th>14</th>\n",
       "      <th>15</th>\n",
       "      <th>16</th>\n",
       "      <th>17</th>\n",
       "      <th>18</th>\n",
       "      <th>19</th>\n",
       "      <th>20</th>\n",
       "      <th>21</th>\n",
       "      <th>22</th>\n",
       "      <th>23</th>\n",
       "      <th>24</th>\n",
       "      <th>25</th>\n",
       "      <th>26</th>\n",
       "    </tr>\n",
       "  </thead>\n",
       "  <tbody>\n",
       "    <tr>\n",
       "      <th>0</th>\n",
       "      <td>6</td>\n",
       "      <td>-1</td>\n",
       "      <td>9</td>\n",
       "      <td>-1</td>\n",
       "      <td>4</td>\n",
       "      <td>-1</td>\n",
       "      <td>10</td>\n",
       "      <td>-1</td>\n",
       "      <td>3</td>\n",
       "      <td>-1</td>\n",
       "      <td>10</td>\n",
       "      <td>-1</td>\n",
       "      <td>5</td>\n",
       "      <td>-1</td>\n",
       "      <td>10</td>\n",
       "      <td>-1</td>\n",
       "      <td>4</td>\n",
       "      <td>-1</td>\n",
       "      <td>-2</td>\n",
       "      <td>None</td>\n",
       "      <td>None</td>\n",
       "      <td>None</td>\n",
       "      <td>None</td>\n",
       "      <td>None</td>\n",
       "      <td>None</td>\n",
       "      <td>None</td>\n",
       "      <td>None</td>\n",
       "    </tr>\n",
       "    <tr>\n",
       "      <th>1</th>\n",
       "      <td>13</td>\n",
       "      <td>-1</td>\n",
       "      <td>7</td>\n",
       "      <td>-1</td>\n",
       "      <td>13</td>\n",
       "      <td>-1</td>\n",
       "      <td>7</td>\n",
       "      <td>-1</td>\n",
       "      <td>13</td>\n",
       "      <td>-1</td>\n",
       "      <td>7</td>\n",
       "      <td>-1</td>\n",
       "      <td>13</td>\n",
       "      <td>-1</td>\n",
       "      <td>7</td>\n",
       "      <td>-1</td>\n",
       "      <td>13</td>\n",
       "      <td>-1</td>\n",
       "      <td>7</td>\n",
       "      <td>-1</td>\n",
       "      <td>13</td>\n",
       "      <td>-1</td>\n",
       "      <td>14</td>\n",
       "      <td>-1</td>\n",
       "      <td>13</td>\n",
       "      <td>-1</td>\n",
       "      <td>7</td>\n",
       "    </tr>\n",
       "    <tr>\n",
       "      <th>2</th>\n",
       "      <td>1</td>\n",
       "      <td>-1</td>\n",
       "      <td>4</td>\n",
       "      <td>-1</td>\n",
       "      <td>7</td>\n",
       "      <td>-1</td>\n",
       "      <td>1</td>\n",
       "      <td>-1</td>\n",
       "      <td>10</td>\n",
       "      <td>-1</td>\n",
       "      <td>1</td>\n",
       "      <td>-1</td>\n",
       "      <td>2</td>\n",
       "      <td>-1</td>\n",
       "      <td>1</td>\n",
       "      <td>-1</td>\n",
       "      <td>6</td>\n",
       "      <td>-1</td>\n",
       "      <td>1</td>\n",
       "      <td>-1</td>\n",
       "      <td>-2</td>\n",
       "      <td>None</td>\n",
       "      <td>None</td>\n",
       "      <td>None</td>\n",
       "      <td>None</td>\n",
       "      <td>None</td>\n",
       "      <td>None</td>\n",
       "    </tr>\n",
       "    <tr>\n",
       "      <th>3</th>\n",
       "      <td>9</td>\n",
       "      <td>-1</td>\n",
       "      <td>7</td>\n",
       "      <td>-1</td>\n",
       "      <td>9</td>\n",
       "      <td>-1</td>\n",
       "      <td>7</td>\n",
       "      <td>-1</td>\n",
       "      <td>9</td>\n",
       "      <td>-1</td>\n",
       "      <td>12</td>\n",
       "      <td>-1</td>\n",
       "      <td>6</td>\n",
       "      <td>-1</td>\n",
       "      <td>10</td>\n",
       "      <td>-1</td>\n",
       "      <td>13</td>\n",
       "      <td>-1</td>\n",
       "      <td>14</td>\n",
       "      <td>-1</td>\n",
       "      <td>12</td>\n",
       "      <td>-1</td>\n",
       "      <td>3</td>\n",
       "      <td>-1</td>\n",
       "      <td>-2</td>\n",
       "      <td>None</td>\n",
       "      <td>None</td>\n",
       "    </tr>\n",
       "    <tr>\n",
       "      <th>4</th>\n",
       "      <td>4</td>\n",
       "      <td>-1</td>\n",
       "      <td>10</td>\n",
       "      <td>-1</td>\n",
       "      <td>2</td>\n",
       "      <td>-1</td>\n",
       "      <td>10</td>\n",
       "      <td>-1</td>\n",
       "      <td>12</td>\n",
       "      <td>-1</td>\n",
       "      <td>10</td>\n",
       "      <td>-1</td>\n",
       "      <td>7</td>\n",
       "      <td>-1</td>\n",
       "      <td>1</td>\n",
       "      <td>-1</td>\n",
       "      <td>10</td>\n",
       "      <td>-1</td>\n",
       "      <td>-2</td>\n",
       "      <td>None</td>\n",
       "      <td>None</td>\n",
       "      <td>None</td>\n",
       "      <td>None</td>\n",
       "      <td>None</td>\n",
       "      <td>None</td>\n",
       "      <td>None</td>\n",
       "      <td>None</td>\n",
       "    </tr>\n",
       "    <tr>\n",
       "      <th>...</th>\n",
       "      <td>...</td>\n",
       "      <td>...</td>\n",
       "      <td>...</td>\n",
       "      <td>...</td>\n",
       "      <td>...</td>\n",
       "      <td>...</td>\n",
       "      <td>...</td>\n",
       "      <td>...</td>\n",
       "      <td>...</td>\n",
       "      <td>...</td>\n",
       "      <td>...</td>\n",
       "      <td>...</td>\n",
       "      <td>...</td>\n",
       "      <td>...</td>\n",
       "      <td>...</td>\n",
       "      <td>...</td>\n",
       "      <td>...</td>\n",
       "      <td>...</td>\n",
       "      <td>...</td>\n",
       "      <td>...</td>\n",
       "      <td>...</td>\n",
       "      <td>...</td>\n",
       "      <td>...</td>\n",
       "      <td>...</td>\n",
       "      <td>...</td>\n",
       "      <td>...</td>\n",
       "      <td>...</td>\n",
       "    </tr>\n",
       "    <tr>\n",
       "      <th>31785</th>\n",
       "      <td>9</td>\n",
       "      <td>-1</td>\n",
       "      <td>13</td>\n",
       "      <td>-1</td>\n",
       "      <td>8</td>\n",
       "      <td>-1</td>\n",
       "      <td>3</td>\n",
       "      <td>-1</td>\n",
       "      <td>14</td>\n",
       "      <td>-1</td>\n",
       "      <td>9</td>\n",
       "      <td>-1</td>\n",
       "      <td>13</td>\n",
       "      <td>-1</td>\n",
       "      <td>3</td>\n",
       "      <td>-1</td>\n",
       "      <td>14</td>\n",
       "      <td>-1</td>\n",
       "      <td>9</td>\n",
       "      <td>-1</td>\n",
       "      <td>-2</td>\n",
       "      <td>None</td>\n",
       "      <td>None</td>\n",
       "      <td>None</td>\n",
       "      <td>None</td>\n",
       "      <td>None</td>\n",
       "      <td>None</td>\n",
       "    </tr>\n",
       "    <tr>\n",
       "      <th>31786</th>\n",
       "      <td>6</td>\n",
       "      <td>-1</td>\n",
       "      <td>7</td>\n",
       "      <td>-1</td>\n",
       "      <td>6</td>\n",
       "      <td>-1</td>\n",
       "      <td>7</td>\n",
       "      <td>-1</td>\n",
       "      <td>6</td>\n",
       "      <td>-1</td>\n",
       "      <td>7</td>\n",
       "      <td>-1</td>\n",
       "      <td>6</td>\n",
       "      <td>-1</td>\n",
       "      <td>7</td>\n",
       "      <td>-1</td>\n",
       "      <td>6</td>\n",
       "      <td>-1</td>\n",
       "      <td>-2</td>\n",
       "      <td>None</td>\n",
       "      <td>None</td>\n",
       "      <td>None</td>\n",
       "      <td>None</td>\n",
       "      <td>None</td>\n",
       "      <td>None</td>\n",
       "      <td>None</td>\n",
       "      <td>None</td>\n",
       "    </tr>\n",
       "    <tr>\n",
       "      <th>31787</th>\n",
       "      <td>1</td>\n",
       "      <td>-1</td>\n",
       "      <td>12</td>\n",
       "      <td>-1</td>\n",
       "      <td>1</td>\n",
       "      <td>-1</td>\n",
       "      <td>10</td>\n",
       "      <td>-1</td>\n",
       "      <td>1</td>\n",
       "      <td>-1</td>\n",
       "      <td>2</td>\n",
       "      <td>-1</td>\n",
       "      <td>11</td>\n",
       "      <td>-1</td>\n",
       "      <td>4</td>\n",
       "      <td>-1</td>\n",
       "      <td>11</td>\n",
       "      <td>-1</td>\n",
       "      <td>6</td>\n",
       "      <td>-1</td>\n",
       "      <td>11</td>\n",
       "      <td>-1</td>\n",
       "      <td>4</td>\n",
       "      <td>-1</td>\n",
       "      <td>1</td>\n",
       "      <td>-1</td>\n",
       "      <td>7</td>\n",
       "    </tr>\n",
       "    <tr>\n",
       "      <th>31788</th>\n",
       "      <td>1</td>\n",
       "      <td>-1</td>\n",
       "      <td>2</td>\n",
       "      <td>-1</td>\n",
       "      <td>12</td>\n",
       "      <td>-1</td>\n",
       "      <td>2</td>\n",
       "      <td>-1</td>\n",
       "      <td>7</td>\n",
       "      <td>-1</td>\n",
       "      <td>1</td>\n",
       "      <td>-1</td>\n",
       "      <td>12</td>\n",
       "      <td>-1</td>\n",
       "      <td>7</td>\n",
       "      <td>-1</td>\n",
       "      <td>4</td>\n",
       "      <td>-1</td>\n",
       "      <td>12</td>\n",
       "      <td>-1</td>\n",
       "      <td>-2</td>\n",
       "      <td>None</td>\n",
       "      <td>None</td>\n",
       "      <td>None</td>\n",
       "      <td>None</td>\n",
       "      <td>None</td>\n",
       "      <td>None</td>\n",
       "    </tr>\n",
       "    <tr>\n",
       "      <th>31789</th>\n",
       "      <td>13</td>\n",
       "      <td>-1</td>\n",
       "      <td>7</td>\n",
       "      <td>-1</td>\n",
       "      <td>4</td>\n",
       "      <td>-1</td>\n",
       "      <td>7</td>\n",
       "      <td>-1</td>\n",
       "      <td>8</td>\n",
       "      <td>-1</td>\n",
       "      <td>13</td>\n",
       "      <td>-1</td>\n",
       "      <td>7</td>\n",
       "      <td>-1</td>\n",
       "      <td>4</td>\n",
       "      <td>-1</td>\n",
       "      <td>8</td>\n",
       "      <td>-1</td>\n",
       "      <td>10</td>\n",
       "      <td>-1</td>\n",
       "      <td>8</td>\n",
       "      <td>-1</td>\n",
       "      <td>5</td>\n",
       "      <td>-1</td>\n",
       "      <td>8</td>\n",
       "      <td>-1</td>\n",
       "      <td>-2</td>\n",
       "    </tr>\n",
       "  </tbody>\n",
       "</table>\n",
       "<p>31790 rows × 27 columns</p>\n",
       "</div>"
      ],
      "text/plain": [
       "       0   1   2   3   4   5   6   ...    20    21    22    23    24    25    26\n",
       "0       6  -1   9  -1   4  -1  10  ...  None  None  None  None  None  None  None\n",
       "1      13  -1   7  -1  13  -1   7  ...    13    -1    14    -1    13    -1     7\n",
       "2       1  -1   4  -1   7  -1   1  ...    -2  None  None  None  None  None  None\n",
       "3       9  -1   7  -1   9  -1   7  ...    12    -1     3    -1    -2  None  None\n",
       "4       4  -1  10  -1   2  -1  10  ...  None  None  None  None  None  None  None\n",
       "...    ..  ..  ..  ..  ..  ..  ..  ...   ...   ...   ...   ...   ...   ...   ...\n",
       "31785   9  -1  13  -1   8  -1   3  ...    -2  None  None  None  None  None  None\n",
       "31786   6  -1   7  -1   6  -1   7  ...  None  None  None  None  None  None  None\n",
       "31787   1  -1  12  -1   1  -1  10  ...    11    -1     4    -1     1    -1     7\n",
       "31788   1  -1   2  -1  12  -1   2  ...    -2  None  None  None  None  None  None\n",
       "31789  13  -1   7  -1   4  -1   7  ...     8    -1     5    -1     8    -1    -2\n",
       "\n",
       "[31790 rows x 27 columns]"
      ]
     },
     "execution_count": 17,
     "metadata": {
      "tags": []
     },
     "output_type": "execute_result"
    }
   ],
   "source": [
    "resizeDataSet(dataset_3,0.4)"
   ]
  },
  {
   "cell_type": "markdown",
   "metadata": {
    "id": "ykMFpM-61PFD"
   },
   "source": [
    "## Troisième solution\n",
    "Text  a mettre richard"
   ]
  },
  {
   "cell_type": "markdown",
   "metadata": {
    "id": "wKsRsyXmQtye"
   },
   "source": [
    "Dans cette troisième approche, on va faire une moyenne mobile de la valeur de poid\n",
    "\n",
    "[Info pour blabla](https://www.educatim.fr/tq/co/Module_TQ_web/co/moyenne_glissante.html)"
   ]
  },
  {
   "cell_type": "code",
   "execution_count": null,
   "metadata": {
    "id": "D24SfrAUYUj7"
   },
   "outputs": [],
   "source": [
    "def algoFrequencesSolutionA(df:pd.DataFrame,nb_pattern)-> tuple:\n",
    "  #R:set = set()\n",
    "  R = []\n",
    "  IsInR = set()\n",
    "  P: dict = dict()\n",
    "  w = np.zeros(df[0].count())\n",
    "  totalW = 0\n",
    "  # set les probas\n",
    "  for i in range(len(w)):\n",
    "    w[i] = math.pow(2,len(df.iloc[i]))\n",
    "    if i >= 2:\n",
    "      w[i] = (w[i] + w[i-1] + w[i-2])/ 3\n",
    "    totalW += w[i]\n",
    "  \n",
    "  # on selectionne \n",
    "  while len(R) < nb_pattern:\n",
    "    random_row = random.uniform(0,totalW)\n",
    "    # On cherche la ligne\n",
    "    row = 0\n",
    "    v = 0\n",
    "    for i in range(len(w)):\n",
    "      if  v > random_row:\n",
    "        row = i - 1\n",
    "        break\n",
    "      v += w[i]\n",
    "    # On selctionne un motif \n",
    "    pattern = np.array(df.iloc[row])\n",
    "    random_v = random.randint(1, len(df.iloc[row]) - 1 )\n",
    "    for i in range(len(pattern)- random_v):\n",
    "      pattern = np.delete(pattern, random.randint(0, len(pattern) - 1 ))\n",
    "    # On ajoute seulement les motifes non présent dans l'ensemble R\n",
    "    IsInR.add(np.array2string(pattern))\n",
    "    if len(IsInR) != len(R):\n",
    "      R.append(pattern)\n",
    "  return R"
   ]
  },
  {
   "cell_type": "code",
   "execution_count": null,
   "metadata": {
    "id": "cpKfHwKxoIq8"
   },
   "outputs": [],
   "source": []
  }
 ],
 "metadata": {
  "colab": {
   "collapsed_sections": [],
   "include_colab_link": true,
   "name": "TP_DataMining",
   "provenance": []
  },
  "kernelspec": {
   "display_name": "Python 3",
   "language": "python",
   "name": "python3"
  },
  "language_info": {
   "codemirror_mode": {
    "name": "ipython",
    "version": 3
   },
   "file_extension": ".py",
   "mimetype": "text/x-python",
   "name": "python",
   "nbconvert_exporter": "python",
   "pygments_lexer": "ipython3",
   "version": "3.7.6"
  }
 },
 "nbformat": 4,
 "nbformat_minor": 4
}
