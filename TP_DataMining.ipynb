{
 "cells": [
  {
   "cell_type": "markdown",
   "metadata": {
    "id": "rT5_WhBiUnw6"
   },
   "source": [
    "# Échantillonnage direct de l'espace des motifs\n",
    "\n",
    "### BRUNEAU Richard - VASLIN Pierre\n",
    "\n",
    "\n",
    "\n"
   ]
  },
  {
   "cell_type": "code",
   "execution_count": 2,
   "metadata": {
    "id": "hfUuyvYBX6aH"
   },
   "outputs": [],
   "source": [
    "import numpy as np\n",
    "import scipy.special as sps\n",
    "import math\n",
    "import matplotlib\n",
    "import pandas as pd\n",
    "import random\n",
    "\n",
    "class DataSet():\n",
    "    def __init__(self,df:pd.DataFrame):\n",
    "        self.df = df\n",
    "        self.sizes = np.zeros(self.df.shape[0],dtype=int)\n",
    "        for i in range(self.df.shape[0]):\n",
    "            self.sizes[i] = self.df.iloc[i].count()\n",
    "        # Sizes est pour connaitre la taille d'une ligne en o(1)\n",
    "        # Pandas gère mal la variation du nombre de colonne dans une ligne dans un dataFrame, par concéquent \n",
    "        # il recalcul à chaque fois le nombre d'élément non null o(n)\n"
   ]
  },
  {
   "cell_type": "code",
   "execution_count": 3,
   "metadata": {
    "colab": {
     "base_uri": "https://localhost:8080/",
     "height": 204
    },
    "id": "gOavPKYmYF_A",
    "outputId": "2261f7eb-c140-40e7-a387-f68a1d6d7ef9"
   },
   "outputs": [
    {
     "data": {
      "text/html": [
       "<div>\n",
       "<style scoped>\n",
       "    .dataframe tbody tr th:only-of-type {\n",
       "        vertical-align: middle;\n",
       "    }\n",
       "\n",
       "    .dataframe tbody tr th {\n",
       "        vertical-align: top;\n",
       "    }\n",
       "\n",
       "    .dataframe thead th {\n",
       "        text-align: right;\n",
       "    }\n",
       "</style>\n",
       "<table border=\"1\" class=\"dataframe\">\n",
       "  <thead>\n",
       "    <tr style=\"text-align: right;\">\n",
       "      <th></th>\n",
       "      <th>0</th>\n",
       "      <th>1</th>\n",
       "      <th>2</th>\n",
       "      <th>3</th>\n",
       "      <th>4</th>\n",
       "      <th>5</th>\n",
       "      <th>6</th>\n",
       "      <th>7</th>\n",
       "      <th>8</th>\n",
       "      <th>9</th>\n",
       "      <th>...</th>\n",
       "      <th>27</th>\n",
       "      <th>28</th>\n",
       "      <th>29</th>\n",
       "      <th>30</th>\n",
       "      <th>31</th>\n",
       "      <th>32</th>\n",
       "      <th>33</th>\n",
       "      <th>34</th>\n",
       "      <th>35</th>\n",
       "      <th>36</th>\n",
       "    </tr>\n",
       "  </thead>\n",
       "  <tbody>\n",
       "    <tr>\n",
       "      <th>0</th>\n",
       "      <td>1</td>\n",
       "      <td>3</td>\n",
       "      <td>5</td>\n",
       "      <td>7</td>\n",
       "      <td>9</td>\n",
       "      <td>11</td>\n",
       "      <td>13</td>\n",
       "      <td>15</td>\n",
       "      <td>17</td>\n",
       "      <td>19</td>\n",
       "      <td>...</td>\n",
       "      <td>56</td>\n",
       "      <td>58</td>\n",
       "      <td>60</td>\n",
       "      <td>62</td>\n",
       "      <td>64</td>\n",
       "      <td>66</td>\n",
       "      <td>68</td>\n",
       "      <td>70</td>\n",
       "      <td>72</td>\n",
       "      <td>74</td>\n",
       "    </tr>\n",
       "    <tr>\n",
       "      <th>1</th>\n",
       "      <td>1</td>\n",
       "      <td>3</td>\n",
       "      <td>5</td>\n",
       "      <td>7</td>\n",
       "      <td>9</td>\n",
       "      <td>12</td>\n",
       "      <td>13</td>\n",
       "      <td>15</td>\n",
       "      <td>17</td>\n",
       "      <td>19</td>\n",
       "      <td>...</td>\n",
       "      <td>56</td>\n",
       "      <td>58</td>\n",
       "      <td>60</td>\n",
       "      <td>62</td>\n",
       "      <td>64</td>\n",
       "      <td>66</td>\n",
       "      <td>68</td>\n",
       "      <td>70</td>\n",
       "      <td>72</td>\n",
       "      <td>74</td>\n",
       "    </tr>\n",
       "    <tr>\n",
       "      <th>2</th>\n",
       "      <td>1</td>\n",
       "      <td>3</td>\n",
       "      <td>5</td>\n",
       "      <td>7</td>\n",
       "      <td>9</td>\n",
       "      <td>12</td>\n",
       "      <td>13</td>\n",
       "      <td>16</td>\n",
       "      <td>17</td>\n",
       "      <td>19</td>\n",
       "      <td>...</td>\n",
       "      <td>56</td>\n",
       "      <td>58</td>\n",
       "      <td>60</td>\n",
       "      <td>62</td>\n",
       "      <td>64</td>\n",
       "      <td>66</td>\n",
       "      <td>68</td>\n",
       "      <td>70</td>\n",
       "      <td>72</td>\n",
       "      <td>74</td>\n",
       "    </tr>\n",
       "    <tr>\n",
       "      <th>3</th>\n",
       "      <td>1</td>\n",
       "      <td>3</td>\n",
       "      <td>5</td>\n",
       "      <td>7</td>\n",
       "      <td>9</td>\n",
       "      <td>11</td>\n",
       "      <td>13</td>\n",
       "      <td>15</td>\n",
       "      <td>17</td>\n",
       "      <td>20</td>\n",
       "      <td>...</td>\n",
       "      <td>56</td>\n",
       "      <td>58</td>\n",
       "      <td>60</td>\n",
       "      <td>62</td>\n",
       "      <td>64</td>\n",
       "      <td>66</td>\n",
       "      <td>68</td>\n",
       "      <td>70</td>\n",
       "      <td>72</td>\n",
       "      <td>74</td>\n",
       "    </tr>\n",
       "    <tr>\n",
       "      <th>4</th>\n",
       "      <td>1</td>\n",
       "      <td>3</td>\n",
       "      <td>5</td>\n",
       "      <td>7</td>\n",
       "      <td>9</td>\n",
       "      <td>11</td>\n",
       "      <td>13</td>\n",
       "      <td>15</td>\n",
       "      <td>17</td>\n",
       "      <td>19</td>\n",
       "      <td>...</td>\n",
       "      <td>56</td>\n",
       "      <td>58</td>\n",
       "      <td>60</td>\n",
       "      <td>62</td>\n",
       "      <td>64</td>\n",
       "      <td>66</td>\n",
       "      <td>68</td>\n",
       "      <td>70</td>\n",
       "      <td>72</td>\n",
       "      <td>74</td>\n",
       "    </tr>\n",
       "  </tbody>\n",
       "</table>\n",
       "<p>5 rows × 37 columns</p>\n",
       "</div>"
      ],
      "text/plain": [
       "   0   1   2   3   4   5   6   7   8   9   ...  27  28  29  30  31  32  33  \\\n",
       "0   1   3   5   7   9  11  13  15  17  19  ...  56  58  60  62  64  66  68   \n",
       "1   1   3   5   7   9  12  13  15  17  19  ...  56  58  60  62  64  66  68   \n",
       "2   1   3   5   7   9  12  13  16  17  19  ...  56  58  60  62  64  66  68   \n",
       "3   1   3   5   7   9  11  13  15  17  20  ...  56  58  60  62  64  66  68   \n",
       "4   1   3   5   7   9  11  13  15  17  19  ...  56  58  60  62  64  66  68   \n",
       "\n",
       "   34  35  36  \n",
       "0  70  72  74  \n",
       "1  70  72  74  \n",
       "2  70  72  74  \n",
       "3  70  72  74  \n",
       "4  70  72  74  \n",
       "\n",
       "[5 rows x 37 columns]"
      ]
     },
     "execution_count": 3,
     "metadata": {},
     "output_type": "execute_result"
    }
   ],
   "source": [
    "# Le dataframe pour les tests\n",
    "df = pd.read_table(\"https://bitbucket.org/anesbendimerad/sigibbssamplingcode/raw/6699a50508fe177ee0c00dcc7d8e5390ee53688a/ItemsetDatasets/chess.txt\", sep=\" \",header=None)\n",
    "del df[37]\n",
    "ds = DataSet(df)\n",
    "ds.df.head()"
   ]
  },
  {
   "cell_type": "markdown",
   "metadata": {
    "id": "_BKmRcvRXodb"
   },
   "source": [
    "## Question 1"
   ]
  },
  {
   "cell_type": "code",
   "execution_count": 4,
   "metadata": {
    "id": "YjH1fyI4VEAd"
   },
   "outputs": [],
   "source": [
    "def algoFrequences(ds:DataSet,nb_pattern)-> tuple:\n",
    "  df = ds.df\n",
    "  sizes = ds.sizes\n",
    "  R = []\n",
    "  IsInR = set()\n",
    "  P: dict = dict()\n",
    "  w = np.zeros(df.shape[0])\n",
    "  totalW = 0\n",
    "    \n",
    "  # set les probas\n",
    "  for i in range(len(w)):\n",
    "    w[i] = math.pow(2,sizes[i])\n",
    "    totalW += w[i]\n",
    "  \n",
    "  # on selectionne \n",
    "  while len(R) < nb_pattern:\n",
    "    random_row = random.uniform(0,totalW)\n",
    "    # On cherche la ligne\n",
    "    row = 0\n",
    "    v = 0\n",
    "    for i in range(len(w)):\n",
    "      if  v > random_row:\n",
    "        row = i - 1\n",
    "        break\n",
    "      v += w[i]\n",
    "    # On selectionne un motif \n",
    "    pattern = np.array(df.iloc[row][:sizes[row]])\n",
    "    random_v = random.randint(1, len(pattern) - 1 )\n",
    "    for i in range(len(pattern)- random_v):\n",
    "      pattern = np.delete(pattern, random.randint(0, len(pattern) - 1 ))\n",
    "    # On ajoute seulement les motifs non présent dans l'ensemble R\n",
    "    IsInR.add(np.array2string(pattern))\n",
    "    if len(IsInR) != len(R):\n",
    "      R.append(pattern)\n",
    "  return R"
   ]
  },
  {
   "cell_type": "code",
   "execution_count": 5,
   "metadata": {
    "colab": {
     "base_uri": "https://localhost:8080/"
    },
    "id": "X_dlL3MrwwbC",
    "outputId": "0dde1ad1-8915-444f-ff22-2a79cba3d745"
   },
   "outputs": [
    {
     "data": {
      "text/plain": [
       "[array([11, 15, 17, 19, 27, 34, 36, 40, 46, 66, 69, 70], dtype=int64),\n",
       " array([ 1,  3,  6,  7, 14, 24, 25, 27, 40, 43, 46, 50, 52, 56, 58, 60, 62,\n",
       "        65, 66, 73, 74], dtype=int64),\n",
       " array([ 3,  9, 12, 21, 27, 31, 40, 56, 64], dtype=int64),\n",
       " array([19, 27, 48], dtype=int64),\n",
       " array([ 2,  3,  7,  9, 12, 14, 16, 17, 20, 21, 23, 25, 27, 29, 31, 34, 36,\n",
       "        38, 40, 42, 44, 47, 48, 51, 52, 55, 56, 58, 60, 62, 64, 66, 69, 70,\n",
       "        72, 75], dtype=int64),\n",
       " array([ 3,  5,  9, 11, 13, 15, 17, 19, 21, 24, 25, 27, 29, 31, 40, 43, 46,\n",
       "        48, 51, 52, 54, 57, 58, 60, 62, 65, 66, 69, 70, 73, 74],\n",
       "       dtype=int64),\n",
       " array([ 2,  5,  8,  9, 11, 14, 16, 17, 21, 25, 33, 34, 40, 51, 52, 54, 57,\n",
       "        60, 62, 69, 71, 72], dtype=int64),\n",
       " array([ 3,  7, 15, 62, 70], dtype=int64),\n",
       " array([ 2,  5,  7,  9, 16, 20, 21, 23, 25, 34, 36, 38, 40, 42, 44, 47, 48,\n",
       "        52, 55, 56, 58, 62, 64, 69, 75], dtype=int64),\n",
       " array([ 1,  3,  5, 14, 21, 34, 38, 40, 48, 64], dtype=int64)]"
      ]
     },
     "execution_count": 5,
     "metadata": {},
     "output_type": "execute_result"
    }
   ],
   "source": [
    "algoFrequences(ds,10)"
   ]
  },
  {
   "cell_type": "markdown",
   "metadata": {
    "id": "PM8vykS4XZmw"
   },
   "source": [
    "## Question 2"
   ]
  },
  {
   "cell_type": "code",
   "execution_count": 6,
   "metadata": {
    "id": "NJGeGtYlXfLJ"
   },
   "outputs": [],
   "source": [
    "def algoArea(ds:DataSet,nb_pattern)-> tuple:\n",
    "  df = ds.df\n",
    "  sizes = ds.sizes\n",
    "  R = []\n",
    "  IsInR = set()\n",
    "  \n",
    "  # set les probas\n",
    "  w = np.zeros(df[0].count(),dtype=np.ulonglong)\n",
    "  totalW:np.ulonglong= 0\n",
    "  for i in range(1, len(w)):\n",
    "    w[i] = np.multiply(sizes[i], np.power(2, (sizes[i] - 1)))\n",
    "    totalW += w[i]\n",
    "  \n",
    "  # on selectionne \n",
    "  while len(R) < nb_pattern:\n",
    "    # On cherche la ligne\n",
    "    random_row = random.uniform(0,totalW)\n",
    "    v, row = 0,0\n",
    "    for i in range(len(w)):\n",
    "      if v > random_row:\n",
    "        row = i - 1\n",
    "        break\n",
    "      v += w[i]\n",
    "      \n",
    "    # On set les probabilités de k (taille du motif)\n",
    "    # On souhaite que le sous-ensemble est une taille calculée \n",
    "    # proportionnellement avec les tailles des datarecords (lignes) \n",
    "    ks = np.zeros(int(sizes[row]))\n",
    "    totalK = 0\n",
    "    for i in range(len(ks)):\n",
    "        ks[i] = sps.binom(len(ks), i + 1)\n",
    "        totalK += ks[i]\n",
    "    #totalK = (len(ks) * (len(ks)+1))/2\n",
    "    random_kp = random.uniform(0, totalK)\n",
    "    # On cherche la ligne\n",
    "    k, v = 0,0\n",
    "    for i in range(len(ks)):\n",
    "      if v > random_kp:\n",
    "        k = i - 1\n",
    "        break\n",
    "      v += ks[i]\n",
    "    \n",
    "    pattern = np.array(df.iloc[row][:sizes[row]])\n",
    "    for i in range(len(pattern)- k):\n",
    "      pattern = np.delete(pattern, random.randint(0, len(pattern) - 1 ))\n",
    "    \n",
    "    # On ajoute seulement les motifs non présent dans l'ensemble R\n",
    "    IsInR.add(np.array2string(pattern))\n",
    "    if len(IsInR) != len(R):\n",
    "      R.append(pattern)\n",
    "  return R"
   ]
  },
  {
   "cell_type": "code",
   "execution_count": 7,
   "metadata": {
    "colab": {
     "base_uri": "https://localhost:8080/"
    },
    "id": "cBN3lSJzlpqx",
    "outputId": "25f47460-6203-4869-b317-e9627f042c14"
   },
   "outputs": [
    {
     "data": {
      "text/plain": [
       "[array([ 5,  9, 13, 17, 19, 21, 23, 42, 44, 50, 54, 60, 64, 70],\n",
       "       dtype=int64),\n",
       " array([ 5,  9, 11, 15, 17, 27, 31, 34, 40, 42, 44, 50, 52, 54, 62, 64],\n",
       "       dtype=int64),\n",
       " array([ 1,  3,  7,  9, 19, 23, 29, 31, 40, 42, 44, 46, 52, 56, 58],\n",
       "       dtype=int64),\n",
       " array([ 1,  3,  7,  9, 13, 25, 29, 31, 34, 36, 38, 42, 48, 54, 58, 60, 62,\n",
       "        64, 68, 72, 74], dtype=int64),\n",
       " array([ 1,  7,  9, 17, 19, 21, 23, 25, 31, 34, 36, 38, 42, 52, 56, 60, 62,\n",
       "        64, 68, 72], dtype=int64),\n",
       " array([ 5,  9, 15, 17, 21, 23, 27, 40, 42, 46, 50, 54, 60, 62, 66, 68, 70,\n",
       "        74], dtype=int64),\n",
       " array([ 1,  5,  7,  9, 11, 23, 29, 48, 52, 58, 62, 70, 74], dtype=int64),\n",
       " array([ 9, 15, 27, 29, 31, 34, 44, 46, 50, 52, 62, 66, 68, 70, 72, 74],\n",
       "       dtype=int64),\n",
       " array([ 3,  5,  7, 15, 23, 27, 29, 31, 34, 36, 40, 42, 48, 52, 54, 56, 58,\n",
       "        60, 62, 64, 70], dtype=int64),\n",
       " array([ 1,  5,  7, 15, 17, 19, 25, 27, 31, 40, 42, 44, 56, 60, 68, 72],\n",
       "       dtype=int64)]"
      ]
     },
     "execution_count": 7,
     "metadata": {},
     "output_type": "execute_result"
    }
   ],
   "source": [
    "algoArea(ds,10)"
   ]
  },
  {
   "cell_type": "markdown",
   "metadata": {
    "id": "DCp4sUmdXi7L"
   },
   "source": [
    "## Question 3"
   ]
  },
  {
   "cell_type": "code",
   "execution_count": 8,
   "metadata": {
    "id": "RtVA7H1OXhXs"
   },
   "outputs": [],
   "source": [
    "def frequences(ds, patterns):\n",
    "  df = ds.df\n",
    "  sizes = ds.sizes\n",
    "  frequencesP = np.zeros(len(patterns),dtype=float)\n",
    "  indexs = np.zeros(len(patterns),dtype=int)\n",
    "  lenPat = len(patterns)\n",
    "  for i in range(df.shape[0]):\n",
    "    indexs[True] = 0\n",
    "    for j in range(ds.sizes[i]):\n",
    "      for ip in range(lenPat):\n",
    "        if (len(patterns[ip])!= indexs[ip] and \n",
    "            df.iloc[i][j] == patterns[ip][indexs[ip]]):\n",
    "          indexs[ip] += 1\n",
    "          if len(patterns[ip]) == indexs[ip]:\n",
    "            frequencesP[ip] += 1.\n",
    "  for i in range(len(frequencesP)):\n",
    "    frequencesP[i] = (frequencesP[i])/float(df.shape[0])\n",
    "  return frequencesP"
   ]
  },
  {
   "cell_type": "code",
   "execution_count": 9,
   "metadata": {
    "id": "grB3Wa0XNvwo"
   },
   "outputs": [],
   "source": [
    "patterns = algoFrequences(ds,10)"
   ]
  },
  {
   "cell_type": "code",
   "execution_count": 10,
   "metadata": {
    "colab": {
     "base_uri": "https://localhost:8080/"
    },
    "id": "OyQcmwHAZdu-",
    "outputId": "fca91a17-37d9-44fb-c072-17608eb0caff"
   },
   "outputs": [
    {
     "data": {
      "text/plain": [
       "array([0.00125156, 0.00093867, 0.00031289, 0.00062578, 0.00031289,\n",
       "       0.00125156, 0.00062578, 0.00031289, 0.00031289, 0.02033792])"
      ]
     },
     "execution_count": 10,
     "metadata": {},
     "output_type": "execute_result"
    }
   ],
   "source": [
    "frequences(ds,patterns)"
   ]
  },
  {
   "cell_type": "code",
   "execution_count": 11,
   "metadata": {
    "id": "9V9aqi0Jtvcb"
   },
   "outputs": [],
   "source": [
    "def aire(ds, patterns):\n",
    "  df = ds.df\n",
    "  aireP = np.zeros(len(patterns),dtype=int)\n",
    "  indexs = np.zeros(len(patterns),dtype=int)\n",
    "  lenPat = len(patterns)\n",
    "  for i in range(df.shape[0]):\n",
    "    indexs[True] = 0\n",
    "    for j in range(ds.sizes[i]):\n",
    "      for ip in range(lenPat):\n",
    "        if (len(patterns[ip])!= indexs[ip] and \n",
    "            df.iloc[i][j] == patterns[ip][indexs[ip]]):\n",
    "          indexs[ip] += 1\n",
    "          if len(patterns[ip]) == indexs[ip]:\n",
    "            aireP[ip] += 1\n",
    "  for i in range(len(aireP)):\n",
    "    aireP[i] = aireP[i]*len(patterns[i])\n",
    "  return aireP"
   ]
  },
  {
   "cell_type": "code",
   "execution_count": 12,
   "metadata": {
    "id": "dY6ppMfqv-Fz"
   },
   "outputs": [],
   "source": [
    "patterns = algoArea(ds,10)"
   ]
  },
  {
   "cell_type": "code",
   "execution_count": 13,
   "metadata": {
    "colab": {
     "base_uri": "https://localhost:8080/"
    },
    "id": "3T9a2ONWuCJS",
    "outputId": "db2e563c-3fdf-4c15-aaf3-dce4a126f490"
   },
   "outputs": [
    {
     "data": {
      "text/plain": [
       "array([ 529,  616,  897, 1424, 1482, 2227,  589, 2784, 2210,  304])"
      ]
     },
     "execution_count": 13,
     "metadata": {},
     "output_type": "execute_result"
    }
   ],
   "source": [
    "aire(ds,patterns)"
   ]
  },
  {
   "cell_type": "markdown",
   "metadata": {
    "id": "y_BCCw1aNJ8o"
   },
   "source": [
    "## Question 4 \n",
    "\n",
    "Nous allons maintenant tester nos algorithmes avec des jeux de données suggérés dans le sujet."
   ]
  },
  {
   "cell_type": "code",
   "execution_count": 14,
   "metadata": {
    "colab": {
     "base_uri": "https://localhost:8080/",
     "height": 204
    },
    "id": "lPYElfndNODK",
    "outputId": "09af6bad-133a-4bfe-8903-3cf3ef6c4b35"
   },
   "outputs": [],
   "source": [
    "dataset_1 = pd.read_table(\"https://bitbucket.org/anesbendimerad/sigibbssamplingcode/raw/6699a50508fe177ee0c00dcc7d8e5390ee53688a/ItemsetDatasets/chess.txt\", sep=\" \",header=None)\n",
    "del dataset_1[37]\n",
    "ds1 = DataSet(dataset_1)\n",
    "\n",
    "# On réalise algoFrequence sur le dataset_1 5 fois.\n",
    "dsFrequence1 = algoFrequences(ds1, 5)\n",
    "# On ressort les fréquences \n",
    "freq1 = frequences(ds1, dsFrequence1)\n",
    "\n",
    "# On réalise algoAire sur le dataset_1.\n",
    "dsArea1 = algoArea(ds1, 5)\n",
    "# On ressort les valeurs\n",
    "area1 = aire(ds1, dsArea1)"
   ]
  },
  {
   "cell_type": "code",
   "execution_count": 15,
   "metadata": {
    "colab": {
     "base_uri": "https://localhost:8080/",
     "height": 256
    },
    "id": "wS8aFb5CnCcT",
    "outputId": "38e6d175-11d5-41f3-d3fd-b4dab6dac04b"
   },
   "outputs": [],
   "source": [
    "dataset_2 = pd.read_fwf(\"https://www.philippe-fournier-viger.com/spmf/datasets/LEVIATHAN.txt\", sep=\" \",header=None,)\n",
    "dataset_2 = dataset_2[0].str.split(' ', expand=True)\n",
    "ds2 = DataSet(dataset_2)\n",
    "\n",
    "# On réalise algoFrequence sur le dataset_2 5 fois.\n",
    "dsFrequence2 = algoFrequences(ds2, 5)\n",
    "# On ressort les fréquences \n",
    "freq2 = frequences(ds2, dsFrequence2)\n",
    "\n",
    "# On réalise algoAire sur le dataset_2.\n",
    "dsArea2 = algoArea(ds2, 5)\n",
    "# On ressort les valeurs\n",
    "area2 = aire(ds2, dsArea2)"
   ]
  },
  {
   "cell_type": "code",
   "execution_count": 16,
   "metadata": {
    "colab": {
     "base_uri": "https://localhost:8080/",
     "height": 224
    },
    "id": "F6zVzfLyn17x",
    "outputId": "4e4c2d68-2406-42ce-fd2d-0b32b4230b9f"
   },
   "outputs": [],
   "source": [
    "dataset_3 = pd.read_fwf(\"https://www.philippe-fournier-viger.com/spmf/datasets/FIFA.txt\", sep=\" \",header=None,)\n",
    "dataset_3 = dataset_3[0].str.split(' ', expand=True)\n",
    "ds3 = DataSet(dataset_3)\n",
    "\n",
    "# On réalise algoFrequence sur le dataset_3 5 fois.\n",
    "dsFrequence3 = algoFrequences(ds3, 5)\n",
    "# On ressort les fréquences \n",
    "freq3 = frequences(ds3, dsFrequence3)\n",
    "\n",
    "# On réalise algoAire sur le dataset_3.\n",
    "dsArea3 = algoArea(ds3, 5)\n",
    "# On ressort les valeurs\n",
    "area3 = aire(ds3, dsArea3)"
   ]
  },
  {
   "cell_type": "code",
   "execution_count": 17,
   "metadata": {
    "colab": {
     "base_uri": "https://localhost:8080/"
    },
    "id": "gIPlVPxaoFeY",
    "outputId": "7b1973c6-afdb-4f4d-9eb4-42a181d87b84",
    "scrolled": true
   },
   "outputs": [],
   "source": [
    "dataset_4 = pd.read_fwf(\"https://www.philippe-fournier-viger.com/spmf/datasets/BIBLE.txt\", sep=\" \",header=None,)\n",
    "dataset_4 = dataset_4[0].str.split(' ', expand=True)\n",
    "ds4 = DataSet(dataset_4)\n",
    "\n",
    "# On réalise algoFrequence sur le dataset_4 5 fois.\n",
    "dsFrequence4 = algoFrequences(ds4, 5)\n",
    "# On ressort les fréquences \n",
    "freq4 = frequences(ds4, dsFrequence4)\n",
    "\n",
    "# On réalise algoAire sur le dataset_4.\n",
    "dsArea4 = algoArea(ds4, 5)\n",
    "# On ressort les valeurs\n",
    "area4 = aire(ds4, dsArea4)"
   ]
  },
  {
   "cell_type": "markdown",
   "metadata": {
    "id": "D1uaF6e5pVd2"
   },
   "source": [
    "## Question 5"
   ]
  },
  {
   "cell_type": "markdown",
   "metadata": {
    "id": "OHirqdUqpZEm"
   },
   "source": [
    "### Etude emprique\n",
    "\n",
    "Nous allons étudier les dataset ci-dessus.\n",
    "\n",
    "#### Dataset n°1\n",
    "\n",
    "##### Algorithme de fréquence\n",
    "\n",
    "Dans un premier temps, nous allons executer l'algorithme de la fréquence et chercher à obtenir 5 échantillons."
   ]
  },
  {
   "cell_type": "code",
   "execution_count": 18,
   "metadata": {
    "colab": {
     "base_uri": "https://localhost:8080/"
    },
    "id": "ccyKbbVRAwl6",
    "outputId": "765b523f-2e46-40e5-889f-80765e659127"
   },
   "outputs": [
    {
     "name": "stdout",
     "output_type": "stream",
     "text": [
      "Nous avons extrait les motifs suivants:\n",
      "[ 3  5  7  9 12 14 15 18 20 22 23 25 28 29 31 34 36 38 40 42 44 46 48 50\n",
      " 52 55 56 58 60 62 64 66 68 70 72 74]\n",
      "[ 3 11 14 15 23 25 29 38 42 46 52 55 60 70 72]\n",
      "[ 1  3  7  9 11 13 15 17 20 23 25 29 31 36 40 42 45 52 55 58 60 63 66 69\n",
      " 72 75]\n",
      "[ 7  9 14 21 25 36 39 48 51 54 56 58 60 62 66 74]\n",
      "[ 2  7 12 13 18 20 22 24 27 29 34 38 40 44 47 50 52 54 56 58 60 62 64 68\n",
      " 71 72 74]\n",
      "La fréquence est de  0.03 %.\n",
      "La fréquence est de  2.22 %.\n",
      "La fréquence est de  0.09 %.\n",
      "La fréquence est de  2.44 %.\n",
      "La fréquence est de  0.13 %.\n"
     ]
    }
   ],
   "source": [
    "print(\"Nous avons extrait les motifs suivants:\")\n",
    "for dsF in dsFrequence1:\n",
    "    print(dsF)\n",
    "for f in freq1:\n",
    "    print(\"La fréquence est de \", round(f*100,2), \"%.\")"
   ]
  },
  {
   "cell_type": "markdown",
   "metadata": {
    "id": "iaC_1QKKBlPb"
   },
   "source": [
    "*add comments here*\n",
    "\n",
    "##### Algorithme de l'aire\n",
    "\n",
    "Dans un second temps, nous allons analyser l'algorithme de l'aire."
   ]
  },
  {
   "cell_type": "code",
   "execution_count": 19,
   "metadata": {
    "colab": {
     "base_uri": "https://localhost:8080/"
    },
    "id": "DgqpJxg8BkwH",
    "outputId": "311b25fc-ebf6-4a2e-9fbe-da01820f5f88"
   },
   "outputs": [
    {
     "name": "stdout",
     "output_type": "stream",
     "text": [
      "Nous avons extrait les motifs suivants:\n",
      "[ 3  5  9 11 13 15 19 23 27 31 34 48 52 56 70 72]\n",
      "[ 3 11 13 17 19 21 23 25 27 36 40 46 48 52 60 62 70 72]\n",
      "[ 1  3  5  7 11 15 21 27 34 36 38 40 44 46 54 60 64 70 72 74]\n",
      "[ 1  5 19 27 29 31 34 36 42 46 50 58 72]\n",
      "[ 3  7  9 13 21 23 25 29 31 34 38 42 44 52 58 62 66 74]\n",
      "\n",
      "L'aire totale du dataset est de : 118252 \n",
      "\n",
      "L'aire des motifs précédants est de: 1600  soit  1.35 % du dataset.\n",
      "L'aire des motifs précédants est de: 756  soit  0.64 % du dataset.\n",
      "L'aire des motifs précédants est de: 180  soit  0.15 % du dataset.\n",
      "L'aire des motifs précédants est de: 3354  soit  2.84 % du dataset.\n",
      "L'aire des motifs précédants est de: 2052  soit  1.74 % du dataset.\n"
     ]
    }
   ],
   "source": [
    "print(\"Nous avons extrait les motifs suivants:\")\n",
    "for dsA in dsArea1:\n",
    "    print(dsA)\n",
    "surface = dataset_1.shape\n",
    "s = surface[0]*surface[1]\n",
    "print(\"\\nL'aire totale du dataset est de :\", s, \"\\n\")\n",
    "for ar in area1: \n",
    "    print(\"L'aire des motifs précédants est de:\", ar, \" soit \", round((ar/s)*100, 2), \"% du dataset.\")"
   ]
  },
  {
   "cell_type": "markdown",
   "metadata": {},
   "source": [
    "*Add some comments here*\n",
    "\n",
    "#### Dataset n°2\n",
    "\n",
    "##### Algorithme de fréquence \n",
    "\n",
    "Comme pour le dataset précédant, nous allons dans un premier temps executé l'algorithme de la fréquence et obtenir 5 échantillons. "
   ]
  },
  {
   "cell_type": "code",
   "execution_count": 20,
   "metadata": {
    "colab": {
     "base_uri": "https://localhost:8080/"
    },
    "id": "ccyKbbVRAwl6",
    "outputId": "765b523f-2e46-40e5-889f-80765e659127"
   },
   "outputs": [
    {
     "name": "stdout",
     "output_type": "stream",
     "text": [
      "Nous avons extrait les motifs suivants:\n",
      "['1' '1' '-1' '1' '1' '-1' '1' '-1' '1' '1' '1' '-1' '1' '-1' '1' '-1' '1'\n",
      " '-1' '1' '-1' '1' '1' '-1' '1' '-1' '1' '-1' '1' '-1' '1' '-1' '1' '-1'\n",
      " '1' '-1' '1' '-1' '1' '-1' '1' '-1' '1' '-1' '1' '1' '-1' '1' '-1' '1'\n",
      " '-1' '365' '-1' '2369' '-1' '-1' '1' '-1' '1' '-1' '1' '-1' '-1' '1' '-1'\n",
      " '1' '-1' '1' '-1' '1' '-1' '1' '-1' '1' '-1' '363' '-1' '-1' '2370' '-1'\n",
      " '1921' '-1' '-1' '2371' '-1' '-1' '1' '-1' '1' '-1' '1' '-1' '-1' '1' '1'\n",
      " '-1' '1' '-1' '1' '-1' '1' '-1' '-1' '1' '-1' '1' '-1' '1' '1' '1' '-1'\n",
      " '1' '-1' '1' '-1' '1' '-1' '-1' '1' '-1' '1644' '-1' '2372' '2373' '2374'\n",
      " '-1' '1' '-1' '1' '-1' '2375' '-1' '-1' '21' '54' '-1' '989' '-1' '18'\n",
      " '-1' '2376' '-1' '17' '-1' '-1' '29' '-1' '17' '-1']\n",
      "['-1' '-1' '1' '1' '1' '-1' '-1' '-1' '-1' '1' '365' '-1' '1' '1' '-1'\n",
      " '2371' '-1' '-1' '1' '1' '-1' '-1' '-1' '1' '1' '-1' '1' '942' '-1']\n",
      "['1' '-1' '1' '-1' '-1' '1' '-1' '1' '1' '1' '1' '-1' '1' '-1' '1' '1'\n",
      " '-1' '-1' '-1' '1' '-1' '1' '-1' '1' '-1' '1' '-1' '1' '-1' '-1' '1' '-1'\n",
      " '1' '365' '-1' '1' '-1' '1' '1' '1' '-1' '1' '-1' '1' '1' '1' '1' '363'\n",
      " '-1' '-1' '-1' '1' '1' '-1' '1' '-1' '1' '-1' '-1' '1' '-1' '1' '1' '1'\n",
      " '-1' '1' '-1' '1' '-1' '1' '-1' '-1' '1' '-1' '-1' '-1' '2374' '-1' '-1'\n",
      " '1' '1' '-1' '942' '-1' '21' '-1' '-1' '989' '-1' '18' '-1' '2376' '-1'\n",
      " '554' '-1' '17']\n",
      "['1' '-1' '1' '-1' '1' '-1' '1' '-1' '1' '-1' '1' '-1' '1' '-1' '1' '-1'\n",
      " '-1' '1' '-1' '1' '-1' '1' '-1' '1' '-1' '1' '-1' '1' '-1' '1' '-1' '1'\n",
      " '-1' '1' '-1' '1' '-1' '1' '-1' '1' '-1' '1' '-1' '1' '-1' '1' '-1' '1'\n",
      " '-1' '1' '-1' '1' '-1' '1' '-1' '1' '1' '-1' '365' '-1' '2369' '-1' '1'\n",
      " '-1' '1' '-1' '1' '-1' '1' '-1' '1' '-1' '1' '-1' '1' '1' '-1' '1' '-1'\n",
      " '1' '-1' '1' '-1' '1' '-1' '1' '-1' '1' '-1' '363' '-1' '2370' '-1'\n",
      " '1921' '-1' '1922' '-1' '2371' '-1' '1' '-1' '1' '-1' '1' '-1' '1' '-1'\n",
      " '1' '-1' '1' '-1' '1' '-1' '1' '-1' '1' '-1' '1' '-1' '1' '-1' '1' '-1'\n",
      " '1' '-1' '1' '-1' '1' '-1' '-1' '1' '-1' '1' '-1' '1' '-1' '1' '-1' '1'\n",
      " '-1' '1' '-1' '1' '-1' '1644' '-1' '2372' '-1' '2373' '-1' '2374' '-1'\n",
      " '1' '-1' '1' '1' '-1' '2375' '-1' '942' '-1' '21' '-1' '54' '-1' '989'\n",
      " '-1' '18' '-1' '2376' '-1' '-1' '-1' '29' '-1' '17' '-1']\n",
      "['1' '-1' '1' '-1' '1' '-1' '1' '-1' '1' '-1' '1' '-1' '1' '-1' '1' '-1'\n",
      " '1' '-1' '-1' '1' '-1' '1' '-1' '1' '-1' '-1' '1' '-1' '1' '-1' '1' '-1'\n",
      " '1' '-1' '1' '-1' '1' '-1' '1' '-1' '1' '-1' '1' '-1' '1' '-1' '-1' '1'\n",
      " '-1' '1' '-1' '1' '-1' '-1' '365' '-1' '2369' '-1' '-1' '1' '-1' '1' '-1'\n",
      " '1' '-1' '1' '-1' '1' '-1' '1' '-1' '1' '-1' '1' '-1' '1' '-1' '1' '-1'\n",
      " '1' '1' '-1' '363' '-1' '360' '-1' '2370' '-1' '1921' '-1' '1922' '2371'\n",
      " '-1' '1' '-1' '1' '-1' '1' '-1' '1' '-1' '1' '1' '-1' '1' '1' '-1' '1'\n",
      " '-1' '1' '-1' '1' '-1' '1' '-1' '1' '-1' '1' '-1' '1' '-1' '1' '-1' '-1'\n",
      " '1' '1' '-1' '1' '-1' '1' '-1' '1' '-1' '1' '-1' '1644' '-1' '-1' '2373'\n",
      " '-1' '2374' '-1' '1' '1' '-1' '1' '-1' '2375' '-1' '942' '-1' '21' '-1'\n",
      " '54' '-1' '-1' '18' '-1' '2376' '-1' '-1' '554' '-1' '29' '-1' '17' '-1']\n",
      "La fréquence est de  0.02 %.\n",
      "La fréquence est de  0.02 %.\n",
      "La fréquence est de  0.02 %.\n",
      "La fréquence est de  0.02 %.\n",
      "La fréquence est de  0.02 %.\n"
     ]
    }
   ],
   "source": [
    "print(\"Nous avons extrait les motifs suivants:\")\n",
    "for dsF in dsFrequence2:\n",
    "    print(dsF)\n",
    "for f in freq2:\n",
    "    print(\"La fréquence est de \", round(f*100,2), \"%.\")"
   ]
  },
  {
   "cell_type": "markdown",
   "metadata": {},
   "source": [
    "Add some comments here\n",
    "\n",
    "##### Algorithme de l'aire\n",
    "Dans un second temps, nous allons exucter l'algorithme de la fréquence et chercher à obtenir un échantillon."
   ]
  },
  {
   "cell_type": "code",
   "execution_count": 21,
   "metadata": {},
   "outputs": [
    {
     "name": "stdout",
     "output_type": "stream",
     "text": [
      "Nous avons extrait les motifs suivants:\n",
      "['310' '-1' '103' '4737' '17' '-1' '71' '290' '-1' '5710' '-1' '265' '17'\n",
      " '567' '-1' '22' '-1' '8753' '-2']\n",
      "['1' '1' '-1' '1151' '-1' '-1' '-1' '8' '18' '-1' '193' '-1' '-1' '26'\n",
      " '-1']\n",
      "['36' '37' '38' '-1' '-1' '-1' '40' '-1' '8' '43' '44' '-1' '47' '-1' '49'\n",
      " '50' '-1' '51' '52' '-1' '53' '29' '54' '-1' '29' '57' '-1' '58' '3' '59'\n",
      " '-1' '-1' '-1' '20' '-1' '61' '-1' '40' '62' '63']\n",
      "['693' '-1' '685' '-1' '122' '4385' '262' '-1' '-1' '4514' '-1' '265' '-1'\n",
      " '1769' '-1' '-1' '685' '-1' '8744' '-1']\n",
      "['-1' '-1' '71' '-1' '272' '44' '-1' '197' '-1' '-1' '-1' '1285' '279'\n",
      " '-1']\n",
      "\n",
      "L'aire totale du dataset est de : 1085124 \n",
      "\n",
      "L'aire des motifs précédants est de: 19  soit  0.0 % du dataset.\n",
      "L'aire des motifs précédants est de: 15  soit  0.0 % du dataset.\n",
      "L'aire des motifs précédants est de: 40  soit  0.0 % du dataset.\n",
      "L'aire des motifs précédants est de: 20  soit  0.0 % du dataset.\n",
      "L'aire des motifs précédants est de: 14  soit  0.0 % du dataset.\n"
     ]
    }
   ],
   "source": [
    "print(\"Nous avons extrait les motifs suivants:\")\n",
    "for dsA in dsArea2:\n",
    "    print(dsA)\n",
    "surface = dataset_2.shape\n",
    "s = surface[0]*surface[1]\n",
    "print(\"\\nL'aire totale du dataset est de :\", s, \"\\n\")\n",
    "for ar in area2: \n",
    "    print(\"L'aire des motifs précédants est de:\", ar, \" soit \", round((ar/s)*100, 2), \"% du dataset.\")"
   ]
  },
  {
   "cell_type": "markdown",
   "metadata": {},
   "source": [
    "Add some comments here\n",
    "\n",
    "#### Dataset n°3\n",
    "\n",
    "##### Algorithme de fréquence \n",
    "\n",
    "Comme pour le dataset précédant, nous allons dans un premier temps executé l'algorithme de la fréquence et obtenir 5 échantillons. "
   ]
  },
  {
   "cell_type": "code",
   "execution_count": 22,
   "metadata": {
    "colab": {
     "base_uri": "https://localhost:8080/"
    },
    "id": "ccyKbbVRAwl6",
    "outputId": "765b523f-2e46-40e5-889f-80765e659127"
   },
   "outputs": [
    {
     "name": "stdout",
     "output_type": "stream",
     "text": [
      "Nous avons extrait les motifs suivants:\n",
      "['17' '33' '155' '13' '70' '117' '-1' '-1' '-1' '-1' '90' '-1' '67' '-1'\n",
      " '96' '21' '-1' '-1' '97' '2' '-1' '155' '-1' '21' '-1' '44' '50' '-1'\n",
      " '14' '10' '117' '-1' '57' '68' '59' '-1' '70' '-1' '98' '181' '-1' '97'\n",
      " '-1' '-1']\n",
      "['-1' '135' '-1' '21' '59' '-1' '-1' '-1' '33' '97' '135' '-1' '147' '82'\n",
      " '96' '-1' '8' '10' '-1' '14' '181' '-1' '98']\n",
      "['-1' '46' '-1' '48' '47' '-1' '45' '-1' '-1' '32' '-1' '155' '-1' '147'\n",
      " '135' '-1' '-1' '131' '-1' '13' '-1' '90' '44' '-1' '50' '-1' '8' '-1'\n",
      " '57' '96' '10' '-1' '21' '-1' '24' '-1' '-1' '37' '-1' '30' '-1' '-1'\n",
      " '36' '67' '-1' '68' '-1' '70' '97' '-1' '181' '-1' '-1' '98' '-1' '59'\n",
      " '117' '-1' '197' '-1' '-1' '138' '221' '-1' '100' '-1' '102' '-1' '297'\n",
      " '-1' '-1' '155' '147' '-1' '135' '-1' '131' '-1' '90' '-1' '-1' '2' '-1'\n",
      " '13' '-1' '-1' '18' '10' '-1' '24' '-1' '31' '-1' '67' '117' '36' '-1'\n",
      " '-1' '82' '-1' '57' '-1' '68' '-1' '59' '-1' '70' '98' '-1' '37' '-1'\n",
      " '-1' '181' '-1' '118' '97' '-1' '98' '-1' '-1' '142' '202' '-1' '295'\n",
      " '264' '-1' '216']\n",
      "['-1' '-1' '46' '32' '-1' '33' '-1' '47' '-1' '48' '33' '-1' '33' '33'\n",
      " '-1' '33' '-1' '33' '-1' '33' '-1' '-1' '33' '-1' '33' '-1' '33' '-1'\n",
      " '-1' '33' '-1' '33' '-1' '-1' '33' '33' '33' '-1' '33' '33' '-1' '-1'\n",
      " '37' '-1' '-1' '-1' '-1' '24' '30' '-1' '67' '-1' '33' '-1' '117' '-1'\n",
      " '756' '-1' '-1' '40' '-1' '54' '147' '-1' '131' '-1' '-1' '-1' '21' '-1'\n",
      " '98' '-1' '181' '-1' '36' '33' '2' '82' '14' '-1' '33' '-1' '70' '-1' '8'\n",
      " '-1' '57' '96' '155' '90' '-1' '135' '-1' '-1' '-1' '-1' '33' '-1' '118'\n",
      " '-1' '-1' '-1' '10' '-1' '56' '-1' '94' '-1' '-1' '163' '11' '95' '-1'\n",
      " '-2']\n",
      "['45' '-1' '-1' '-1' '-1' '-1' '50' '-1' '243' '-1' '-1' '-1' '178' '-1'\n",
      " '506' '175']\n",
      "La fréquence est de  0.0 %.\n",
      "La fréquence est de  0.0 %.\n",
      "La fréquence est de  0.0 %.\n",
      "La fréquence est de  0.0 %.\n",
      "La fréquence est de  0.07 %.\n"
     ]
    }
   ],
   "source": [
    "print(\"Nous avons extrait les motifs suivants:\")\n",
    "for dsF in dsFrequence3:\n",
    "    print(dsF)\n",
    "for f in freq3:\n",
    "    print(\"La fréquence est de \", round(f*100,2), \"%.\")"
   ]
  },
  {
   "cell_type": "markdown",
   "metadata": {},
   "source": [
    "Add some comments here\n",
    "\n",
    "##### Algorithme de l'aire\n",
    "Dans un second temps, nous allons exucter l'algorithme de la fréquence et chercher à obtenir un échantillon."
   ]
  },
  {
   "cell_type": "code",
   "execution_count": 23,
   "metadata": {},
   "outputs": [
    {
     "name": "stdout",
     "output_type": "stream",
     "text": [
      "Nous avons extrait les motifs suivants:\n",
      "['142' '-1' '202' '-1' '295' '-1' '-1' '264' '-1' '-1' '-1' '-2']\n",
      "['147' '-1' '-1' '8' '-1' '-1' '-1' '50' '131' '-1' '18' '-1' '-1' '-2']\n",
      "['1559' '-1' '1570' '1573' '-1' '1744' '1753' '-1' '680' '-1' '818' '-1'\n",
      " '-2']\n",
      "['17' '-1' '-1' '46' '-1' '-1' '32' '155' '-1' '135' '-1' '-1' '-1' '-2']\n",
      "['-1' '99' '-1' '124' '-1' '73' '-1' '2503' '42' '-1' '-1' '1001' '-1'\n",
      " '162' '-1' '1233' '-1' '-1' '-2']\n",
      "\n",
      "L'aire totale du dataset est de : 3578750 \n",
      "\n",
      "L'aire des motifs précédants est de: 3816  soit  0.11 % du dataset.\n",
      "L'aire des motifs précédants est de: 700  soit  0.02 % du dataset.\n",
      "L'aire des motifs précédants est de: 13  soit  0.0 % du dataset.\n",
      "L'aire des motifs précédants est de: 10584  soit  0.3 % du dataset.\n",
      "L'aire des motifs précédants est de: 19  soit  0.0 % du dataset.\n"
     ]
    }
   ],
   "source": [
    "print(\"Nous avons extrait les motifs suivants:\")\n",
    "for dsA in dsArea3:\n",
    "    print(dsA)\n",
    "surface = dataset_3.shape\n",
    "s = surface[0]*surface[1]\n",
    "print(\"\\nL'aire totale du dataset est de :\", s, \"\\n\")\n",
    "for ar in area3: \n",
    "    print(\"L'aire des motifs précédants est de:\", ar, \" soit \", round((ar/s)*100, 2), \"% du dataset.\")"
   ]
  },
  {
   "cell_type": "markdown",
   "metadata": {},
   "source": [
    "Add some comments here\n",
    "\n",
    "#### Dataset n°4\n",
    "\n",
    "##### Algorithme de fréquence \n",
    "\n",
    "Comme pour le dataset précédant, nous allons dans un premier temps executé l'algorithme de la fréquence et obtenir 5 échantillons. "
   ]
  },
  {
   "cell_type": "code",
   "execution_count": 24,
   "metadata": {
    "colab": {
     "base_uri": "https://localhost:8080/"
    },
    "id": "DgqpJxg8BkwH",
    "outputId": "311b25fc-ebf6-4a2e-9fbe-da01820f5f88"
   },
   "outputs": [
    {
     "name": "stdout",
     "output_type": "stream",
     "text": [
      "Nous avons extrait les motifs suivants:\n",
      "['-1' '356' '46' '3659' '-1' '719' '-1' '-1' '-1' '-1' '406' '15' '408'\n",
      " '-1' '-1' '2272' '-1' '3' '-1' '55' '-1' '10' '-1' '1064' '-1' '31' '-1'\n",
      " '10' '1049' '-1' '22' '-1' '6472' '356' '738' '-1' '-1' '-1' '2272'\n",
      " '4119' '154' '-1' '-1' '10' '-1' '-1' '31' '-1' '10' '2272' '-1' '3' '-1'\n",
      " '272' '16' '-1' '-1' '356' '-1' '-1' '55' '10' '3' '-1' '-1' '-1' '-1'\n",
      " '-1' '-1' '46' '-1' '-1' '6473' '2779' '-1' '-1' '-1' '10' '-1' '-1' '46'\n",
      " '-1' '-1' '31' '-1' '55' '10' '12' '-1' '6']\n",
      "['356' '2373' '-1' '-1' '1602' '-1' '-1' '-1' '-1' '-1' '-1' '10' '-1'\n",
      " '365' '-1' '381' '-1' '31' '-1' '46' '-1' '1069' '22' '-1' '-1' '-1' '31'\n",
      " '560' '-1' '1503' '59' '-1' '-1' '43' '202' '327' '-1' '-1' '-1' '669'\n",
      " '-1' '10' '10' '3004' '4422' '31' '-1' '1895' '-1']\n",
      "['41' '1283' '15' '1209' '-1' '5714' '1283' '65' '-1' '-1' '-1' '-1' '10'\n",
      " '-1' '-1' '-1' '-1' '41' '-1' '46' '-1' '-1' '-1' '-1' '-1' '-1' '-1'\n",
      " '-1' '351' '14' '41' '-1' '73' '657' '267' '-1' '-1' '-1' '-1' '951' '31'\n",
      " '-1' '-1' '23' '59' '-1']\n",
      "['-1' '-1' '14' '65' '-1' '59' '41' '22' '-1' '-1' '428' '-1' '351' '-1'\n",
      " '-1' '15' '113']\n",
      "['-1' '-1' '-1' '719' '2855' '-1' '46' '55' '-1' '-1' '356' '55' '10'\n",
      " '2272' '-1' '16' '-1' '-1' '55' '-1' '-1' '-1' '-1' '55' '368' '3' '-1'\n",
      " '-1' '356' '-1' '-1' '-1' '2272' '-1' '10' '-1']\n",
      "La fréquence est de  0.0 %.\n",
      "La fréquence est de  0.0 %.\n",
      "La fréquence est de  0.0 %.\n",
      "La fréquence est de  0.0 %.\n",
      "La fréquence est de  0.0 %.\n"
     ]
    }
   ],
   "source": [
    "print(\"Nous avons extrait les motifs suivants:\")\n",
    "for dsF in dsFrequence4:\n",
    "    print(dsF)\n",
    "for f in freq4:\n",
    "    print(\"La fréquence est de \", round(f*100,2), \"%.\")"
   ]
  },
  {
   "cell_type": "markdown",
   "metadata": {},
   "source": [
    "Add some comments here\n",
    "\n",
    "##### Algorithme de l'aire\n",
    "Dans un second temps, nous allons exucter l'algorithme de la fréquence et chercher à obtenir un échantillon."
   ]
  },
  {
   "cell_type": "code",
   "execution_count": 25,
   "metadata": {},
   "outputs": [
    {
     "name": "stdout",
     "output_type": "stream",
     "text": [
      "Nous avons extrait les motifs suivants:\n",
      "['738' '10' '-1' '456' '-1' '1032' '841' '-1' '10' '-1' '4540' '-1' '-1'\n",
      " '46' '-1' '-1' '1213' '-1' '-2']\n",
      "['2478' '-1' '738' '-1' '-1' '46' '392' '-1' '-1' '10' '-1' '-1' '46'\n",
      " '9330']\n",
      "['-1' '59' '244' '-1' '-1' '59' '-1' '46' '4808' '-2']\n",
      "['-1' '738' '305' '-1' '4543' '2004' '-1' '13449' '-1' '-1' '4635' '-1'\n",
      " '150' '-1' '-1']\n",
      "['-1' '10' '-1' '-1' '46' '-1' '4699' '10' '-1' '7270' '-1' '-1' '-1']\n",
      "\n",
      "L'aire totale du dataset est de : 6364575 \n",
      "\n",
      "L'aire des motifs précédants est de: 19  soit  0.0 % du dataset.\n",
      "L'aire des motifs précédants est de: 14  soit  0.0 % du dataset.\n",
      "L'aire des motifs précédants est de: 10  soit  0.0 % du dataset.\n",
      "L'aire des motifs précédants est de: 15  soit  0.0 % du dataset.\n",
      "L'aire des motifs précédants est de: 26  soit  0.0 % du dataset.\n"
     ]
    }
   ],
   "source": [
    "print(\"Nous avons extrait les motifs suivants:\")\n",
    "for dsA in dsArea4:\n",
    "    print(dsA)\n",
    "surface = dataset_4.shape\n",
    "s = surface[0]*surface[1]\n",
    "print(\"\\nL'aire totale du dataset est de :\", s, \"\\n\")\n",
    "for ar in area4: \n",
    "    print(\"L'aire des motifs précédants est de:\", ar, \" soit \", round((ar/s)*100, 2), \"% du dataset.\")"
   ]
  },
  {
   "cell_type": "markdown",
   "metadata": {
    "id": "cb1rrE2JpwWi"
   },
   "source": [
    "*Add some comments here*\n",
    "\n",
    "## Question 6\n",
    "\n",
    "On a constaté que lorsque l'on avait une ligne beaucoup plus grande que les autres, les algorithmes de fréquence et d'aire favorisent la ligne la plus grande pour créer des motifs. On souhaite trouver des motifs fréquents, donc on souhaite éviter des motifs qui s'appliquent seulement dans des grandes lignes. Nous avons trouver trois solutions:\n",
    "\n",
    "*   Supprimer les grandes lignes du dataset\n",
    "*   Réduire la taille des grandes lignes\n",
    "*   Modifier le poids accorder à la ligne la plus grande\n",
    "\n"
   ]
  },
  {
   "cell_type": "code",
   "execution_count": 26,
   "metadata": {
    "id": "gnCJcK6EpzfI"
   },
   "outputs": [
    {
     "data": {
      "text/html": [
       "<div>\n",
       "<style scoped>\n",
       "    .dataframe tbody tr th:only-of-type {\n",
       "        vertical-align: middle;\n",
       "    }\n",
       "\n",
       "    .dataframe tbody tr th {\n",
       "        vertical-align: top;\n",
       "    }\n",
       "\n",
       "    .dataframe thead th {\n",
       "        text-align: right;\n",
       "    }\n",
       "</style>\n",
       "<table border=\"1\" class=\"dataframe\">\n",
       "  <thead>\n",
       "    <tr style=\"text-align: right;\">\n",
       "      <th></th>\n",
       "      <th>0</th>\n",
       "      <th>1</th>\n",
       "      <th>2</th>\n",
       "      <th>3</th>\n",
       "      <th>4</th>\n",
       "      <th>5</th>\n",
       "      <th>6</th>\n",
       "      <th>7</th>\n",
       "      <th>8</th>\n",
       "      <th>9</th>\n",
       "      <th>...</th>\n",
       "      <th>165</th>\n",
       "      <th>166</th>\n",
       "      <th>167</th>\n",
       "      <th>168</th>\n",
       "      <th>169</th>\n",
       "      <th>170</th>\n",
       "      <th>171</th>\n",
       "      <th>172</th>\n",
       "      <th>173</th>\n",
       "      <th>174</th>\n",
       "    </tr>\n",
       "  </thead>\n",
       "  <tbody>\n",
       "    <tr>\n",
       "      <th>0</th>\n",
       "      <td>3</td>\n",
       "      <td>-1</td>\n",
       "      <td>28</td>\n",
       "      <td>-1</td>\n",
       "      <td>58</td>\n",
       "      <td>-1</td>\n",
       "      <td>61</td>\n",
       "      <td>-1</td>\n",
       "      <td>64</td>\n",
       "      <td>-1</td>\n",
       "      <td>...</td>\n",
       "      <td>None</td>\n",
       "      <td>None</td>\n",
       "      <td>None</td>\n",
       "      <td>None</td>\n",
       "      <td>None</td>\n",
       "      <td>None</td>\n",
       "      <td>None</td>\n",
       "      <td>None</td>\n",
       "      <td>None</td>\n",
       "      <td>None</td>\n",
       "    </tr>\n",
       "    <tr>\n",
       "      <th>1</th>\n",
       "      <td>4</td>\n",
       "      <td>-1</td>\n",
       "      <td>7</td>\n",
       "      <td>-1</td>\n",
       "      <td>23</td>\n",
       "      <td>-1</td>\n",
       "      <td>255</td>\n",
       "      <td>-1</td>\n",
       "      <td>3</td>\n",
       "      <td>-1</td>\n",
       "      <td>...</td>\n",
       "      <td>None</td>\n",
       "      <td>None</td>\n",
       "      <td>None</td>\n",
       "      <td>None</td>\n",
       "      <td>None</td>\n",
       "      <td>None</td>\n",
       "      <td>None</td>\n",
       "      <td>None</td>\n",
       "      <td>None</td>\n",
       "      <td>None</td>\n",
       "    </tr>\n",
       "    <tr>\n",
       "      <th>2</th>\n",
       "      <td>8</td>\n",
       "      <td>-1</td>\n",
       "      <td>10</td>\n",
       "      <td>-1</td>\n",
       "      <td>13</td>\n",
       "      <td>-1</td>\n",
       "      <td>14</td>\n",
       "      <td>-1</td>\n",
       "      <td>21</td>\n",
       "      <td>-1</td>\n",
       "      <td>...</td>\n",
       "      <td>None</td>\n",
       "      <td>None</td>\n",
       "      <td>None</td>\n",
       "      <td>None</td>\n",
       "      <td>None</td>\n",
       "      <td>None</td>\n",
       "      <td>None</td>\n",
       "      <td>None</td>\n",
       "      <td>None</td>\n",
       "      <td>None</td>\n",
       "    </tr>\n",
       "    <tr>\n",
       "      <th>3</th>\n",
       "      <td>11</td>\n",
       "      <td>-1</td>\n",
       "      <td>25</td>\n",
       "      <td>-1</td>\n",
       "      <td>40</td>\n",
       "      <td>-1</td>\n",
       "      <td>54</td>\n",
       "      <td>-1</td>\n",
       "      <td>55</td>\n",
       "      <td>-1</td>\n",
       "      <td>...</td>\n",
       "      <td>None</td>\n",
       "      <td>None</td>\n",
       "      <td>None</td>\n",
       "      <td>None</td>\n",
       "      <td>None</td>\n",
       "      <td>None</td>\n",
       "      <td>None</td>\n",
       "      <td>None</td>\n",
       "      <td>None</td>\n",
       "      <td>None</td>\n",
       "    </tr>\n",
       "    <tr>\n",
       "      <th>4</th>\n",
       "      <td>12</td>\n",
       "      <td>-1</td>\n",
       "      <td>39</td>\n",
       "      <td>-1</td>\n",
       "      <td>63</td>\n",
       "      <td>-1</td>\n",
       "      <td>72</td>\n",
       "      <td>-1</td>\n",
       "      <td>3</td>\n",
       "      <td>-1</td>\n",
       "      <td>...</td>\n",
       "      <td>None</td>\n",
       "      <td>None</td>\n",
       "      <td>None</td>\n",
       "      <td>None</td>\n",
       "      <td>None</td>\n",
       "      <td>None</td>\n",
       "      <td>None</td>\n",
       "      <td>None</td>\n",
       "      <td>None</td>\n",
       "      <td>None</td>\n",
       "    </tr>\n",
       "  </tbody>\n",
       "</table>\n",
       "<p>5 rows × 175 columns</p>\n",
       "</div>"
      ],
      "text/plain": [
       "  0   1   2   3   4   5    6   7   8   9    ...   165   166   167   168   169  \\\n",
       "0   3  -1  28  -1  58  -1   61  -1  64  -1  ...  None  None  None  None  None   \n",
       "1   4  -1   7  -1  23  -1  255  -1   3  -1  ...  None  None  None  None  None   \n",
       "2   8  -1  10  -1  13  -1   14  -1  21  -1  ...  None  None  None  None  None   \n",
       "3  11  -1  25  -1  40  -1   54  -1  55  -1  ...  None  None  None  None  None   \n",
       "4  12  -1  39  -1  63  -1   72  -1   3  -1  ...  None  None  None  None  None   \n",
       "\n",
       "    170   171   172   173   174  \n",
       "0  None  None  None  None  None  \n",
       "1  None  None  None  None  None  \n",
       "2  None  None  None  None  None  \n",
       "3  None  None  None  None  None  \n",
       "4  None  None  None  None  None  \n",
       "\n",
       "[5 rows x 175 columns]"
      ]
     },
     "execution_count": 26,
     "metadata": {},
     "output_type": "execute_result"
    }
   ],
   "source": [
    "dsetGL = pd.read_fwf(\"https://www.philippe-fournier-viger.com/spmf/datasets/FIFA.txt\", sep=\" \",header=None,)\n",
    "df_gl= dsetGL[0].str.split(' ', expand=True)\n",
    "ds_gl = DataSet(df_gl)\n",
    "ds_gl.df.head()"
   ]
  },
  {
   "cell_type": "markdown",
   "metadata": {
    "id": "pUPGML_e0P3n"
   },
   "source": [
    "## Cas où le dataset est chargé dans un df\n",
    "On va calculer la moyenne du nombre d'item par ligne et en fonction de cela on suprimera les colonnes supérieurs à la taille moyenne du nombre d'item/ligne\n",
    "On ne regarde pas toute les lignes on en regarde que 40% (on pourras changer)"
   ]
  },
  {
   "cell_type": "code",
   "execution_count": 27,
   "metadata": {
    "colab": {
     "base_uri": "https://localhost:8080/"
    },
    "id": "sTHpqbKq3eBP",
    "outputId": "5f49c271-5cf3-48ad-cb7a-c3b7ca059980"
   },
   "outputs": [
    {
     "data": {
      "text/plain": [
       "(20450, 175)"
      ]
     },
     "execution_count": 27,
     "metadata": {},
     "output_type": "execute_result"
    }
   ],
   "source": [
    "ds_gl.df.shape"
   ]
  },
  {
   "cell_type": "code",
   "execution_count": 28,
   "metadata": {
    "id": "x68bs1ADzJG9"
   },
   "outputs": [],
   "source": [
    "def resizeDataSet(ds,percentage):\n",
    "  df = ds.df\n",
    "  shape = ds.df.shape\n",
    "  sum = 0\n",
    "  #for index, row in df.iterrows():\n",
    "  for _ in range(int(shape[0]*percentage)):\n",
    "    #if random.uniform(0.,100.) < 5.:\n",
    "    sum += shape[1] - ds.sizes[random.randint(0,shape[0]-1)]\n",
    "  mean = sum/(shape[0]*percentage)\n",
    "  for i in range(shape[1]-1,int(mean),-1):\n",
    "    del df[i]\n",
    "  for i in range(shape[0]):\n",
    "    if ds.sizes[i] > mean:\n",
    "        ds.sizes[i] = math.ceil(mean)\n",
    "  return df"
   ]
  },
  {
   "cell_type": "code",
   "execution_count": 29,
   "metadata": {
    "colab": {
     "base_uri": "https://localhost:8080/",
     "height": 424
    },
    "id": "zz-j87LP5sVr",
    "outputId": "5b060021-bcb9-43c0-80c0-659f1befeabc"
   },
   "outputs": [
    {
     "data": {
      "text/plain": [
       "(20450, 103)"
      ]
     },
     "execution_count": 29,
     "metadata": {},
     "output_type": "execute_result"
    }
   ],
   "source": [
    "resizeDataSet(ds_gl,0.4)\n",
    "ds_gl.df.shape"
   ]
  },
  {
   "cell_type": "markdown",
   "metadata": {
    "id": "ykMFpM-61PFD"
   },
   "source": [
    "## Troisième solution\n",
    "Text  a mettre richard"
   ]
  },
  {
   "cell_type": "markdown",
   "metadata": {
    "id": "wKsRsyXmQtye"
   },
   "source": [
    "Dans cette troisième approche, on va faire une moyenne mobile de la valeur de poid\n",
    "\n",
    "[Info pour blabla](https://www.educatim.fr/tq/co/Module_TQ_web/co/moyenne_glissante.html)"
   ]
  },
  {
   "cell_type": "code",
   "execution_count": 30,
   "metadata": {
    "id": "D24SfrAUYUj7"
   },
   "outputs": [],
   "source": [
    "def algoFrequencesSolutionA(ds,nb_pattern)-> tuple:\n",
    "  df = ds.df\n",
    "  sizes = ds.sizes\n",
    "  R = []\n",
    "  IsInR = set()\n",
    "  P: dict = dict()\n",
    "  w = np.zeros(df.shape[0])\n",
    "  totalW = 0\n",
    "    \n",
    "  # set les probas\n",
    "  for i in range(len(w)):\n",
    "    w[i] = math.pow(2,sizes[i])\n",
    "    if i >= 2:\n",
    "      w[i] = (w[i] + w[i-1] + w[i-2])/ 3\n",
    "    totalW += w[i]\n",
    "  \n",
    "  # on selectionne \n",
    "  while len(R) < nb_pattern:\n",
    "    random_row = random.uniform(0,totalW)\n",
    "    # On cherche la ligne\n",
    "    row = 0\n",
    "    v = 0\n",
    "    for i in range(len(w)):\n",
    "      if  v > random_row:\n",
    "        row = i - 1\n",
    "        break\n",
    "      v += w[i]\n",
    "    # On selctionne un motif \n",
    "    pattern = np.array(df.iloc[row][:sizes[row]])\n",
    "    random_v = random.randint(1, len(pattern) - 1 )\n",
    "    for i in range(len(pattern)- random_v):\n",
    "      pattern = np.delete(pattern, random.randint(0, len(pattern) - 1 ))\n",
    "    # On ajoute seulement les motifs non présent dans l'ensemble R\n",
    "    IsInR.add(np.array2string(pattern))\n",
    "    if len(IsInR) != len(R):\n",
    "      R.append(pattern)\n",
    "  return R"
   ]
  },
  {
   "cell_type": "code",
   "execution_count": 31,
   "metadata": {
    "id": "cpKfHwKxoIq8"
   },
   "outputs": [
    {
     "data": {
      "text/plain": [
       "array([0., 0., 0., 0., 0., 0., 0., 0., 0., 0.])"
      ]
     },
     "execution_count": 31,
     "metadata": {},
     "output_type": "execute_result"
    }
   ],
   "source": [
    "patterns = algoFrequencesSolutionA(ds_gl,10)\n",
    "frequences(ds,patterns)"
   ]
  }
 ],
 "metadata": {
  "colab": {
   "collapsed_sections": [],
   "include_colab_link": true,
   "name": "TP_DataMining",
   "provenance": []
  },
  "kernelspec": {
   "display_name": "Python 3",
   "language": "python",
   "name": "python3"
  },
  "language_info": {
   "codemirror_mode": {
    "name": "ipython",
    "version": 3
   },
   "file_extension": ".py",
   "mimetype": "text/x-python",
   "name": "python",
   "nbconvert_exporter": "python",
   "pygments_lexer": "ipython3",
   "version": "3.8.6"
  }
 },
 "nbformat": 4,
 "nbformat_minor": 4
}
