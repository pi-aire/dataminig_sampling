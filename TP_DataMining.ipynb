{
  "nbformat": 4,
  "nbformat_minor": 0,
  "metadata": {
    "colab": {
      "name": "TP_DataMining",
      "provenance": [],
      "collapsed_sections": [],
      "toc_visible": true,
      "include_colab_link": true
    },
    "kernelspec": {
      "name": "python3",
      "display_name": "Python 3"
    }
  },
  "cells": [
    {
      "cell_type": "markdown",
      "metadata": {
        "id": "view-in-github",
        "colab_type": "text"
      },
      "source": [
        "<a href=\"https://colab.research.google.com/github/pi-aire/dataminig_sampling/blob/main/TP_DataMining.ipynb\" target=\"_parent\"><img src=\"https://colab.research.google.com/assets/colab-badge.svg\" alt=\"Open In Colab\"/></a>"
      ]
    },
    {
      "cell_type": "markdown",
      "metadata": {
        "id": "rT5_WhBiUnw6"
      },
      "source": [
        "# Échantillonnage direct de l'espace des motifs\n",
        "\n",
        "### BRUNEAU Richard - VASLIN Pierre\n",
        "\n",
        "\n",
        "\n"
      ]
    },
    {
      "cell_type": "code",
      "metadata": {
        "id": "hfUuyvYBX6aH"
      },
      "source": [
        "import numpy as np\n",
        "import scipy.special as sps\n",
        "import math\n",
        "import matplotlib\n",
        "import pandas as pd\n",
        "import random"
      ],
      "execution_count": 45,
      "outputs": []
    },
    {
      "cell_type": "code",
      "metadata": {
        "id": "gOavPKYmYF_A",
        "outputId": "3986614c-0131-4334-ccf9-8e3d594ea111",
        "colab": {
          "base_uri": "https://localhost:8080/",
          "height": 206
        }
      },
      "source": [
        "# Le dataframe\n",
        "df = pd.read_table(\"https://bitbucket.org/anesbendimerad/sigibbssamplingcode/raw/6699a50508fe177ee0c00dcc7d8e5390ee53688a/ItemsetDatasets/chess.txt\", sep=\" \",header=None)\n",
        "del df[37]\n",
        "df.head()"
      ],
      "execution_count": 46,
      "outputs": [
        {
          "output_type": "execute_result",
          "data": {
            "text/html": [
              "<div>\n",
              "<style scoped>\n",
              "    .dataframe tbody tr th:only-of-type {\n",
              "        vertical-align: middle;\n",
              "    }\n",
              "\n",
              "    .dataframe tbody tr th {\n",
              "        vertical-align: top;\n",
              "    }\n",
              "\n",
              "    .dataframe thead th {\n",
              "        text-align: right;\n",
              "    }\n",
              "</style>\n",
              "<table border=\"1\" class=\"dataframe\">\n",
              "  <thead>\n",
              "    <tr style=\"text-align: right;\">\n",
              "      <th></th>\n",
              "      <th>0</th>\n",
              "      <th>1</th>\n",
              "      <th>2</th>\n",
              "      <th>3</th>\n",
              "      <th>4</th>\n",
              "      <th>5</th>\n",
              "      <th>6</th>\n",
              "      <th>7</th>\n",
              "      <th>8</th>\n",
              "      <th>9</th>\n",
              "      <th>10</th>\n",
              "      <th>11</th>\n",
              "      <th>12</th>\n",
              "      <th>13</th>\n",
              "      <th>14</th>\n",
              "      <th>15</th>\n",
              "      <th>16</th>\n",
              "      <th>17</th>\n",
              "      <th>18</th>\n",
              "      <th>19</th>\n",
              "      <th>20</th>\n",
              "      <th>21</th>\n",
              "      <th>22</th>\n",
              "      <th>23</th>\n",
              "      <th>24</th>\n",
              "      <th>25</th>\n",
              "      <th>26</th>\n",
              "      <th>27</th>\n",
              "      <th>28</th>\n",
              "      <th>29</th>\n",
              "      <th>30</th>\n",
              "      <th>31</th>\n",
              "      <th>32</th>\n",
              "      <th>33</th>\n",
              "      <th>34</th>\n",
              "      <th>35</th>\n",
              "      <th>36</th>\n",
              "    </tr>\n",
              "  </thead>\n",
              "  <tbody>\n",
              "    <tr>\n",
              "      <th>0</th>\n",
              "      <td>1</td>\n",
              "      <td>3</td>\n",
              "      <td>5</td>\n",
              "      <td>7</td>\n",
              "      <td>9</td>\n",
              "      <td>11</td>\n",
              "      <td>13</td>\n",
              "      <td>15</td>\n",
              "      <td>17</td>\n",
              "      <td>19</td>\n",
              "      <td>21</td>\n",
              "      <td>23</td>\n",
              "      <td>25</td>\n",
              "      <td>27</td>\n",
              "      <td>29</td>\n",
              "      <td>31</td>\n",
              "      <td>34</td>\n",
              "      <td>36</td>\n",
              "      <td>38</td>\n",
              "      <td>40</td>\n",
              "      <td>42</td>\n",
              "      <td>44</td>\n",
              "      <td>46</td>\n",
              "      <td>48</td>\n",
              "      <td>50</td>\n",
              "      <td>52</td>\n",
              "      <td>54</td>\n",
              "      <td>56</td>\n",
              "      <td>58</td>\n",
              "      <td>60</td>\n",
              "      <td>62</td>\n",
              "      <td>64</td>\n",
              "      <td>66</td>\n",
              "      <td>68</td>\n",
              "      <td>70</td>\n",
              "      <td>72</td>\n",
              "      <td>74</td>\n",
              "    </tr>\n",
              "    <tr>\n",
              "      <th>1</th>\n",
              "      <td>1</td>\n",
              "      <td>3</td>\n",
              "      <td>5</td>\n",
              "      <td>7</td>\n",
              "      <td>9</td>\n",
              "      <td>12</td>\n",
              "      <td>13</td>\n",
              "      <td>15</td>\n",
              "      <td>17</td>\n",
              "      <td>19</td>\n",
              "      <td>21</td>\n",
              "      <td>23</td>\n",
              "      <td>25</td>\n",
              "      <td>27</td>\n",
              "      <td>29</td>\n",
              "      <td>31</td>\n",
              "      <td>34</td>\n",
              "      <td>36</td>\n",
              "      <td>38</td>\n",
              "      <td>40</td>\n",
              "      <td>42</td>\n",
              "      <td>44</td>\n",
              "      <td>46</td>\n",
              "      <td>48</td>\n",
              "      <td>50</td>\n",
              "      <td>52</td>\n",
              "      <td>54</td>\n",
              "      <td>56</td>\n",
              "      <td>58</td>\n",
              "      <td>60</td>\n",
              "      <td>62</td>\n",
              "      <td>64</td>\n",
              "      <td>66</td>\n",
              "      <td>68</td>\n",
              "      <td>70</td>\n",
              "      <td>72</td>\n",
              "      <td>74</td>\n",
              "    </tr>\n",
              "    <tr>\n",
              "      <th>2</th>\n",
              "      <td>1</td>\n",
              "      <td>3</td>\n",
              "      <td>5</td>\n",
              "      <td>7</td>\n",
              "      <td>9</td>\n",
              "      <td>12</td>\n",
              "      <td>13</td>\n",
              "      <td>16</td>\n",
              "      <td>17</td>\n",
              "      <td>19</td>\n",
              "      <td>21</td>\n",
              "      <td>23</td>\n",
              "      <td>25</td>\n",
              "      <td>27</td>\n",
              "      <td>29</td>\n",
              "      <td>31</td>\n",
              "      <td>34</td>\n",
              "      <td>36</td>\n",
              "      <td>38</td>\n",
              "      <td>40</td>\n",
              "      <td>42</td>\n",
              "      <td>44</td>\n",
              "      <td>46</td>\n",
              "      <td>48</td>\n",
              "      <td>50</td>\n",
              "      <td>52</td>\n",
              "      <td>54</td>\n",
              "      <td>56</td>\n",
              "      <td>58</td>\n",
              "      <td>60</td>\n",
              "      <td>62</td>\n",
              "      <td>64</td>\n",
              "      <td>66</td>\n",
              "      <td>68</td>\n",
              "      <td>70</td>\n",
              "      <td>72</td>\n",
              "      <td>74</td>\n",
              "    </tr>\n",
              "    <tr>\n",
              "      <th>3</th>\n",
              "      <td>1</td>\n",
              "      <td>3</td>\n",
              "      <td>5</td>\n",
              "      <td>7</td>\n",
              "      <td>9</td>\n",
              "      <td>11</td>\n",
              "      <td>13</td>\n",
              "      <td>15</td>\n",
              "      <td>17</td>\n",
              "      <td>20</td>\n",
              "      <td>21</td>\n",
              "      <td>23</td>\n",
              "      <td>25</td>\n",
              "      <td>27</td>\n",
              "      <td>29</td>\n",
              "      <td>31</td>\n",
              "      <td>34</td>\n",
              "      <td>36</td>\n",
              "      <td>38</td>\n",
              "      <td>40</td>\n",
              "      <td>42</td>\n",
              "      <td>44</td>\n",
              "      <td>47</td>\n",
              "      <td>48</td>\n",
              "      <td>50</td>\n",
              "      <td>52</td>\n",
              "      <td>54</td>\n",
              "      <td>56</td>\n",
              "      <td>58</td>\n",
              "      <td>60</td>\n",
              "      <td>62</td>\n",
              "      <td>64</td>\n",
              "      <td>66</td>\n",
              "      <td>68</td>\n",
              "      <td>70</td>\n",
              "      <td>72</td>\n",
              "      <td>74</td>\n",
              "    </tr>\n",
              "    <tr>\n",
              "      <th>4</th>\n",
              "      <td>1</td>\n",
              "      <td>3</td>\n",
              "      <td>5</td>\n",
              "      <td>7</td>\n",
              "      <td>9</td>\n",
              "      <td>11</td>\n",
              "      <td>13</td>\n",
              "      <td>15</td>\n",
              "      <td>17</td>\n",
              "      <td>19</td>\n",
              "      <td>21</td>\n",
              "      <td>23</td>\n",
              "      <td>25</td>\n",
              "      <td>27</td>\n",
              "      <td>29</td>\n",
              "      <td>31</td>\n",
              "      <td>34</td>\n",
              "      <td>36</td>\n",
              "      <td>38</td>\n",
              "      <td>40</td>\n",
              "      <td>42</td>\n",
              "      <td>44</td>\n",
              "      <td>46</td>\n",
              "      <td>48</td>\n",
              "      <td>51</td>\n",
              "      <td>52</td>\n",
              "      <td>54</td>\n",
              "      <td>56</td>\n",
              "      <td>58</td>\n",
              "      <td>60</td>\n",
              "      <td>62</td>\n",
              "      <td>64</td>\n",
              "      <td>66</td>\n",
              "      <td>68</td>\n",
              "      <td>70</td>\n",
              "      <td>72</td>\n",
              "      <td>74</td>\n",
              "    </tr>\n",
              "  </tbody>\n",
              "</table>\n",
              "</div>"
            ],
            "text/plain": [
              "   0   1   2   3   4   5   6   7   8   ...  28  29  30  31  32  33  34  35  36\n",
              "0   1   3   5   7   9  11  13  15  17  ...  58  60  62  64  66  68  70  72  74\n",
              "1   1   3   5   7   9  12  13  15  17  ...  58  60  62  64  66  68  70  72  74\n",
              "2   1   3   5   7   9  12  13  16  17  ...  58  60  62  64  66  68  70  72  74\n",
              "3   1   3   5   7   9  11  13  15  17  ...  58  60  62  64  66  68  70  72  74\n",
              "4   1   3   5   7   9  11  13  15  17  ...  58  60  62  64  66  68  70  72  74\n",
              "\n",
              "[5 rows x 37 columns]"
            ]
          },
          "metadata": {
            "tags": []
          },
          "execution_count": 46
        }
      ]
    },
    {
      "cell_type": "markdown",
      "metadata": {
        "id": "_BKmRcvRXodb"
      },
      "source": [
        "## Question 1"
      ]
    },
    {
      "cell_type": "code",
      "metadata": {
        "id": "YjH1fyI4VEAd"
      },
      "source": [
        "def algoFrequences(df:pd.DataFrame,nb_pattern)-> tuple:\n",
        "  #R:set = set()\n",
        "  R = []\n",
        "  IsInR = set()\n",
        "  P: dict = dict()\n",
        "  w = np.zeros(df[0].count())\n",
        "  totalW = 0\n",
        "    \n",
        "  # set les probas\n",
        "  for i in range(len(w)):\n",
        "    w[i] = math.pow(2,len(df.iloc[i]))\n",
        "    totalW += w[i]\n",
        "  \n",
        "  # on selectionne \n",
        "  while len(R) < nb_pattern:\n",
        "    random_row = random.uniform(0,totalW)\n",
        "    # On cherche la ligne\n",
        "    row = 0\n",
        "    v = 0\n",
        "    for i in range(len(w)):\n",
        "      if  v > random_row:\n",
        "        row = i - 1\n",
        "        break\n",
        "      v += w[i]\n",
        "    # On selctionne un motif \n",
        "    pattern = np.random.choice(\n",
        "        df.iloc[row],\n",
        "        random.randint(1, len(df.iloc[row]) - 1 )\n",
        "    )\n",
        "    # On ajoute seulement les motifes non présent dans l'ensemble R\n",
        "    IsInR.add(np.array2string(pattern))\n",
        "    if len(IsInR) != len(R):\n",
        "      R.append(pattern)\n",
        "  return R"
      ],
      "execution_count": 73,
      "outputs": []
    },
    {
      "cell_type": "markdown",
      "metadata": {
        "id": "cU63yZI_AW61"
      },
      "source": [
        "On calcule le poids total de toutes les lignes dans un premier temps afin de diviser le poids des lignes dans le tableau."
      ]
    },
    {
      "cell_type": "code",
      "metadata": {
        "id": "X_dlL3MrwwbC",
        "outputId": "888f6b98-6508-4d18-bd8d-256fcd9760f5",
        "colab": {
          "base_uri": "https://localhost:8080/"
        }
      },
      "source": [
        "algoFrequences(df,10)"
      ],
      "execution_count": 75,
      "outputs": [
        {
          "output_type": "execute_result",
          "data": {
            "text/plain": [
              "[array([17, 50]),\n",
              " array([18, 12, 71, 56, 25, 42, 29, 64, 58, 28,  5, 46, 66, 20, 66, 50, 18,\n",
              "        46, 18, 58, 58, 42, 36,  3, 40, 64, 34, 60, 14]),\n",
              " array([55, 29, 72,  5, 36, 66, 36, 17, 21, 44, 60, 31, 58, 13, 46, 38, 28,\n",
              "        48]),\n",
              " array([62, 60, 64,  9, 39, 44,  5, 20, 40,  9, 14, 58, 25, 46, 44, 14, 62,\n",
              "        66, 18, 46, 14, 20, 74,  9, 58, 56,  9, 69, 52, 12, 44, 18, 39]),\n",
              " array([40, 27,  9, 32, 36, 73, 64, 74,  3, 58,  1, 38, 46, 34]),\n",
              " array([71, 46, 27, 52, 52, 31, 74, 58,  5, 39, 34,  5, 69,  7, 48, 36, 45,\n",
              "         5]),\n",
              " array([42, 75, 23, 62, 62, 11, 72, 15, 40, 19, 68,  7, 29, 36, 29, 29, 25,\n",
              "        48, 19, 15, 19, 64, 75, 22, 64,  5, 29, 72, 50, 34, 15, 72, 56, 19]),\n",
              " array([ 1,  5, 69, 31, 66, 69, 60, 52, 29, 40, 15, 29, 26, 47, 11, 64, 20]),\n",
              " array([ 9, 31, 60,  9, 64, 29,  9, 62, 21,  3,  2, 66,  7, 58, 60,  5, 36,\n",
              "        34, 21, 39, 55, 29, 46, 16, 23, 66, 60,  7,  3, 46, 16, 62]),\n",
              " array([72, 11, 17, 34, 68, 44, 47, 26, 40, 75,  1, 14, 26, 68, 55, 26])]"
            ]
          },
          "metadata": {
            "tags": []
          },
          "execution_count": 75
        }
      ]
    },
    {
      "cell_type": "markdown",
      "metadata": {
        "id": "PM8vykS4XZmw"
      },
      "source": [
        "## Question 2"
      ]
    },
    {
      "cell_type": "code",
      "metadata": {
        "id": "NJGeGtYlXfLJ"
      },
      "source": [
        "def algoArea(df:pd.DataFrame,nb_pattern)-> tuple:\n",
        "  R = []\n",
        "  IsInR = set()\n",
        "  \n",
        "  # set les probas\n",
        "  w = np.zeros(df[0].count())\n",
        "  totalW = 0\n",
        "  for i in range(1, len(w)):\n",
        "    w[i] = len(df.iloc[i]) * (2 ** (len(df.iloc[i]) - 1))\n",
        "    totalW += w[i]\n",
        "  \n",
        "  # on selectionne \n",
        "  while len(R) < nb_pattern:\n",
        "    # On cherche la ligne\n",
        "    random_row = random.uniform(0,totalW)\n",
        "    v, row = 0,0\n",
        "    for i in range(len(w)):\n",
        "      if v > random_row:\n",
        "        row = i - 1\n",
        "        break\n",
        "      v += w[i]\n",
        "      \n",
        "    # On set les probabilité de k (taille du motif)\n",
        "    # On veut que le sous ensemble avec une probabilté \n",
        "    # proportinelle à la taille de la datarecord (ligne)\n",
        "    ks = np.zeros(len(df.iloc[row]))\n",
        "    totalK = 0\n",
        "    for i in range(len(df.iloc[row])):\n",
        "        ks[i] = sps.binom(len(df.iloc[row]), i + 1)\n",
        "        totalK += ks[i]\n",
        "    random_kp = random.uniform(0, totalK)\n",
        "    # On cherche la ligne\n",
        "    k, v = 0,0\n",
        "    for i in range(len(df.iloc[row])):\n",
        "      if v > random_kp:\n",
        "        k = i - 1\n",
        "        break\n",
        "      v += ks[i]\n",
        "    \n",
        "    pattern = np.random.choice(\n",
        "        df.iloc[row],\n",
        "        k\n",
        "    )\n",
        "    \n",
        "    # On ajoute seulement les motifs non présent dans l'ensemble R\n",
        "    IsInR.add(np.array2string(pattern))\n",
        "    if len(IsInR) != len(R):\n",
        "      R.append(pattern)\n",
        "  return R"
      ],
      "execution_count": 84,
      "outputs": []
    },
    {
      "cell_type": "code",
      "metadata": {
        "id": "cBN3lSJzlpqx",
        "outputId": "ea0ceb9f-96e2-4306-c023-beaa74345b3f",
        "colab": {
          "base_uri": "https://localhost:8080/"
        }
      },
      "source": [
        "algoArea(df,10)"
      ],
      "execution_count": 86,
      "outputs": [
        {
          "output_type": "execute_result",
          "data": {
            "text/plain": [
              "[array([44, 46,  2, 64, 72, 56, 60, 54, 74, 25, 72, 33, 70, 34,  3, 62, 48,\n",
              "         9, 25]),\n",
              " array([31, 69, 12, 20, 12, 56, 36, 50, 55, 29, 40, 42,  9, 25, 40, 62, 58,\n",
              "        56]),\n",
              " array([55, 66, 51, 70, 66, 56, 44, 64, 38,  2, 23, 36, 58, 42, 56, 66, 66,\n",
              "        23, 48, 72]),\n",
              " array([ 1, 36, 50, 60, 14, 62, 23, 22, 45, 29,  9, 17, 11, 38, 28, 58, 22,\n",
              "         1, 25, 52, 15, 52]),\n",
              " array([ 3, 23, 31, 36, 66, 75, 52, 40, 21, 42, 14,  3, 40, 34, 48, 60, 64,\n",
              "        48, 58,  1]),\n",
              " array([23, 42, 25, 23, 74, 62,  3, 72, 52,  2, 28,  9, 62,  5, 31, 36, 16,\n",
              "        16]),\n",
              " array([ 9, 19, 19, 44, 42, 54, 44, 46, 46,  7, 24, 74,  5, 38,  7, 56, 16,\n",
              "        50,  7,  2]),\n",
              " array([ 4, 52, 12,  4, 66, 24, 29, 21, 48, 25, 25,  9, 21, 36, 58, 38, 66,\n",
              "        62, 27, 20, 31, 38, 15, 62]),\n",
              " array([68, 68, 52, 17, 44,  5, 12, 36, 29, 17,  7, 68, 12, 17,  3, 74, 31,\n",
              "        34, 60, 28,  5, 31, 70, 68, 60]),\n",
              " array([71, 48, 10, 74, 24, 36, 19, 58, 71, 58, 74, 54, 46, 69, 32,  3, 14,\n",
              "        14])]"
            ]
          },
          "metadata": {
            "tags": []
          },
          "execution_count": 86
        }
      ]
    },
    {
      "cell_type": "markdown",
      "metadata": {
        "id": "DCp4sUmdXi7L"
      },
      "source": [
        "##Question 3"
      ]
    },
    {
      "cell_type": "code",
      "metadata": {
        "id": "gFpgjZFR2CyA",
        "outputId": "87689c9d-3eba-4b94-ba34-dfb91fa00616",
        "colab": {
          "base_uri": "https://localhost:8080/"
        }
      },
      "source": [
        "df.iloc[0][5]"
      ],
      "execution_count": 117,
      "outputs": [
        {
          "output_type": "execute_result",
          "data": {
            "text/plain": [
              "11"
            ]
          },
          "metadata": {
            "tags": []
          },
          "execution_count": 117
        }
      ]
    },
    {
      "cell_type": "code",
      "metadata": {
        "id": "RtVA7H1OXhXs"
      },
      "source": [
        "def frequences(df, patterns):\n",
        "  frequencesP = np.zeros(len(patterns))\n",
        "  for i in range(df.count()[0]):\n",
        "    indexs = np.zeros(len(patterns))\n",
        "    for j in range(df.iloc[j].count()):\n",
        "      for ip in range(len(patterns)):\n",
        "        if len(patterns[ip])!=indexs[ip] and df.iloc[i][j] == patterns[ip][indexs[ip]]:\n",
        "          indexs[ip] += 1\n",
        "          if len(patterns[ip])== indexs[ip]:\n",
        "            frequencesP[ip] += 1\n",
        "      \n"
      ],
      "execution_count": 97,
      "outputs": []
    },
    {
      "cell_type": "code",
      "metadata": {
        "id": "grB3Wa0XNvwo",
        "outputId": "2c567984-3732-4eab-d988-c20a949b9bbc",
        "colab": {
          "base_uri": "https://localhost:8080/",
          "height": 301
        }
      },
      "source": [
        "frequence(algoFrequences(df,10),df)"
      ],
      "execution_count": 98,
      "outputs": [
        {
          "output_type": "error",
          "ename": "TypeError",
          "evalue": "ignored",
          "traceback": [
            "\u001b[0;31m---------------------------------------------------------------------------\u001b[0m",
            "\u001b[0;31mTypeError\u001b[0m                                 Traceback (most recent call last)",
            "\u001b[0;32m<ipython-input-98-05415aac0729>\u001b[0m in \u001b[0;36m<module>\u001b[0;34m()\u001b[0m\n\u001b[0;32m----> 1\u001b[0;31m \u001b[0mquestion3Frenquence\u001b[0m\u001b[0;34m(\u001b[0m\u001b[0malgoFrequences\u001b[0m\u001b[0;34m(\u001b[0m\u001b[0mdf\u001b[0m\u001b[0;34m,\u001b[0m\u001b[0;36m10\u001b[0m\u001b[0;34m)\u001b[0m\u001b[0;34m,\u001b[0m\u001b[0mdf\u001b[0m\u001b[0;34m)\u001b[0m\u001b[0;34m\u001b[0m\u001b[0;34m\u001b[0m\u001b[0m\n\u001b[0m",
            "\u001b[0;32m<ipython-input-97-9931acedcfd4>\u001b[0m in \u001b[0;36mquestion3Frenquence\u001b[0;34m(motif, df)\u001b[0m\n\u001b[1;32m      7\u001b[0m     \u001b[0mi\u001b[0m \u001b[0;34m=\u001b[0m \u001b[0;36m0\u001b[0m\u001b[0;34m\u001b[0m\u001b[0;34m\u001b[0m\u001b[0m\n\u001b[1;32m      8\u001b[0m     \u001b[0;31m#Pour chaque dataRecord, on regarde si notre motif est compris dedans\u001b[0m\u001b[0;34m\u001b[0m\u001b[0;34m\u001b[0m\u001b[0;34m\u001b[0m\u001b[0m\n\u001b[0;32m----> 9\u001b[0;31m     \u001b[0;32mfor\u001b[0m \u001b[0me\u001b[0m \u001b[0;32min\u001b[0m \u001b[0mline\u001b[0m\u001b[0;34m:\u001b[0m\u001b[0;34m\u001b[0m\u001b[0;34m\u001b[0m\u001b[0m\n\u001b[0m\u001b[1;32m     10\u001b[0m       \u001b[0;31m#Si c'est le cas:\u001b[0m\u001b[0;34m\u001b[0m\u001b[0;34m\u001b[0m\u001b[0;34m\u001b[0m\u001b[0m\n\u001b[1;32m     11\u001b[0m       \u001b[0;32mif\u001b[0m \u001b[0me\u001b[0m \u001b[0;34m==\u001b[0m \u001b[0mmotif\u001b[0m\u001b[0;34m[\u001b[0m\u001b[0mi\u001b[0m\u001b[0;34m]\u001b[0m\u001b[0;34m:\u001b[0m\u001b[0;34m\u001b[0m\u001b[0;34m\u001b[0m\u001b[0m\n",
            "\u001b[0;31mTypeError\u001b[0m: 'int' object is not iterable"
          ]
        }
      ]
    },
    {
      "cell_type": "markdown",
      "metadata": {
        "id": "y_BCCw1aNJ8o"
      },
      "source": [
        "## Question 4"
      ]
    },
    {
      "cell_type": "code",
      "metadata": {
        "id": "lPYElfndNODK"
      },
      "source": [
        "dataset_1 = pd.read_table(\"https://bitbucket.org/anesbendimerad/sigibbssamplingcode/raw/6699a50508fe177ee0c00dcc7d8e5390ee53688a/ItemsetDatasets/chess.txt\", sep=\" \",header=None)\n",
        "#dataset_2 = pd.read_table(\"https://bitbucket.org/anesbendimerad/sigibbssamplingcode/raw/6699a50508fe177ee0c00dcc7d8e5390ee53688a/ItemsetDatasets/kdd.txt\", sep=\" \",header=None,)\n",
        "dataset_3 = pd.read_table(\"https://bitbucket.org/anesbendimerad/sigibbssamplingcode/raw/6699a50508fe177ee0c00dcc7d8e5390ee53688a/ItemsetDatasets/mushrooms.txt\", sep=\" \",header=None)\n",
        "#dataset_4 = pd.read_table(\"http://www.philippe-fournier-viger.com/spmf/datasets/BMS1_spmf\", sep=\" \",header=None)"
      ],
      "execution_count": 89,
      "outputs": []
    }
  ]
}